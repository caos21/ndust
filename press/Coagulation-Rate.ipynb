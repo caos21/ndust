{
 "cells": [
  {
   "cell_type": "markdown",
   "metadata": {},
   "source": [
    "$\\newcommand{\\dx}{\\mathrm{d}x}$\n",
    "$\\newcommand{\\dy}{\\mathrm{d}y}$\n",
    "$\\newcommand{\\dz}{\\mathrm{d}z}$\n",
    "$\\newcommand{\\du}{\\mathrm{d}u}$\n",
    "$\\newcommand{\\dv}{\\mathrm{d}v}$\n",
    "$\\newcommand{\\dX}{\\mathrm{d}X}$\n",
    "$\\newcommand{\\dY}{\\mathrm{d}Y}$\n",
    "$\\newcommand{\\dZ}{\\mathrm{d}Z}$\n",
    "$\\newcommand{\\nm}{\\nano\\meter}$\n",
    "$\\newcommand{\\nmq}[1]{\\SI{#1}{\\nm}}$\n",
    "$\\newcommand{\\newq}[1]{\\SI{#1}{\\newton}}$\n",
    "$\\newcommand{\\kboltz}{k_{\\mathrm{B}}}$\n",
    "$\\newcommand{\\Deriv}[2]{\\frac{\\mathrm{d}#1}{\\mathrm{d}#2}}$\n",
    "$\\newcommand{\\Derivv}[2]{\\frac{\\mathrm{d}^2 #1}{\\mathrm{d}#2^2}}$\n",
    "$\\newcommand{\\PDeriv}[2]{\\frac{\\partial #1}{\\partial #2}}$\n",
    "$\\newcommand{\\half}{\\frac{1}{2}}$\n",
    "\n",
    "$\\newcommand{\\im}{\\mathrm{i}}$\n",
    "$\\newcommand{\\ee}{\\mathrm{e}}$\n",
    "$\\newcommand{\\del}{\\partial}$\n",
    "$\\newcommand{\\deta}{\\mathrm{d}\\eta}$\n",
    "$\\newcommand{\\ds}{\\mathrm{d}s}$\n",
    "$\\newcommand{\\eps}{\\varepsilon}$\n",
    "$\\newcommand{\\sgn}{\\mathrm{sgn}}$\n",
    "$\\newcommand{\\dt}{\\mathrm{d}t}$\n",
    "$\\newcommand{\\dtau}{\\mathrm{d}\\tau}$\n",
    "$\\newcommand{\\dd}{\\mathrm{d}}$\n",
    "$\\newcommand{\\Deriv}[2]{\\frac{\\dd#1}{\\dd#2}}$"
   ]
  },
  {
   "cell_type": "code",
   "execution_count": 1,
   "metadata": {},
   "outputs": [
    {
     "data": {
      "text/plain": [
       "<Figure size 1000x100 with 1 Axes>"
      ]
     },
     "metadata": {},
     "output_type": "display_data"
    }
   ],
   "source": [
    "import sys\n",
    "import sympy as sy\n",
    "from sympy.abc import *\n",
    "import numpy as np\n",
    "import matplotlib.pyplot as plt\n",
    "import matplotlib.cm as cm\n",
    "import matplotlib.ticker as mtick\n",
    "from matplotlib.mlab import griddata\n",
    "import matplotlib.colors as colors\n",
    "from matplotlib.ticker import MaxNLocator\n",
    "from matplotlib.colors import BoundaryNorm\n",
    "import mpmath as mp\n",
    "import seaborn as sns\n",
    "sns.set(font_scale = 2.0)\n",
    "import scipy as sci\n",
    "import scipy.special as special\n",
    "import scipy.constants as const\n",
    "import scipy.optimize as optimize\n",
    "from scipy.interpolate import interp1d\n",
    "import matplotlib as mpl\n",
    "mpl.rcParams['lines.linewidth'] = 2\n",
    "mpl.rc('font', family='DejaVu Sans')\n",
    "#mpl.rc('font', weight='bold')\n",
    "mpl.rcParams['axes.linewidth'] = 2\n",
    "mpl.rcParams['xtick.major.width'] = 2\n",
    "mpl.rcParams['ytick.major.width'] = 2\n",
    "#Customizations\n",
    "import matplotlib as mpl\n",
    "# mpl.rcParams['font.size'] = 16\n",
    "mpl.rcParams['lines.linewidth'] = 2\n",
    "mpl.rcParams['font.family'] = 'sans-serif'\n",
    "mpl.rcParams['font.sans-serif'] = ['Helvetica']\n",
    "# for Palatino and other serif fonts use:\n",
    "# rc('font',**{'family':'serif','serif':['Palatino']})\n",
    "mpl.rc('text', usetex=True)\n",
    "mpl.rcParams['text.latex.preamble'] = [\n",
    "       r'\\usepackage[version=4]{mhchem}',# chemical reactions\n",
    "       r'\\usepackage{siunitx}',   # i need upright \\micro symbols, but you need...\n",
    "       r'\\sisetup{detect-all}',   # ...this to force siunitx to actually use your fonts\n",
    "       r'\\usepackage{helvet}',    # set the normal font here\n",
    "       r'\\usepackage{sansmath}',  # load up the sansmath so that math -> helvet\n",
    "       r'\\sansmath'               # <- tricky! -- gotta actually tell tex to use!\n",
    "] \n",
    "sy.init_printing()\n",
    "import itertools as itt\n",
    "current_palette = sns.color_palette()\n",
    "#sbn.set_style('darkgrid', {'axes.linewidth': '1', 'axes.edgecolor': '0.15'})\n",
    "# sbn.set_style(\"whitegrid\", {'axes.grid' : False})\n",
    "#sbn.set_style(\"whitegrid\", {'axes.linewidth': '1', 'axes.edgecolor': '0.15'})\n",
    "sns.set_style(\"whitegrid\", {'axes.linewidth': '1', 'axes.edgecolor': '0.15',\n",
    "                            \"xtick.major.size\": 8, \"ytick.major.size\": 8,\n",
    "                            \"xtick.minor.size\": 4, \"ytick.minor.size\": 4})\n",
    "#sbn.palplot(current_palette = sbn.color_palette())\n",
    "sns.palplot(current_palette)\n",
    "plt.show()\n"
   ]
  },
  {
   "cell_type": "markdown",
   "metadata": {},
   "source": [
    "## Constants"
   ]
  },
  {
   "cell_type": "code",
   "execution_count": 2,
   "metadata": {},
   "outputs": [],
   "source": [
    "Temperature = 300.0# Particle temperature in Kelvin\n",
    "KT = const.Boltzmann*Temperature\n",
    "rho = 2.33*(1e-3/1e-6)# g/cm3 -> Kg/m3\n",
    "pi = const.pi\n",
    "eps0 = const.epsilon_0\n",
    "echarge = const.elementary_charge\n",
    "Ke = 1.0/(4.0*pi*eps0)\n",
    "Epsilon = 11.68"
   ]
  },
  {
   "cell_type": "markdown",
   "metadata": {},
   "source": [
    "## Functions"
   ]
  },
  {
   "cell_type": "code",
   "execution_count": 3,
   "metadata": {},
   "outputs": [],
   "source": [
    "def beta_free(vol1, vol2, temp=Temperature, rho=rho):\n",
    "    ''' Coagulation rate in the free molecular regime\n",
    "    '''   \n",
    "    beta0 = (3.0/(4.0*np.pi))**(1/6)*np.sqrt(6.0*const.Boltzmann *temp/rho)\n",
    "    return beta0 * np.sqrt(1.0/vol1 +1.0/vol2) * (vol1**(1.0/3.0)+vol2**(1.0/3.0))**2"
   ]
  },
  {
   "cell_type": "code",
   "execution_count": 4,
   "metadata": {},
   "outputs": [],
   "source": [
    "def volume_from_radius(radius):\n",
    "    ''' Compute volume from radius\n",
    "    '''\n",
    "    return (4.0 * pi * radius**3)/3.0"
   ]
  },
  {
   "cell_type": "code",
   "execution_count": 5,
   "metadata": {},
   "outputs": [],
   "source": [
    "def radius_from_volume(volume):\n",
    "    ''' Compute radius from volume\n",
    "    '''\n",
    "    return np.cbrt(volume/(pi*4.0/3.0))"
   ]
  },
  {
   "cell_type": "markdown",
   "metadata": {},
   "source": [
    "## Variables"
   ]
  },
  {
   "cell_type": "code",
   "execution_count": 6,
   "metadata": {},
   "outputs": [],
   "source": [
    "radii = np.linspace(0.5, 50.0, 500,endpoint=True)*1e-9# radii = 1 - 50 nm\n",
    "\n",
    "volumes = volume_from_radius(radii)\n",
    "\n",
    "rx, ry = np.meshgrid(radii*1e9, radii*1e9)\n",
    "dx, dy = 2.0*rx, 2.0*ry\n",
    "vx, vy = np.meshgrid(volumes, volumes)\n",
    "\n",
    "bf = beta_free(vx, vy)"
   ]
  },
  {
   "cell_type": "markdown",
   "metadata": {},
   "source": [
    "## Coagulation rate as a function of particle size"
   ]
  },
  {
   "cell_type": "code",
   "execution_count": 7,
   "metadata": {},
   "outputs": [],
   "source": [
    "def plot_beta():\n",
    "    fig, ax = plt.subplots(figsize=(7.5, 5.85))\n",
    "\n",
    "    levels = [5e-16, 1e-15, 2e-15, 5e-15, 1e-14, 2e-14, 5e-14, 5e-13]\n",
    "    cf = ax.contourf(dx, dy, bf, levels=levels, cmap=cm.gist_heat_r,  norm=colors.LogNorm(),\n",
    "                     vmin=levels[0], vmax=levels[-1])\n",
    "    cs = ax.contour(dx, dy, bf, levels=levels, origin='lower',\n",
    "                    colors='k', linewidths=1.5)\n",
    "    cb = fig.colorbar(cf, ax=ax, ticks=levels)\n",
    "    cb.add_lines(cs)\n",
    "    cb.ax.set_ylabel(r'Coagulation kernel $(\\text{m}^3\\text{s}^{-1})$', rotation=270, labelpad=30)\n",
    "    cb.ax.tick_params(labelsize=18)\n",
    "\n",
    "    ax.set_xlabel('Diameter of particle 1 (nm)')\n",
    "    ax.set_ylabel('Diameter of particle 2 (nm)', labelpad=-8)\n",
    "    xy=np.arange(0, 120, 20)\n",
    "    xy[0] = 1\n",
    "    plt.xticks(xy, xy)\n",
    "    plt.yticks(xy, xy)\n",
    "\n",
    "    cb.set_ticks(levels)\n",
    "    cb.set_ticklabels([r'$5{\\times}10^{-16}$', r'$1{\\times}10^{-15}$', r'$2{\\times}10^{-15}$', r'$5{\\times}10^{-15}$',\n",
    "                       r'$1{\\times}10^{-14}$', r'$2{\\times}10^{-14}$', r'$5{\\times}10^{-14}$', r'$5{\\times}10^{-13}$'])\n",
    "\n",
    "    plt.tight_layout()\n",
    "    #plt.savefig('fig1.eps')\n",
    "    plt.show()"
   ]
  },
  {
   "cell_type": "code",
   "execution_count": 8,
   "metadata": {},
   "outputs": [
    {
     "data": {
      "image/png": "[encoded data removed]",
      "text/latex": [
       "$$7.449512011897272e-13$$"
      ],
      "text/plain": [
       "7.449512011897272e-13"
      ]
     },
     "execution_count": 8,
     "metadata": {},
     "output_type": "execute_result"
    }
   ],
   "source": [
    "np.max(bf)"
   ]
  },
  {
   "cell_type": "code",
   "execution_count": 9,
   "metadata": {},
   "outputs": [
    {
     "data": {
      "image/png": "[encoded data removed]",
      "text/latex": [
       "$$4.131044271224351e-16$$"
      ],
      "text/plain": [
       "4.131044271224351e-16"
      ]
     },
     "execution_count": 9,
     "metadata": {},
     "output_type": "execute_result"
    }
   ],
   "source": [
    "np.min(bf)"
   ]
  },
  {
   "cell_type": "code",
   "execution_count": 10,
   "metadata": {},
   "outputs": [
    {
     "data": {
      "image/png": "[encoded data removed]",
      "text/plain": [
       "<Figure size 540x421.2 with 2 Axes>"
      ]
     },
     "metadata": {
      "needs_background": "light"
     },
     "output_type": "display_data"
    }
   ],
   "source": [
    "plot_beta()"
   ]
  },
  {
   "cell_type": "code",
   "execution_count": 11,
   "metadata": {},
   "outputs": [],
   "source": [
    "Nx = 40"
   ]
  },
  {
   "cell_type": "code",
   "execution_count": 12,
   "metadata": {},
   "outputs": [],
   "source": [
    "ivolumes = np.zeros(Nx+1)"
   ]
  },
  {
   "cell_type": "code",
   "execution_count": 13,
   "metadata": {},
   "outputs": [],
   "source": [
    "ivolumes[0] = 0.5"
   ]
  },
  {
   "cell_type": "code",
   "execution_count": 14,
   "metadata": {},
   "outputs": [],
   "source": [
    "ivolumes[Nx] = 1000.0"
   ]
  },
  {
   "cell_type": "code",
   "execution_count": 15,
   "metadata": {},
   "outputs": [],
   "source": [
    "dexp = (np.log10(ivolumes[Nx])-np.log10(ivolumes[0]))/float(Nx)"
   ]
  },
  {
   "cell_type": "code",
   "execution_count": 46,
   "metadata": {},
   "outputs": [
    {
     "data": {
      "image/png": "[encoded data removed]",
      "text/latex": [
       "$$0.08252574989159953$$"
      ],
      "text/plain": [
       "0.08252574989159953"
      ]
     },
     "execution_count": 46,
     "metadata": {},
     "output_type": "execute_result"
    }
   ],
   "source": [
    "dexp"
   ]
  },
  {
   "cell_type": "code",
   "execution_count": 47,
   "metadata": {},
   "outputs": [
    {
     "data": {
      "image/png": "[encoded data removed]",
      "text/latex": [
       "$$1.2092768804359744$$"
      ],
      "text/plain": [
       "1.2092768804359744"
      ]
     },
     "execution_count": 47,
     "metadata": {},
     "output_type": "execute_result"
    }
   ],
   "source": [
    "10.0**dexp"
   ]
  },
  {
   "cell_type": "code",
   "execution_count": 18,
   "metadata": {},
   "outputs": [],
   "source": [
    "for i in range(0, Nx+1):\n",
    "    ivolumes[i] = ivolumes[0]*10.0**(dexp*(i))"
   ]
  },
  {
   "cell_type": "code",
   "execution_count": 19,
   "metadata": {
    "scrolled": false
   },
   "outputs": [
    {
     "data": {
      "text/plain": [
       "array([5.00000000e-01, 6.04638440e-01, 7.31175287e-01, 8.84193370e-01,\n",
       "       1.06923460e+00, 1.29300068e+00, 1.56359583e+00, 1.89082029e+00,\n",
       "       2.28652526e+00, 2.76504213e+00, 3.34370152e+00, 4.04346095e+00,\n",
       "       4.88966384e+00, 5.91295744e+00, 7.15040272e+00, 8.64681670e+00,\n",
       "       1.04563955e+01, 1.26446774e+01, 1.52909160e+01, 1.84909512e+01,\n",
       "       2.23606798e+01, 2.70402531e+01, 3.26991529e+01, 3.95423296e+01,\n",
       "       4.78176250e+01, 5.78247484e+01, 6.99261313e+01, 8.45600540e+01,\n",
       "       1.02256518e+02, 1.23656443e+02, 1.49534878e+02, 1.80829071e+02,\n",
       "       2.18672415e+02, 2.64435496e+02, 3.19775731e+02, 3.86697399e+02,\n",
       "       4.67624224e+02, 5.65487163e+02, 6.83830552e+02, 8.26940477e+02,\n",
       "       1.00000000e+03])"
      ]
     },
     "execution_count": 19,
     "metadata": {},
     "output_type": "execute_result"
    }
   ],
   "source": [
    "ivolumes"
   ]
  },
  {
   "cell_type": "code",
   "execution_count": 20,
   "metadata": {},
   "outputs": [],
   "source": [
    "volumes = np.zeros(Nx+2)"
   ]
  },
  {
   "cell_type": "code",
   "execution_count": 21,
   "metadata": {},
   "outputs": [],
   "source": [
    "for i in range(1, Nx+1):\n",
    "    volumes[i] = 0.5*(ivolumes[i-1]+ivolumes[i])"
   ]
  },
  {
   "cell_type": "code",
   "execution_count": 22,
   "metadata": {},
   "outputs": [],
   "source": [
    "volumes[0] = 0"
   ]
  },
  {
   "cell_type": "code",
   "execution_count": 23,
   "metadata": {},
   "outputs": [],
   "source": [
    "volumes[Nx+1] = 100*volumes[Nx]"
   ]
  },
  {
   "cell_type": "code",
   "execution_count": 24,
   "metadata": {},
   "outputs": [
    {
     "name": "stderr",
     "output_type": "stream",
     "text": [
      "/opt/anaconda/lib/python3.6/site-packages/ipykernel_launcher.py:5: RuntimeWarning: divide by zero encountered in true_divide\n",
      "  \"\"\"\n",
      "/opt/anaconda/lib/python3.6/site-packages/ipykernel_launcher.py:5: RuntimeWarning: invalid value encountered in multiply\n",
      "  \"\"\"\n"
     ]
    }
   ],
   "source": [
    "radii = radius_from_volume(volumes)*1e-9\n",
    "\n",
    "volumes = volume_from_radius(radii)\n",
    "\n",
    "rx, ry = np.meshgrid(radii*1e9, radii*1e9)\n",
    "dx, dy = 2.0*rx, 2.0*ry\n",
    "vx, vy = np.meshgrid(volumes, volumes)\n",
    "\n",
    "bf = beta_free(vx, vy)"
   ]
  },
  {
   "cell_type": "code",
   "execution_count": 25,
   "metadata": {},
   "outputs": [
    {
     "data": {
      "text/plain": [
       "array([0.00000000e+00, 5.08979764e-10, 5.42261909e-10, 5.77720372e-10,\n",
       "       6.15497461e-10, 6.55744790e-10, 6.98623889e-10, 7.44306849e-10,\n",
       "       7.92977014e-10, 8.44829718e-10, 9.00073065e-10, 9.58928770e-10,\n",
       "       1.02163305e-09, 1.08843755e-09, 1.15961039e-09, 1.23543722e-09,\n",
       "       1.31622236e-09, 1.40229004e-09, 1.49398567e-09, 1.59167727e-09,\n",
       "       1.69575692e-09, 1.80664233e-09, 1.92477853e-09, 2.05063964e-09,\n",
       "       2.18473080e-09, 2.32759017e-09, 2.47979111e-09, 2.64194445e-09,\n",
       "       2.81470098e-09, 2.99875405e-09, 3.19484234e-09, 3.40375282e-09,\n",
       "       3.62632395e-09, 3.86344898e-09, 4.11607960e-09, 4.38522971e-09,\n",
       "       4.67197953e-09, 4.97747989e-09, 5.30295690e-09, 5.64971683e-09,\n",
       "       6.01915136e-09, 2.79384257e-08])"
      ]
     },
     "execution_count": 25,
     "metadata": {},
     "output_type": "execute_result"
    }
   ],
   "source": [
    "radii"
   ]
  },
  {
   "cell_type": "code",
   "execution_count": 26,
   "metadata": {
    "scrolled": true
   },
   "outputs": [
    {
     "data": {
      "image/png": "[encoded data removed]",
      "text/plain": [
       "<Figure size 540x421.2 with 2 Axes>"
      ]
     },
     "metadata": {
      "needs_background": "light"
     },
     "output_type": "display_data"
    }
   ],
   "source": [
    "plot_beta()"
   ]
  },
  {
   "cell_type": "code",
   "execution_count": null,
   "metadata": {},
   "outputs": [],
   "source": [
    "radii = radius_from_volume(volumes)\n",
    "#np.linspace(0.5, 50.0, 500,endpoint=True)*1e-9# radii = 1 - 50 nm"
   ]
  },
  {
   "cell_type": "code",
   "execution_count": 27,
   "metadata": {},
   "outputs": [
    {
     "name": "stderr",
     "output_type": "stream",
     "text": [
      "/opt/anaconda/lib/python3.6/site-packages/ipykernel_launcher.py:5: RuntimeWarning: divide by zero encountered in true_divide\n",
      "  \"\"\"\n",
      "/opt/anaconda/lib/python3.6/site-packages/ipykernel_launcher.py:5: RuntimeWarning: invalid value encountered in multiply\n",
      "  \"\"\"\n"
     ]
    }
   ],
   "source": [
    "rx, ry = np.meshgrid(radii*1e9, radii*1e9)\n",
    "dx, dy = 2.0*rx, 2.0*ry\n",
    "vx, vy = np.meshgrid(volumes, volumes)\n",
    "\n",
    "bf = beta_free(vx, vy)"
   ]
  },
  {
   "cell_type": "code",
   "execution_count": 28,
   "metadata": {},
   "outputs": [
    {
     "data": {
      "text/plain": [
       "array([0.00000000e+00, 5.08979764e-10, 5.42261909e-10, 5.77720372e-10,\n",
       "       6.15497461e-10, 6.55744790e-10, 6.98623889e-10, 7.44306849e-10,\n",
       "       7.92977014e-10, 8.44829718e-10, 9.00073065e-10, 9.58928770e-10,\n",
       "       1.02163305e-09, 1.08843755e-09, 1.15961039e-09, 1.23543722e-09,\n",
       "       1.31622236e-09, 1.40229004e-09, 1.49398567e-09, 1.59167727e-09,\n",
       "       1.69575692e-09, 1.80664233e-09, 1.92477853e-09, 2.05063964e-09,\n",
       "       2.18473080e-09, 2.32759017e-09, 2.47979111e-09, 2.64194445e-09,\n",
       "       2.81470098e-09, 2.99875405e-09, 3.19484234e-09, 3.40375282e-09,\n",
       "       3.62632395e-09, 3.86344898e-09, 4.11607960e-09, 4.38522971e-09,\n",
       "       4.67197953e-09, 4.97747989e-09, 5.30295690e-09, 5.64971683e-09,\n",
       "       6.01915136e-09, 2.79384257e-08])"
      ]
     },
     "execution_count": 28,
     "metadata": {},
     "output_type": "execute_result"
    }
   ],
   "source": [
    "radii"
   ]
  },
  {
   "cell_type": "code",
   "execution_count": 29,
   "metadata": {},
   "outputs": [
    {
     "data": {
      "text/plain": [
       "array([  1,   2,   4,   8,  16,  32,  64, 128, 256, 512])"
      ]
     },
     "execution_count": 29,
     "metadata": {},
     "output_type": "execute_result"
    }
   ],
   "source": [
    "np.power(2, range(10))"
   ]
  },
  {
   "cell_type": "code",
   "execution_count": 30,
   "metadata": {},
   "outputs": [
    {
     "data": {
      "text/plain": [
       "array([0.00000000e+00, 5.52319220e-28, 6.67906863e-28, 8.07684328e-28,\n",
       "       9.76713985e-28, 1.18111764e-27, 1.42829826e-27, 1.72720806e-27,\n",
       "       2.08867277e-27, 2.52578370e-27, 3.05437183e-27, 3.69358124e-27,\n",
       "       4.46656240e-27, 5.40131064e-27, 6.53168008e-27, 7.89860971e-27,\n",
       "       9.55160611e-27, 1.15505364e-26, 1.39677967e-26, 1.68909336e-26,\n",
       "       2.04258155e-26, 2.47004664e-26, 2.98697030e-26, 3.61207412e-26,\n",
       "       4.36799773e-26, 5.28211867e-26, 6.38754399e-26, 7.72430926e-26,\n",
       "       9.34082861e-26, 1.12956481e-25, 1.36595661e-25, 1.65181975e-25,\n",
       "       1.99750743e-25, 2.41553955e-25, 2.92105613e-25, 3.53236565e-25,\n",
       "       4.27160811e-25, 5.16555693e-25, 6.24658857e-25, 7.55385514e-25,\n",
       "       9.13470238e-25, 9.13470238e-23])"
      ]
     },
     "execution_count": 30,
     "metadata": {},
     "output_type": "execute_result"
    }
   ],
   "source": [
    "volumes"
   ]
  },
  {
   "cell_type": "code",
   "execution_count": 31,
   "metadata": {},
   "outputs": [],
   "source": [
    "vmin = volume_from_radius(0.5e-9)"
   ]
  },
  {
   "cell_type": "code",
   "execution_count": 32,
   "metadata": {},
   "outputs": [
    {
     "data": {
      "image/png": "[encoded data removed]",
      "text/latex": [
       "$$5.235987755982989e-28$$"
      ],
      "text/plain": [
       "5.235987755982989e-28"
      ]
     },
     "execution_count": 32,
     "metadata": {},
     "output_type": "execute_result"
    }
   ],
   "source": [
    "vmin"
   ]
  },
  {
   "cell_type": "code",
   "execution_count": 33,
   "metadata": {},
   "outputs": [],
   "source": [
    "base = 10"
   ]
  },
  {
   "cell_type": "code",
   "execution_count": 34,
   "metadata": {},
   "outputs": [
    {
     "data": {
      "image/png": "[encoded data removed]",
      "text/latex": [
       "$$10$$"
      ],
      "text/plain": [
       "10"
      ]
     },
     "execution_count": 34,
     "metadata": {},
     "output_type": "execute_result"
    }
   ],
   "source": [
    "base"
   ]
  },
  {
   "cell_type": "code",
   "execution_count": 48,
   "metadata": {},
   "outputs": [
    {
     "data": {
      "image/png": "[encoded data removed]",
      "text/latex": [
       "$$0.08252574989159953$$"
      ],
      "text/plain": [
       "0.08252574989159953"
      ]
     },
     "execution_count": 48,
     "metadata": {},
     "output_type": "execute_result"
    }
   ],
   "source": [
    "dexp"
   ]
  },
  {
   "cell_type": "code",
   "execution_count": 49,
   "metadata": {},
   "outputs": [],
   "source": [
    "power = 1.0*dexp"
   ]
  },
  {
   "cell_type": "code",
   "execution_count": 36,
   "metadata": {},
   "outputs": [
    {
     "data": {
      "image/png": "[encoded data removed]",
      "text/latex": [
       "$$0.08252574989159953$$"
      ],
      "text/plain": [
       "0.08252574989159953"
      ]
     },
     "execution_count": 36,
     "metadata": {},
     "output_type": "execute_result"
    }
   ],
   "source": [
    "power"
   ]
  },
  {
   "cell_type": "code",
   "execution_count": 37,
   "metadata": {},
   "outputs": [],
   "source": [
    "minvoliface = 2.0*vmin/(1.0+base**power) #vmin = (vo+v1)/2 = vo+base*vo/2"
   ]
  },
  {
   "cell_type": "code",
   "execution_count": 38,
   "metadata": {},
   "outputs": [
    {
     "data": {
      "image/png": "[encoded data removed]",
      "text/latex": [
       "$$4.740001402585383e-28$$"
      ],
      "text/plain": [
       "4.740001402585383e-28"
      ]
     },
     "execution_count": 38,
     "metadata": {},
     "output_type": "execute_result"
    }
   ],
   "source": [
    "minvoliface"
   ]
  },
  {
   "cell_type": "code",
   "execution_count": 39,
   "metadata": {},
   "outputs": [],
   "source": [
    "ifaces = minvoliface*np.power(base, power*np.arange(0, Nx+1))"
   ]
  },
  {
   "cell_type": "code",
   "execution_count": 40,
   "metadata": {},
   "outputs": [
    {
     "data": {
      "text/plain": [
       "array([4.74000140e-28, 5.73197411e-28, 6.93154377e-28, 8.38215563e-28,\n",
       "       1.01363470e-27, 1.22576501e-27, 1.48228929e-27, 1.79249816e-27,\n",
       "       2.16762659e-27, 2.62126072e-27, 3.16982998e-27, 3.83320211e-27,\n",
       "       4.63540269e-27, 5.60548531e-27, 6.77858379e-27, 8.19718466e-27,\n",
       "       9.91266589e-27, 1.19871577e-26, 1.44957927e-26, 1.75294269e-26,\n",
       "       2.11979307e-26, 2.56341675e-26, 3.09988061e-26, 3.74861396e-26,\n",
       "       4.53311219e-26, 5.48178777e-26, 6.62899921e-26, 8.01629549e-26,\n",
       "       9.69392080e-26, 1.17226343e-25, 1.41759106e-25, 1.71426010e-25,\n",
       "       2.07301511e-25, 2.50684924e-25, 3.03147483e-25, 3.66589242e-25,\n",
       "       4.43307895e-25, 5.36081989e-25, 6.48271555e-25, 7.83939804e-25,\n",
       "       9.48000281e-25])"
      ]
     },
     "execution_count": 40,
     "metadata": {},
     "output_type": "execute_result"
    }
   ],
   "source": [
    "ifaces"
   ]
  },
  {
   "cell_type": "code",
   "execution_count": 41,
   "metadata": {},
   "outputs": [],
   "source": [
    "vols = 0.5*(ifaces[1:]+ifaces[:-1])"
   ]
  },
  {
   "cell_type": "code",
   "execution_count": 42,
   "metadata": {},
   "outputs": [],
   "source": [
    "rads = radius_from_volume(vols)"
   ]
  },
  {
   "cell_type": "code",
   "execution_count": 43,
   "metadata": {},
   "outputs": [
    {
     "data": {
      "text/plain": [
       "array([0.5       , 0.53269496, 0.56752784, 0.60463844, 0.6441757 ,\n",
       "       0.6862983 , 0.73117529, 0.77898678, 0.82992466, 0.88419337,\n",
       "       0.9420107 , 1.00360871, 1.0692346 , 1.13915176, 1.21364081,\n",
       "       1.29300068, 1.37754989, 1.46762777, 1.56359583, 1.66583924,\n",
       "       1.77476833, 1.89082029, 2.01446087, 2.14618631, 2.28652526,\n",
       "       2.43604096, 2.59533349, 2.76504213, 2.94584802, 3.13847678,\n",
       "       3.34370152, 3.5623459 , 3.79528741, 4.04346095, 4.30786254,\n",
       "       4.58955332, 4.88966384, 5.20939857, 5.55004072, 5.91295744])"
      ]
     },
     "execution_count": 43,
     "metadata": {},
     "output_type": "execute_result"
    }
   ],
   "source": [
    "rads*1e9"
   ]
  },
  {
   "cell_type": "code",
   "execution_count": 44,
   "metadata": {},
   "outputs": [
    {
     "data": {
      "image/png": "[encoded data removed]",
      "text/latex": [
       "$$0.08252574989159953$$"
      ],
      "text/plain": [
       "0.08252574989159953"
      ]
     },
     "execution_count": 44,
     "metadata": {},
     "output_type": "execute_result"
    }
   ],
   "source": [
    "dexp"
   ]
  },
  {
   "cell_type": "code",
   "execution_count": 50,
   "metadata": {},
   "outputs": [
    {
     "data": {
      "text/plain": [
       "array([5.23598776e-28, 6.33175894e-28, 7.65684970e-28, 9.25925132e-28,\n",
       "       1.11969985e-27, 1.35402715e-27, 1.63739372e-27, 1.98006238e-27,\n",
       "       2.39444365e-27, 2.89554535e-27, 3.50151605e-27, 4.23430240e-27,\n",
       "       5.12044400e-27, 6.19203455e-27, 7.48788422e-27, 9.05492527e-27,\n",
       "       1.09499118e-26, 1.32414752e-26, 1.60126098e-26, 1.93636788e-26,\n",
       "       2.34160491e-26, 2.83164868e-26, 3.42424728e-26, 4.14086307e-26,\n",
       "       5.00744998e-26, 6.05539349e-26, 7.32264735e-26, 8.85510814e-26,\n",
       "       1.07082776e-25, 1.29492725e-25, 1.56592558e-25, 1.89363760e-25,\n",
       "       2.28993217e-25, 2.76916203e-25, 3.34868363e-25, 4.04948569e-25,\n",
       "       4.89694942e-25, 5.92176772e-25, 7.16105680e-25, 8.65970042e-25])"
      ]
     },
     "execution_count": 50,
     "metadata": {},
     "output_type": "execute_result"
    }
   ],
   "source": [
    "vols"
   ]
  },
  {
   "cell_type": "code",
   "execution_count": 51,
   "metadata": {},
   "outputs": [
    {
     "data": {
      "text/plain": [
       "array([0.00000000e+00, 5.52319220e-28, 6.67906863e-28, 8.07684328e-28,\n",
       "       9.76713985e-28, 1.18111764e-27, 1.42829826e-27, 1.72720806e-27,\n",
       "       2.08867277e-27, 2.52578370e-27, 3.05437183e-27, 3.69358124e-27,\n",
       "       4.46656240e-27, 5.40131064e-27, 6.53168008e-27, 7.89860971e-27,\n",
       "       9.55160611e-27, 1.15505364e-26, 1.39677967e-26, 1.68909336e-26,\n",
       "       2.04258155e-26, 2.47004664e-26, 2.98697030e-26, 3.61207412e-26,\n",
       "       4.36799773e-26, 5.28211867e-26, 6.38754399e-26, 7.72430926e-26,\n",
       "       9.34082861e-26, 1.12956481e-25, 1.36595661e-25, 1.65181975e-25,\n",
       "       1.99750743e-25, 2.41553955e-25, 2.92105613e-25, 3.53236565e-25,\n",
       "       4.27160811e-25, 5.16555693e-25, 6.24658857e-25, 7.55385514e-25,\n",
       "       9.13470238e-25, 9.13470238e-23])"
      ]
     },
     "execution_count": 51,
     "metadata": {},
     "output_type": "execute_result"
    }
   ],
   "source": [
    "volumes"
   ]
  },
  {
   "cell_type": "code",
   "execution_count": 52,
   "metadata": {},
   "outputs": [
    {
     "data": {
      "image/png": "[encoded data removed]",
      "text/latex": [
       "$$1.2092768804359744$$"
      ],
      "text/plain": [
       "1.2092768804359744"
      ]
     },
     "execution_count": 52,
     "metadata": {},
     "output_type": "execute_result"
    }
   ],
   "source": [
    "10**dexp"
   ]
  },
  {
   "cell_type": "code",
   "execution_count": 58,
   "metadata": {},
   "outputs": [
    {
     "data": {
      "image/png": "[encoded data removed]",
      "text/latex": [
       "$$5.264567854665307e-12$$"
      ],
      "text/plain": [
       "5.264567854665307e-12"
      ]
     },
     "execution_count": 58,
     "metadata": {},
     "output_type": "execute_result"
    }
   ],
   "source": [
    "(3.0/(4.0*np.pi))**(1/6)*np.sqrt(6.0*const.Boltzmann *Temperature/rho)*np.sqrt(volume_from_radius(1))*1"
   ]
  },
  {
   "cell_type": "code",
   "execution_count": 59,
   "metadata": {},
   "outputs": [
    {
     "data": {
      "image/png": "[encoded data removed]",
      "text/latex": [
       "$$0.73$$"
      ],
      "text/plain": [
       "0.73"
      ]
     },
     "execution_count": 59,
     "metadata": {},
     "output_type": "execute_result"
    }
   ],
   "source": [
    "1e16*7.3e-17"
   ]
  },
  {
   "cell_type": "code",
   "execution_count": 77,
   "metadata": {},
   "outputs": [],
   "source": [
    "r0 = 0.5e-9"
   ]
  },
  {
   "cell_type": "code",
   "execution_count": 78,
   "metadata": {},
   "outputs": [],
   "source": [
    "v0 = volume_from_radius(r0)"
   ]
  },
  {
   "cell_type": "code",
   "execution_count": 79,
   "metadata": {},
   "outputs": [
    {
     "data": {
      "image/png": "[encoded data removed]",
      "text/latex": [
       "$$5.235987755982989e-28$$"
      ],
      "text/plain": [
       "5.235987755982989e-28"
      ]
     },
     "execution_count": 79,
     "metadata": {},
     "output_type": "execute_result"
    }
   ],
   "source": [
    "v0"
   ]
  },
  {
   "cell_type": "code",
   "execution_count": 84,
   "metadata": {},
   "outputs": [
    {
     "data": {
      "image/png": "[encoded data removed]",
      "text/latex": [
       "$$1.0925484305920791e-05$$"
      ],
      "text/plain": [
       "1.0925484305920791e-05"
      ]
     },
     "execution_count": 84,
     "metadata": {},
     "output_type": "execute_result"
    }
   ],
   "source": [
    "(r0**2/np.sqrt(v0))"
   ]
  },
  {
   "cell_type": "code",
   "execution_count": 80,
   "metadata": {},
   "outputs": [
    {
     "data": {
      "image/png": "[encoded data removed]",
      "text/latex": [
       "$$3.568129067287717e-17$$"
      ],
      "text/plain": [
       "3.568129067287717e-17"
      ]
     },
     "execution_count": 80,
     "metadata": {},
     "output_type": "execute_result"
    }
   ],
   "source": [
    "(r0**2/np.sqrt(v0))*np.sqrt(6.0*const.Boltzmann*Temperature/rho)"
   ]
  },
  {
   "cell_type": "code",
   "execution_count": 81,
   "metadata": {},
   "outputs": [
    {
     "data": {
      "image/png": "[encoded data removed]",
      "text/latex": [
       "$$306196443567.1523$$"
      ],
      "text/plain": [
       "306196443567.1523"
      ]
     },
     "execution_count": 81,
     "metadata": {},
     "output_type": "execute_result"
    }
   ],
   "source": [
    "1/np.sqrt(6.0*const.Boltzmann *Temperature/rho)"
   ]
  },
  {
   "cell_type": "code",
   "execution_count": 67,
   "metadata": {},
   "outputs": [
    {
     "data": {
      "image/png": "[encoded data removed]",
      "text/latex": [
       "$$91529.1232863769$$"
      ],
      "text/plain": [
       "91529.1232863769"
      ]
     },
     "execution_count": 67,
     "metadata": {},
     "output_type": "execute_result"
    }
   ],
   "source": [
    "1/((0.5e-9)**2/volume_from_radius(0.5e-9)**(1/2))"
   ]
  },
  {
   "cell_type": "markdown",
   "metadata": {},
   "source": [
    "## i, j, k, m, l, n"
   ]
  },
  {
   "cell_type": "markdown",
   "metadata": {},
   "source": [
    "## l, q, p, m, r, n"
   ]
  },
  {
   "cell_type": "markdown",
   "metadata": {},
   "source": [
    "## m = p"
   ]
  },
  {
   "cell_type": "markdown",
   "metadata": {},
   "source": [
    "## n = n"
   ]
  },
  {
   "cell_type": "markdown",
   "metadata": {},
   "source": [
    "## k = m"
   ]
  },
  {
   "cell_type": "markdown",
   "metadata": {},
   "source": [
    "## l = r"
   ]
  },
  {
   "cell_type": "code",
   "execution_count": 86,
   "metadata": {},
   "outputs": [
    {
     "data": {
      "image/png": "[encoded data removed]",
      "text/latex": [
       "$$5.97135e-15$$"
      ],
      "text/plain": [
       "5.97135e-15"
      ]
     },
     "execution_count": 86,
     "metadata": {},
     "output_type": "execute_result"
    }
   ],
   "source": [
    "0.5*1.19427e-14"
   ]
  },
  {
   "cell_type": "code",
   "execution_count": 87,
   "metadata": {},
   "outputs": [
    {
     "data": {
      "image/png": "[encoded data removed]",
      "text/latex": [
       "$$3.992945e-18$$"
      ],
      "text/plain": [
       "3.992945e-18"
      ]
     },
     "execution_count": 87,
     "metadata": {},
     "output_type": "execute_result"
    }
   ],
   "source": [
    "0.5*7.98589e-18"
   ]
  },
  {
   "cell_type": "code",
   "execution_count": 88,
   "metadata": {},
   "outputs": [
    {
     "data": {
      "image/png": "[encoded data removed]",
      "text/latex": [
       "$$4.73209e-16$$"
      ],
      "text/plain": [
       "4.73209e-16"
      ]
     },
     "execution_count": 88,
     "metadata": {},
     "output_type": "execute_result"
    }
   ],
   "source": [
    "0.5*9.46418e-16"
   ]
  },
  {
   "cell_type": "code",
   "execution_count": 92,
   "metadata": {},
   "outputs": [
    {
     "data": {
      "image/png": "[encoded data removed]",
      "text/latex": [
       "$$6.299605249474365$$"
      ],
      "text/plain": [
       "6.299605249474365"
      ]
     },
     "execution_count": 92,
     "metadata": {},
     "output_type": "execute_result"
    }
   ],
   "source": [
    "radius_from_volume(2000*v0)*1e9"
   ]
  },
  {
   "cell_type": "code",
   "execution_count": 95,
   "metadata": {},
   "outputs": [],
   "source": [
    "def comb(nv, nq):\n",
    "    return nv*nq*nv*nq"
   ]
  },
  {
   "cell_type": "code",
   "execution_count": 102,
   "metadata": {},
   "outputs": [
    {
     "data": {
      "image/png": "[encoded data removed]",
      "text/latex": [
       "$$7840000$$"
      ],
      "text/plain": [
       "7840000"
      ]
     },
     "execution_count": 102,
     "metadata": {},
     "output_type": "execute_result"
    }
   ],
   "source": [
    "comb(50, 56)"
   ]
  },
  {
   "cell_type": "code",
   "execution_count": 106,
   "metadata": {},
   "outputs": [],
   "source": [
    "xfv = 1291257100"
   ]
  },
  {
   "cell_type": "code",
   "execution_count": 107,
   "metadata": {},
   "outputs": [],
   "source": [
    "xbs = 3771157600"
   ]
  },
  {
   "cell_type": "code",
   "execution_count": 108,
   "metadata": {},
   "outputs": [
    {
     "data": {
      "image/png": "[encoded data removed]",
      "text/latex": [
       "$$2.920531937442977$$"
      ],
      "text/plain": [
       "2.920531937442977"
      ]
     },
     "execution_count": 108,
     "metadata": {},
     "output_type": "execute_result"
    }
   ],
   "source": [
    "xbs/xfv"
   ]
  },
  {
   "cell_type": "code",
   "execution_count": 109,
   "metadata": {},
   "outputs": [
    {
     "data": {
      "image/png": "[encoded data removed]",
      "text/latex": [
       "$$2.8503870567356584$$"
      ],
      "text/plain": [
       "2.8503870567356584"
      ]
     },
     "execution_count": 109,
     "metadata": {},
     "output_type": "execute_result"
    }
   ],
   "source": [
    "0.523599/.183694"
   ]
  },
  {
   "cell_type": "markdown",
   "metadata": {},
   "source": [
    "### Titre\n",
    "$$\\begin{align}\n",
    "\\Omega_{ij} = \\{\n",
    "1 &\\leq k \\leq i, \\\\\n",
    "1 &\\leq l \\leq N_Q, \\\\\n",
    "1 &\\leq r \\leq N_Q, \\\\\n",
    "1 &\\leq q \\leq i \\}, \\\\\n",
    "\\end{align}\n",
    "$$\n",
    "\n",
    "$$\\begin{align}\n",
    "\\text{Birth} = \\sum_{\\Omega_{ij}}\\frac{1}{2}\\eta_{ij}\\beta_{klqr}N_{kl}N_{qr}\n",
    "\\end{align}\n",
    "$$\n",
    "\n",
    "$$\\begin{align}\n",
    " \\eta_{ij} = \\left\\{\n",
    " \\begin{array}{lr}\n",
    " \\delta(q_j,q_l+q_r)\\frac{\\tilde{v}_{i+1}-v}{\\tilde{v}_{i+1}-\\tilde{v}_{i}} & \\tilde{v}_{i} \\leq v \\leq \\tilde{v}_{i+1}, \\\\\n",
    " \\delta(q_j,q_l+q_r)\\frac{v-\\tilde{v}_{i-1}}{\\tilde{v}_{i}-\\tilde{v}_{i-1}} & \\tilde{v}_{i-1} \\leq v \\leq \\tilde{v}_{i},\n",
    " \\end{array}\n",
    " \\right.\n",
    "\\end{align}\n",
    "$$\n",
    "\n",
    "\n",
    "\n",
    "\n",
    "$$\\begin{align}\n",
    "\\text{Death} = N_{ij}\\sum_{k=1}^{N_V-1}\\sum_{l=1}^{N_Q}\\beta_{ijkl}N_{kl}\n",
    "\\end{align}\n",
    "$$\n",
    "\n",
    "$$ Q_\\text{min} \\leq q_j + q_l \\leq Q_\\text{max}, \n",
    "$$"
   ]
  },
  {
   "cell_type": "markdown",
   "metadata": {},
   "source": [
    "$$\\begin{align}\n",
    "\\Deriv{N_{ij}}{t} &= B_{ij} + N_{ij} D_{ij} + G_{ij}\\\\\n",
    "\\frac{N^{k+1}_{ij}- N^k_{ij}}{\\Delta t} &\\approx B^k_{ij} + N^{k+1}_{ij} D^k_{ij} + G^k_{ij}\\\\\n",
    "N^{k+1}_{ij}  &= \\frac{N^k_{ij} + \\Delta t \\left( B^k_{ij} + G_{ij}\\right )}{1+ \\Delta tD^k_{ij}}\\\\\n",
    "\\end{align}$$"
   ]
  },
  {
   "cell_type": "code",
   "execution_count": 45,
   "metadata": {},
   "outputs": [],
   "source": [
    "\n",
    "  # the minimum volume interface that gives vmin = (v0+v1)/2\n",
    "\n",
    "# Create sections\n",
    "\n",
    "  #\n",
    "\n",
    "\n",
    "diams = 2.0*rads"
   ]
  }
 ],
 "metadata": {
  "kernelspec": {
   "display_name": "Python 3",
   "language": "python",
   "name": "python3"
  },
  "language_info": {
   "codemirror_mode": {
    "name": "ipython",
    "version": 3
   },
   "file_extension": ".py",
   "mimetype": "text/x-python",
   "name": "python",
   "nbconvert_exporter": "python",
   "pygments_lexer": "ipython3",
   "version": "3.6.6"
  }
 },
 "nbformat": 4,
 "nbformat_minor": 2
}
