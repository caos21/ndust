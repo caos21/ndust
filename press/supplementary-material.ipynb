{
 "cells": [
  {
   "cell_type": "markdown",
   "metadata": {},
   "source": [
    "$\\newcommand{\\dx}{\\mathrm{d}x}$\n",
    "$\\newcommand{\\dy}{\\mathrm{d}y}$\n",
    "$\\newcommand{\\dz}{\\mathrm{d}z}$\n",
    "$\\newcommand{\\du}{\\mathrm{d}u}$\n",
    "$\\newcommand{\\dv}{\\mathrm{d}v}$\n",
    "$\\newcommand{\\dX}{\\mathrm{d}X}$\n",
    "$\\newcommand{\\dY}{\\mathrm{d}Y}$\n",
    "$\\newcommand{\\dZ}{\\mathrm{d}Z}$\n",
    "$\\newcommand{\\nm}{\\nano\\meter}$\n",
    "$\\newcommand{\\nmq}[1]{\\SI{#1}{\\nm}}$\n",
    "$\\newcommand{\\newq}[1]{\\SI{#1}{\\newton}}$\n",
    "$\\newcommand{\\kboltz}{k_{\\mathrm{B}}}$\n",
    "$\\newcommand{\\Deriv}[2]{\\frac{\\mathrm{d}#1}{\\mathrm{d}#2}}$\n",
    "$\\newcommand{\\Derivv}[2]{\\frac{\\mathrm{d}^2 #1}{\\mathrm{d}#2^2}}$\n",
    "$\\newcommand{\\PDeriv}[2]{\\frac{\\partial #1}{\\partial #2}}$\n",
    "$\\newcommand{\\half}{\\frac{1}{2}}$\n",
    "\n",
    "$\\newcommand{\\im}{\\mathrm{i}}$\n",
    "$\\newcommand{\\ee}{\\mathrm{e}}$\n",
    "$\\newcommand{\\del}{\\partial}$\n",
    "$\\newcommand{\\deta}{\\mathrm{d}\\eta}$\n",
    "$\\newcommand{\\ds}{\\mathrm{d}s}$\n",
    "$\\newcommand{\\eps}{\\varepsilon}$\n",
    "$\\newcommand{\\sgn}{\\mathrm{sgn}}$\n",
    "$\\newcommand{\\dt}{\\mathrm{d}t}$\n",
    "$\\newcommand{\\dtau}{\\mathrm{d}\\tau}$\n",
    "$\\newcommand{\\dd}{\\mathrm{d}}$"
   ]
  },
  {
   "cell_type": "code",
   "execution_count": 1,
   "metadata": {
    "collapsed": true
   },
   "outputs": [],
   "source": [
    "%load_ext autoreload\n",
    "%autoreload 2"
   ]
  },
  {
   "cell_type": "code",
   "execution_count": 2,
   "metadata": {},
   "outputs": [
    {
     "data": {
      "image/png": "[encoded data removed]",
      "text/plain": [
       "<matplotlib.figure.Figure at 0x7f074ebfbef0>"
      ]
     },
     "metadata": {},
     "output_type": "display_data"
    }
   ],
   "source": [
    "import numpy as np\n",
    "import matplotlib.pyplot as plt\n",
    "import matplotlib.cm as cm\n",
    "import matplotlib.ticker as mtick\n",
    "from matplotlib.mlab import griddata\n",
    "import matplotlib.colors as colors\n",
    "from matplotlib.ticker import MaxNLocator\n",
    "from matplotlib.colors import BoundaryNorm\n",
    "import mpmath as mp\n",
    "import scipy as sci\n",
    "import scipy.special as special\n",
    "import scipy.constants as const\n",
    "import scipy.optimize as optimize\n",
    "import seaborn as sns\n",
    "sns.set(font_scale = 2)\n",
    "#sns.set_style(\"ticks\")\n",
    "# Customizations\n",
    "import matplotlib as mpl\n",
    "mpl.rcParams['lines.linewidth'] = 2\n",
    "mpl.rc('font', family='DejaVu Sans')\n",
    "#mpl.rc('font', weight='bold')\n",
    "mpl.rcParams['axes.linewidth'] = 2\n",
    "mpl.rcParams['xtick.major.width'] = 2\n",
    "mpl.rcParams['ytick.major.width'] = 2\n",
    "#Customizations\n",
    "#import matplotlib as mpl\n",
    "# mpl.rcParams['font.size'] = 16\n",
    "mpl.rcParams['lines.linewidth'] = 2\n",
    "mpl.rcParams['font.family'] = 'sans-serif'\n",
    "mpl.rcParams['font.sans-serif'] = ['Helvetica']\n",
    "mpl.rcParams['mathtext.rm'] = 'Bitstream Vera Sans'\n",
    "# for Palatino and other serif fonts use:\n",
    "# rc('font',**{'family':'serif','serif':['Palatino']})\n",
    "mpl.rc('text', usetex=True)\n",
    "mpl.rcParams['text.latex.preamble'] = [\n",
    "       r'\\usepackage[version=4]{mhchem}',# chemical reactions\n",
    "       r'\\usepackage{siunitx}',   # i need upright \\micro symbols, but you need...\n",
    "       r'\\sisetup{detect-all}',   # ...this to force siunitx to actually use your fonts\n",
    "       r'\\usepackage{helvet}',    # set the normal font here\n",
    "       r'\\usepackage{sansmath}',  # load up the sansmath so that math -> helvet\n",
    "       r'\\sansmath',               # <- tricky! -- gotta actually tell tex to use!\n",
    "       r'\\usepackage{textgreek}'\n",
    "] \n",
    "from IPython.display import display, Math, Latex\n",
    "import dynamic_charging as dyn\n",
    "current_palette = sns.color_palette()\n",
    "sns.set_style(\"whitegrid\", {'axes.linewidth': '1', 'axes.edgecolor': '0.15',\n",
    "                            \"xtick.major.size\": 8, \"ytick.major.size\": 8,\n",
    "                            \"xtick.minor.size\": 4, \"ytick.minor.size\": 4})\n",
    "sns.palplot(current_palette)\n",
    "plt.show()"
   ]
  },
  {
   "cell_type": "code",
   "execution_count": 3,
   "metadata": {
    "collapsed": true
   },
   "outputs": [],
   "source": [
    "class MinorSymLogLocator(mtick.Locator):\n",
    "    \"\"\"\n",
    "    Dynamically find minor tick positions based on the positions of\n",
    "    major ticks for a symlog scaling.\n",
    "    \"\"\"\n",
    "    def __init__(self, linthresh, nints=10):\n",
    "        \"\"\"\n",
    "        Ticks will be placed between the major ticks.\n",
    "        The placement is linear for x between -linthresh and linthresh,\n",
    "        otherwise its logarithmically. nints gives the number of\n",
    "        intervals that will be bounded by the minor ticks.\n",
    "        \"\"\"\n",
    "        self.linthresh = linthresh\n",
    "        self.nintervals = nints\n",
    "\n",
    "    def __call__(self):\n",
    "        # Return the locations of the ticks\n",
    "        majorlocs = self.axis.get_majorticklocs()\n",
    "\n",
    "        if len(majorlocs) == 1:\n",
    "            return self.raise_if_exceeds(np.array([]))\n",
    "\n",
    "        # add temporary major tick locs at either end of the current range\n",
    "        # to fill in minor tick gaps\n",
    "        dmlower = majorlocs[1] - majorlocs[0]    # major tick difference at lower end\n",
    "        dmupper = majorlocs[-1] - majorlocs[-2]  # major tick difference at upper end\n",
    "\n",
    "        # add temporary major tick location at the upper end\n",
    "        if majorlocs[0] != 0. and ((majorlocs[0] != self.linthresh and dmlower > self.linthresh) or (dmlower == self.linthresh and majorlocs[0] < 0)):\n",
    "            majorlocs = np.insert(majorlocs, 0, majorlocs[0]*10.)\n",
    "        else:\n",
    "            majorlocs = np.insert(majorlocs, 0, majorlocs[0]-self.linthresh)\n",
    "\n",
    "        # add temporary major tick location at the upper end\n",
    "        if majorlocs[-1] != 0. and ((np.abs(majorlocs[-1]) != self.linthresh and dmupper > self.linthresh) or (dmupper == self.linthresh and majorlocs[-1] > 0)):\n",
    "            majorlocs = np.append(majorlocs, majorlocs[-1]*10.)\n",
    "        else:\n",
    "            majorlocs = np.append(majorlocs, majorlocs[-1]+self.linthresh)\n",
    "\n",
    "        # iterate through minor locs\n",
    "        minorlocs = []\n",
    "\n",
    "        # handle the lowest part\n",
    "        for i in range(1, len(majorlocs)):\n",
    "            majorstep = majorlocs[i] - majorlocs[i-1]\n",
    "            if abs(majorlocs[i-1] + majorstep/2) < self.linthresh:\n",
    "                ndivs = self.nintervals\n",
    "            else:\n",
    "                ndivs = self.nintervals - 1.\n",
    "\n",
    "            minorstep = majorstep / ndivs\n",
    "            locs = np.arange(majorlocs[i-1], majorlocs[i], minorstep)[1:]\n",
    "            minorlocs.extend(locs)\n",
    "\n",
    "        return self.raise_if_exceeds(np.array(minorlocs))\n",
    "\n",
    "    def tick_values(self, vmin, vmax):\n",
    "        raise NotImplementedError('Cannot get tick locations for a '\n",
    "                          '%s type.' % type(self))\n"
   ]
  },
  {
   "cell_type": "code",
   "execution_count": 4,
   "metadata": {},
   "outputs": [
    {
     "data": {
      "text/plain": [
       "3.2188255028634426e+21"
      ]
     },
     "execution_count": 4,
     "metadata": {},
     "output_type": "execute_result"
    }
   ],
   "source": [
    "Temperature = 300.0# Particle temperature in Kelvin\n",
    "KT = const.Boltzmann*Temperature\n",
    "rho = 2.328*(1e-3/1e-6)# g/cm3 -> Kg/m3\n",
    "pi = const.pi\n",
    "eps0 = const.epsilon_0\n",
    "echarge = const.elementary_charge\n",
    "Ke = 1.0/(4.0*pi*eps0)\n",
    "#Epsilon = 11.68\n",
    "pressure_torr = 0.1\n",
    "pressure = pressure_torr * 133.322\n",
    "ng_num = pressure / KT\n",
    "ng_num"
   ]
  },
  {
   "cell_type": "markdown",
   "metadata": {},
   "source": [
    "# Plasma parameters\n",
    "\n",
    "We will assume that the plasma will not be affected by the nanoparticles. We pose the following conditions~\\cite{mamunuru_existence_2017},\n",
    "\n",
    "| Parameter | Value   |\n",
    "|------|------|\n",
    "| Pressure ($p$)| 0.1 Torr|\n",
    "| Argon ion density ($n_+$) | 10<sup>15</sup> m<sup>-3</sup>|\n",
    "| Electron density ($n_e$) | 9.x10<sup>14</sup> m<sup>-3</sup>|\n",
    "| Electron mean energy ($\\varepsilon$) | 3 eV|\n",
    "| Gas/ion/nanoparticle temperature ($T$) | 300 K |\n",
    "| Gas density ($n_g$) | 3.x10<sup>21</sup> m<sup>-3</sup>|\n",
    "| Argon mass ($m_+$) | 6.63x10<sup>-26</sup> Kg|\n",
    "\n",
    "Also, we are assuming that the reactor, ions and nanoparticles have the same temperature, which is not true.\n",
    "\n",
    "# Note: \n",
    "\\begin{equation}\n",
    "    \\varepsilon = k T_e\n",
    "\\end{equation}"
   ]
  },
  {
   "cell_type": "code",
   "execution_count": 5,
   "metadata": {
    "collapsed": true
   },
   "outputs": [],
   "source": [
    "etemp = 3.# in eV\n",
    "emean = etemp# Electron mean energy\n",
    "electron_density = 9.0E14# electron density\n",
    "#electron_density = 7.E14# electron density\n",
    "ion_density = 1.0E15# electron and ion density\n",
    "#ion_density = 7.E14# electron and ion density\n",
    "# constants\n",
    "pi = np.pi\n",
    "Ke = 1.0/(4.0*pi*const.epsilon_0)\n",
    "echarge = const.elementary_charge\n",
    "ArMMass = 39.948 #Argon Molecular Mass (NIST) in g/mol\n",
    "ArMass = (ArMMass / const.Avogadro)/1000.0 #Argon Mass in Kg"
   ]
  },
  {
   "cell_type": "markdown",
   "metadata": {},
   "source": [
    "# Si nanoparticles\n",
    "\n",
    "For the Si nanoparticles we have,\n",
    "\n",
    "| Parameter | Value   |\n",
    "|------|------|\n",
    "| Nanoparticle density ($N$) | 10<sup>14</sup> m<sup>-3</sup>|\n",
    "| Dielectric constant ($\\epsilon$) | 11.68 |\n",
    "| Mass density ($\\mu$) | 2.328<sup>3</sup> Kg/m<sup>3</sup> |\n",
    "| Electron affinity ($E_A$) | 4.05 |\n",
    "\n",
    "\n",
    "We consider the following nanoparticle parameters for volume sections:\n",
    "\n",
    "| Parameter | Value   |\n",
    "|------|------|\n",
    "| Number of sections ($l$) | 50 |\n",
    "| Minimum diameter ($d_0$) | 1 nm |\n",
    "| Maximum diameter ($d_l$) | 100 nm |\n",
    "| Base ($b$) | 1.32572 |\n",
    "\n",
    "The subsequents volume sections are calculated from:\n",
    "\\begin{equation}\n",
    "v_{i+1} = v_0 b^{i} \\qquad v_{i+i} = v_i b\n",
    "\\end{equation}"
   ]
  },
  {
   "cell_type": "code",
   "execution_count": 6,
   "metadata": {
    "collapsed": true
   },
   "outputs": [],
   "source": [
    "#Si_density = 2.328 * 1e3# g/cm3 to kg/m3 \n",
    "Si_affinity = 4.05# Le Picard\n",
    "Epsilon_Si = 11.68"
   ]
  },
  {
   "cell_type": "code",
   "execution_count": 7,
   "metadata": {
    "collapsed": true
   },
   "outputs": [],
   "source": [
    "NP_density = 1e14\n",
    "#NP_density = 0.1e14"
   ]
  },
  {
   "cell_type": "code",
   "execution_count": 8,
   "metadata": {},
   "outputs": [
    {
     "data": {
      "text/plain": [
       "0.0"
      ]
     },
     "execution_count": 8,
     "metadata": {},
     "output_type": "execute_result"
    }
   ],
   "source": [
    "electron_density+NP_density-ion_density"
   ]
  },
  {
   "cell_type": "code",
   "execution_count": 9,
   "metadata": {
    "collapsed": true
   },
   "outputs": [],
   "source": [
    "def radfromvol(v):\n",
    "    ''' Computes radius from a given volume\n",
    "    '''\n",
    "    return (3.0 * v/(4.0*np.pi))**(1/3)\n",
    "def volfromrad(r):\n",
    "    ''' Computes volume from a given radius\n",
    "    '''\n",
    "    return (4.0/3.0) * np.pi * (r)**3\n",
    "\n",
    "lsec = 50# 50 sections\n",
    "base = 1.32572#\n",
    "iface_r0 = 0.5E-9# lower value of first section\n",
    "iface_vol0 = volfromrad(iface_r0)# lowest volume\n",
    "# compute interfaces\n",
    "ifaces = np.array([iface_vol0*base**(i) for i in np.arange(lsec+1)])\n",
    "\n",
    "def amean_pivots(ifaces):\n",
    "    ''' Compute pivot\n",
    "    '''\n",
    "    return 0.5*(ifaces[:-1]+ifaces[1:])\n",
    "\n",
    "# volume pivots\n",
    "vpivots = amean_pivots(ifaces)\n",
    "\n",
    "# compute radii and diameters\n",
    "radii = radfromvol(vpivots)\n",
    "diams = 2.0 * radii"
   ]
  },
  {
   "cell_type": "markdown",
   "metadata": {},
   "source": [
    "## Mean free path\n",
    "\n",
    "\\begin{equation} \n",
    "    \\lambda = \\frac {1}{{\\sqrt {2}}N_p \\pi d^{2}}\n",
    "    %\\lambda = \\frac {\\kboltz T}{{\\sqrt {2}}\\pi d^{2}p}\n",
    "\\end{equation}"
   ]
  },
  {
   "cell_type": "code",
   "execution_count": 10,
   "metadata": {
    "collapsed": true
   },
   "outputs": [],
   "source": [
    "def mean_free_path(density, diameter):\n",
    "    ''' Returns the mean free path for a given density and diameter\n",
    "    '''\n",
    "    return 1/(np.sqrt(2)*density*np.pi*diameter**2)"
   ]
  },
  {
   "cell_type": "code",
   "execution_count": 11,
   "metadata": {
    "collapsed": true
   },
   "outputs": [],
   "source": [
    "mean_free_paths = mean_free_path(NP_density, diams)"
   ]
  },
  {
   "cell_type": "code",
   "execution_count": 12,
   "metadata": {},
   "outputs": [
    {
     "data": {
      "text/plain": [
       "2035.4018965525315"
      ]
     },
     "execution_count": 12,
     "metadata": {},
     "output_type": "execute_result"
    }
   ],
   "source": [
    "mean_free_paths.max()"
   ]
  },
  {
   "cell_type": "code",
   "execution_count": 13,
   "metadata": {},
   "outputs": [
    {
     "data": {
      "text/plain": [
       "203.49688933939439"
      ]
     },
     "execution_count": 13,
     "metadata": {},
     "output_type": "execute_result"
    }
   ],
   "source": [
    "mean_free_paths.min()*1000"
   ]
  },
  {
   "cell_type": "markdown",
   "metadata": {},
   "source": [
    "## Dusty Debye length\n",
    "\n",
    "\\begin{equation}\n",
    " \\lambda_{e, i, p} = \\sqrt{\\frac {\\varepsilon_{0}\\kboltz T_{e, i, p}}\n",
    "                             {n_{e, i, p}q_{e}^{2}}}\n",
    "\\end{equation}\n",
    "\n",
    "\n",
    "\\begin{equation}\n",
    " \\frac{1}{\\lambda_{\\text{D}}^2} = \\frac{1}{\\lambda_{\\text{e}}^2}\n",
    "         + \\frac{1}{\\lambda_{\\text{i}}^2}\n",
    "\\end{equation}\n"
   ]
  },
  {
   "cell_type": "code",
   "execution_count": 14,
   "metadata": {
    "collapsed": true
   },
   "outputs": [],
   "source": [
    "def dusty_debye_length(mean_electron_energy, electron_density,\n",
    "                       ion_temperature, ion_density, nanoparticle_density):\n",
    "    ''' Returns the Dusty Debye Length (Shukla), Dusty Debye Length,\n",
    "        electron Debye length and ion Debye length\n",
    "    '''\n",
    "    #kboltz_ev = const.physical_constants['Boltzmann constant in eV/K'][0]\n",
    "    #electron_temperature = mean_electron_energy/kboltz_ev\n",
    "    electron_temperature = mean_electron_energy\n",
    "    \n",
    "    electron_debye_length = np.sqrt(electron_temperature*const.electron_volt\n",
    "                                    *const.epsilon_0\n",
    "                             /(electron_density*echarge**2))\n",
    "    \n",
    "    ion_debye_length = np.sqrt(const.Boltzmann*ion_temperature\n",
    "                               *const.epsilon_0\n",
    "                               /(ion_density*echarge**2))\n",
    "    \n",
    "    dusty_debye = np.sqrt(const.Boltzmann*ion_temperature\n",
    "                          *const.epsilon_0\n",
    "                          /(nanoparticle_density*echarge**2))\n",
    "    \n",
    "    dusty_debye_length_ = 1.0/np.sqrt(1./electron_debye_length**2\n",
    "                                      +1./ion_debye_length**2)\n",
    "    dusty_debye_length2_ = 1.0/np.sqrt(1./electron_debye_length**2\n",
    "                                      +1./ion_debye_length**2\n",
    "                                      +1./dusty_debye**2)\n",
    "    \n",
    "    return dusty_debye_length_, dusty_debye_length2_, electron_debye_length, ion_debye_length"
   ]
  },
  {
   "cell_type": "code",
   "execution_count": 15,
   "metadata": {
    "collapsed": true
   },
   "outputs": [],
   "source": [
    "ddl, ddl2, edebye, idebye = dusty_debye_length(emean, electron_density,\n",
    "                                               Temperature, ion_density, NP_density)"
   ]
  },
  {
   "cell_type": "code",
   "execution_count": 16,
   "metadata": {},
   "outputs": [
    {
     "data": {
      "text/plain": [
       "3.7652044093399767e-05"
      ]
     },
     "execution_count": 16,
     "metadata": {},
     "output_type": "execute_result"
    }
   ],
   "source": [
    "ddl"
   ]
  },
  {
   "cell_type": "code",
   "execution_count": 17,
   "metadata": {},
   "outputs": [
    {
     "data": {
      "text/plain": [
       "3.5912380307916382e-05"
      ]
     },
     "execution_count": 17,
     "metadata": {},
     "output_type": "execute_result"
    }
   ],
   "source": [
    "ddl2"
   ]
  },
  {
   "cell_type": "code",
   "execution_count": 18,
   "metadata": {},
   "outputs": [
    {
     "data": {
      "text/plain": [
       "0.00042919884306290957"
      ]
     },
     "execution_count": 18,
     "metadata": {},
     "output_type": "execute_result"
    }
   ],
   "source": [
    "edebye"
   ]
  },
  {
   "cell_type": "code",
   "execution_count": 19,
   "metadata": {},
   "outputs": [
    {
     "data": {
      "text/plain": [
       "3.7797769138743015e-05"
      ]
     },
     "execution_count": 19,
     "metadata": {},
     "output_type": "execute_result"
    }
   ],
   "source": [
    "idebye"
   ]
  },
  {
   "cell_type": "markdown",
   "metadata": {},
   "source": [
    "## Interparticle distance\n",
    "\n",
    "\\begin{equation}\n",
    " d = \\left({\\frac {3}{4\\pi n}}\\right)^{1/3}\n",
    "\\end{equation}"
   ]
  },
  {
   "cell_type": "code",
   "execution_count": 20,
   "metadata": {
    "collapsed": true
   },
   "outputs": [],
   "source": [
    "def interparticle_distance(density):\n",
    "    ''' Returns the interparticle distance\n",
    "    '''\n",
    "    return np.cbrt(3.0/(4.0*np.pi*density))"
   ]
  },
  {
   "cell_type": "code",
   "execution_count": 21,
   "metadata": {
    "collapsed": true
   },
   "outputs": [],
   "source": [
    "idistance = interparticle_distance(NP_density)"
   ]
  },
  {
   "cell_type": "code",
   "execution_count": 22,
   "metadata": {},
   "outputs": [
    {
     "name": "stdout",
     "output_type": "stream",
     "text": [
      "1.33650461757e-05\n"
     ]
    }
   ],
   "source": [
    "print(idistance)"
   ]
  },
  {
   "cell_type": "markdown",
   "metadata": {},
   "source": [
    "## Structure parameter"
   ]
  },
  {
   "cell_type": "code",
   "execution_count": 23,
   "metadata": {
    "collapsed": true
   },
   "outputs": [],
   "source": [
    "structure_parameter = idistance/ddl"
   ]
  },
  {
   "cell_type": "code",
   "execution_count": 24,
   "metadata": {},
   "outputs": [
    {
     "data": {
      "text/plain": [
       "0.35496203453300934"
      ]
     },
     "execution_count": 24,
     "metadata": {},
     "output_type": "execute_result"
    }
   ],
   "source": [
    "structure_parameter"
   ]
  },
  {
   "cell_type": "markdown",
   "metadata": {},
   "source": [
    "## Knudsen number\n",
    "\n",
    "\\begin{equation}\n",
    "  \\text{Kn} = \\frac{\\lambda}{d_p}\n",
    "\\end{equation}"
   ]
  },
  {
   "cell_type": "code",
   "execution_count": 25,
   "metadata": {
    "collapsed": true
   },
   "outputs": [],
   "source": [
    "kn = mean_free_paths/diams"
   ]
  },
  {
   "cell_type": "code",
   "execution_count": 26,
   "metadata": {},
   "outputs": [
    {
     "data": {
      "text/plain": [
       "1934947.1066276876"
      ]
     },
     "execution_count": 26,
     "metadata": {},
     "output_type": "execute_result"
    }
   ],
   "source": [
    "kn.min()"
   ]
  },
  {
   "cell_type": "code",
   "execution_count": 27,
   "metadata": {},
   "outputs": [
    {
     "data": {
      "text/plain": [
       "1935564720080.4543"
      ]
     },
     "execution_count": 27,
     "metadata": {},
     "output_type": "execute_result"
    }
   ],
   "source": [
    "kn.max()"
   ]
  },
  {
   "cell_type": "markdown",
   "metadata": {},
   "source": [
    "## Coupling parameter\n",
    "\n",
    "\\begin{equation}\n",
    "  \\Gamma = \\frac{1}{4\\pi \\eps_0}\\frac{Z^2 e^2}{\\kboltz T_p d}\\exp(-\\kappa_\\text{d})\n",
    "\\end{equation}"
   ]
  },
  {
   "cell_type": "code",
   "execution_count": 28,
   "metadata": {
    "collapsed": true
   },
   "outputs": [],
   "source": [
    "def coupling_parameter(nanoparticle_charge, interparticle_distance, structure_parameter):\n",
    "    ''' Returns the coupling parameter\n",
    "    '''\n",
    "    num = nanoparticle_charge**2*echarge**2\n",
    "    denom = 4.*np.pi*const.epsilon_0*KT*interparticle_distance\n",
    "    return np.exp(-structure_parameter)*num/denom"
   ]
  },
  {
   "cell_type": "code",
   "execution_count": 29,
   "metadata": {
    "collapsed": true
   },
   "outputs": [],
   "source": [
    "gamma = coupling_parameter(np.arange(1, 296), idistance, structure_parameter)"
   ]
  },
  {
   "cell_type": "code",
   "execution_count": 30,
   "metadata": {},
   "outputs": [
    {
     "data": {
      "text/plain": [
       "0.70120006409111924"
      ]
     },
     "execution_count": 30,
     "metadata": {},
     "output_type": "execute_result"
    }
   ],
   "source": [
    "np.exp(-structure_parameter)"
   ]
  },
  {
   "cell_type": "code",
   "execution_count": 31,
   "metadata": {},
   "outputs": [
    {
     "data": {
      "text/plain": [
       "1.6021766208e-19"
      ]
     },
     "execution_count": 31,
     "metadata": {},
     "output_type": "execute_result"
    }
   ],
   "source": [
    "echarge"
   ]
  },
  {
   "cell_type": "code",
   "execution_count": 32,
   "metadata": {},
   "outputs": [
    {
     "data": {
      "text/plain": [
       "254.31578397339126"
      ]
     },
     "execution_count": 32,
     "metadata": {},
     "output_type": "execute_result"
    }
   ],
   "source": [
    "gamma.max()"
   ]
  },
  {
   "cell_type": "code",
   "execution_count": 33,
   "metadata": {},
   "outputs": [
    {
     "data": {
      "text/plain": [
       "0.0029223301806767161"
      ]
     },
     "execution_count": 33,
     "metadata": {},
     "output_type": "execute_result"
    }
   ],
   "source": [
    "gamma.min()"
   ]
  },
  {
   "cell_type": "code",
   "execution_count": 34,
   "metadata": {},
   "outputs": [
    {
     "data": {
      "text/plain": [
       "254.31578397339126"
      ]
     },
     "execution_count": 34,
     "metadata": {},
     "output_type": "execute_result"
    }
   ],
   "source": [
    "gamma[-1]"
   ]
  },
  {
   "cell_type": "code",
   "execution_count": 35,
   "metadata": {},
   "outputs": [
    {
     "data": {
      "text/plain": [
       "162.76210174297037"
      ]
     },
     "execution_count": 35,
     "metadata": {},
     "output_type": "execute_result"
    }
   ],
   "source": [
    "gamma[-60]"
   ]
  },
  {
   "cell_type": "code",
   "execution_count": 36,
   "metadata": {},
   "outputs": [
    {
     "data": {
      "text/plain": [
       "172.56067483877942"
      ]
     },
     "execution_count": 36,
     "metadata": {},
     "output_type": "execute_result"
    }
   ],
   "source": [
    "coupling_parameter(243, idistance, structure_parameter)"
   ]
  },
  {
   "cell_type": "markdown",
   "metadata": {},
   "source": [
    "# Coagulation rate\n",
    "\n",
    "The coagulation kernel for neutral particles in the free molecular regime is written as, \n",
    "\n",
    "\\begin{equation}\n",
    "\\beta^{0}_{ij} = \\left(\\frac{3}{4\\pi}\\right)^{1/6}\n",
    "                 \\left[\\frac{6 \\kboltz T}{\\rho_p}\\left(\\frac{1}{v_i}+\\frac{1}{v_j} \\right)\\right]^{1/2}\n",
    "                 \\left(v^{1/3}_i + v^{1/3}_j \\right)^2,\n",
    "\\end{equation}\n",
    "\n",
    "where $v_{i}(v_{j})$ represents the volume of particle $i(j)$,  $\\kboltz$ is the Boltzmann constant, $T$ is the\n",
    "absolute temperature of the reactor, and  $\\rho_{p}$ is the particle mass density."
   ]
  },
  {
   "cell_type": "code",
   "execution_count": 37,
   "metadata": {
    "collapsed": true
   },
   "outputs": [],
   "source": [
    "def beta_free(vol1, vol2, temp=Temperature, rho=rho):\n",
    "    ''' Coagulation rate in the free molecular regime\n",
    "    '''   \n",
    "    beta0 = (3.0/(4.0*np.pi))**(1/6)*np.sqrt(6.0*const.Boltzmann *temp/rho)\n",
    "    return beta0 * np.sqrt(1.0/vol1 +1.0/vol2) * (vol1**(1.0/3.0)+vol2**(1.0/3.0))**2"
   ]
  },
  {
   "cell_type": "code",
   "execution_count": 38,
   "metadata": {
    "collapsed": true
   },
   "outputs": [],
   "source": [
    "radii_cr = np.linspace(0.5, 50.0, 500,endpoint=True)*1e-9"
   ]
  },
  {
   "cell_type": "code",
   "execution_count": 39,
   "metadata": {
    "collapsed": true
   },
   "outputs": [],
   "source": [
    "volumes_cr = volfromrad(radii_cr)"
   ]
  },
  {
   "cell_type": "code",
   "execution_count": 40,
   "metadata": {
    "collapsed": true
   },
   "outputs": [],
   "source": [
    "rx, ry = np.meshgrid(radii_cr*1e9, radii_cr*1e9)\n",
    "dx, dy = 2.0*rx, 2.0*ry\n",
    "vx, vy = np.meshgrid(volumes_cr, volumes_cr)"
   ]
  },
  {
   "cell_type": "code",
   "execution_count": 41,
   "metadata": {
    "collapsed": true
   },
   "outputs": [],
   "source": [
    "bf = beta_free(vx, vy)"
   ]
  },
  {
   "cell_type": "code",
   "execution_count": 42,
   "metadata": {},
   "outputs": [
    {
     "data": {
      "image/png": "[encoded data removed]",
      "text/plain": [
       "<matplotlib.figure.Figure at 0x7f071127b978>"
      ]
     },
     "metadata": {},
     "output_type": "display_data"
    }
   ],
   "source": [
    "fig, ax = plt.subplots(figsize=(7.5, 5.85))\n",
    "\n",
    "levels = [5e-16, 1e-15, 2e-15, 5e-15, 1e-14, 2e-14, 5e-14, 5e-13]\n",
    "cf = ax.contourf(dx, dy, bf, levels=levels, cmap=cm.gist_heat_r,  norm=colors.LogNorm(),\n",
    "                 vmin=levels[0], vmax=levels[-1])\n",
    "cs = ax.contour(dx, dy, bf, levels=levels, origin='lower',\n",
    "                colors='k', linewidths=1.5)\n",
    "cb = fig.colorbar(cf, ax=ax, ticks=levels)\n",
    "cb.add_lines(cs)\n",
    "cb.ax.set_ylabel(r'Coagulation kernel $(\\text{m}^3\\text{s}^{-1})$', rotation=270, labelpad=30)\n",
    "cb.ax.tick_params(labelsize=18)\n",
    "\n",
    "ax.set_xlabel('Diameter of particle 1 (nm)')\n",
    "ax.set_ylabel('Diameter of particle 2 (nm)', labelpad=-8)\n",
    "xy=np.arange(0, 120, 20)\n",
    "xy[0] = 1\n",
    "plt.xticks(xy, xy)\n",
    "plt.yticks(xy, xy)\n",
    "\n",
    "cb.set_ticks(levels)\n",
    "cb.set_ticklabels([r'$5{\\times}10^{-16}$', r'$1{\\times}10^{-15}$', r'$2{\\times}10^{-15}$', r'$5{\\times}10^{-15}$',\n",
    "                   r'$1{\\times}10^{-14}$', r'$2{\\times}10^{-14}$', r'$5{\\times}10^{-14}$', r'$5{\\times}10^{-13}$'])\n",
    "\n",
    "plt.tight_layout()\n",
    "plt.savefig('fig1.eps')\n",
    "plt.show()"
   ]
  },
  {
   "cell_type": "code",
   "execution_count": 43,
   "metadata": {},
   "outputs": [
    {
     "data": {
      "text/plain": [
       "7.4527112871196548e-13"
      ]
     },
     "execution_count": 43,
     "metadata": {},
     "output_type": "execute_result"
    }
   ],
   "source": [
    "np.max(bf)"
   ]
  },
  {
   "cell_type": "code",
   "execution_count": 44,
   "metadata": {},
   "outputs": [
    {
     "data": {
      "text/plain": [
       "4.1328183938190095e-16"
      ]
     },
     "execution_count": 44,
     "metadata": {},
     "output_type": "execute_result"
    }
   ],
   "source": [
    "np.min(bf)"
   ]
  },
  {
   "cell_type": "code",
   "execution_count": 45,
   "metadata": {},
   "outputs": [
    {
     "data": {
      "image/png": "[encoded data removed]",
      "text/plain": [
       "<matplotlib.figure.Figure at 0x7f0711272ac8>"
      ]
     },
     "metadata": {},
     "output_type": "display_data"
    }
   ],
   "source": [
    "fig, ax = plt.subplots(figsize=(7.5, 5.85))\n",
    "\n",
    "dlist = [0, 5, 25, 50, 250]\n",
    "for i, di in enumerate(dlist):\n",
    "    label = r'$d_2=$'+str(np.around(dx[di][di], decimals=2))+' nm'\n",
    "    plt.plot(dx[di], bf[di], label=label)\n",
    "\n",
    "\n",
    "xy=np.arange(0, 120, 20)\n",
    "xy[0] = 1\n",
    "plt.xticks(xy, xy)\n",
    "ax.set_xlabel(r'Diameter of particle 1 (nm)')\n",
    "ax.set_ylabel(r'Coagulation rate $(\\text{m}^3/s)$')\n",
    "ax.set_yscale('log')\n",
    "plt.xlim([1, 100])\n",
    "plt.legend(loc=2)\n",
    "plt.tight_layout()\n",
    "#plt.savefig('fig1.eps')\n",
    "plt.show()"
   ]
  },
  {
   "cell_type": "markdown",
   "metadata": {},
   "source": [
    "# Collision frequencies\n",
    "\n",
    "The OML collision frequencies are:\n",
    "    \\begin{equation*}\n",
    "      \\nu_{j(i,k)}= 4\\pi r^2_i n_j \\left( \\frac{E_j}{2\\pi m_j}\\right)^{1/2}\\alpha_j,\n",
    "    \\end{equation*}\n",
    "where $r_i$ is the radius of nanoparticle $i$ with charge number $k$, $j$ represents the index for plasma species and $n_j$, $E_j$ and $m_j$ are the density, energy and mass for plasma species $j=e, Ar^+$ with charge number $z_j$. The coefficient\n",
    "$\\alpha_j$ and the nanoparticle potential are defined by:\n",
    "     \\begin{align*}\n",
    "      \\alpha_j &= \\left \\{\n",
    "      \\begin{array}{ll}\n",
    "       \\exp\\left(-\\frac{z_j e\\phi_{i,k}}{k_B T_j} \\right) & \\quad\\textrm{for } z_j k\\geq 0  \\\\\n",
    "       \\exp\\left(1-\\frac{z_j e\\phi_{i,k}}{k_B T_j} \\right) & \\quad\\textrm{for } z_j k < 0\n",
    "      \\end{array} \\right .\\\\\n",
    "      \\phi_{i,k}&=\\frac{ke}{4\\pi\\varepsilon_{0}r_i}.\n",
    "     \\end{align*}\n",
    "For instance $E_e = \\varepsilon$, i.e., electron mean energy. In the case of argon ions we approximate $E_\\text{ion} \\sim k_B T$, it means that we are neglecting the kinetic energy of the ions."
   ]
  },
  {
   "cell_type": "markdown",
   "metadata": {},
   "source": []
  },
  {
   "cell_type": "code",
   "execution_count": 46,
   "metadata": {
    "collapsed": true
   },
   "outputs": [],
   "source": [
    "def phid(q, radii):\n",
    "    ''' Computes the nanoparticle potential\n",
    "    '''\n",
    "    return Ke*q*const.elementary_charge/radii\n",
    "\n",
    "def ecollfreq(q, radii, electron_density, emean_ev):\n",
    "    ''' Computes the electron collision frequency\n",
    "    '''\n",
    "    emean = emean_ev * const.electron_volt    \n",
    "    kte = emean\n",
    "    radii2 = radii**2\n",
    "    efreqfactor = 4. * pi * radii2 * electron_density * np.sqrt(kte/(2.*pi*const.electron_mass))\n",
    "    if q <0.0 :\n",
    "        return efreqfactor * np.exp(const.elementary_charge * phid(q, radii)/kte)\n",
    "    else :\n",
    "        if q >0.0 :\n",
    "            return efreqfactor * (1.0 + const.elementary_charge*phid(q, radii)/kte)\n",
    "        else :\n",
    "            return efreqfactor\n",
    "\n",
    "def icollfreq(q, radii, ion_density, temp):\n",
    "    ''' Computes the ion collision frequency\n",
    "    '''\n",
    "    kti = const.k * temp\n",
    "    radii2 = radii**2\n",
    "    ifreqfactor = 4. * pi * radii2 * ion_density * np.sqrt(kti/(2.*pi*ArMass))\n",
    "    if q>0.0 :\n",
    "        return ifreqfactor * np.exp(-const.elementary_charge * phid(q, radii)/kti)\n",
    "    else :\n",
    "        if q<0.0 :\n",
    "            return ifreqfactor * (1.0 - const.elementary_charge*phid(q, radii)/kti)\n",
    "        else :\n",
    "            return ifreqfactor"
   ]
  },
  {
   "cell_type": "markdown",
   "metadata": {},
   "source": [
    "# Tunneling limit"
   ]
  },
  {
   "cell_type": "code",
   "execution_count": 47,
   "metadata": {
    "collapsed": true
   },
   "outputs": [],
   "source": [
    "invKe = 4.0*np.pi*const.epsilon_0\n",
    "\n",
    "def particle_potenergy(r, Z):\n",
    "    return -(Ke*Z*const.elementary_charge**2)/r"
   ]
  },
  {
   "cell_type": "code",
   "execution_count": 48,
   "metadata": {
    "collapsed": true
   },
   "outputs": [],
   "source": [
    "def rt_affinity(R, Z, ainfinity=Si_affinity*const.electron_volt):\n",
    "    \"\"\" Computes rt r_t = \\frac{Z}{\\frac{Z}{R}+ A_\\infty\\frac{4\\pi\\varepsilon_0}{e^2} - \\frac{5}{8}\\frac{1}{R}}\n",
    "    \"\"\"\n",
    "    ai = ainfinity * invKe/const.elementary_charge**2\n",
    "    rt = Z/(Z/R + ai - (5/(8*R)))\n",
    "    if rt < 0:\n",
    "        return 1000000\n",
    "    else:\n",
    "        return rt"
   ]
  },
  {
   "cell_type": "code",
   "execution_count": 49,
   "metadata": {
    "collapsed": true
   },
   "outputs": [],
   "source": [
    "def tunnel(rt, R, Z):\n",
    "    \"\"\" Griffiths Introduction to quantum mechanics The WKB approximation\n",
    "        pp 295-297 eq8.24\n",
    "    \"\"\"\n",
    "    prefac1 = -2./const.hbar\n",
    "    prefac2 = np.sqrt(2.*const.electron_mass*particle_potenergy(rt, Z))\n",
    "    return np.exp(prefac1*prefac2*(rt*np.arccos(np.sqrt(R/rt))-np.sqrt(R*(rt-R))))"
   ]
  },
  {
   "cell_type": "code",
   "execution_count": 50,
   "metadata": {
    "collapsed": true
   },
   "outputs": [],
   "source": [
    "def ptunnel(Z, R, temperature, ainfinity=Si_affinity*const.electron_volt):\n",
    "    prefac1 = (-Z)*np.sqrt(2.*const.Boltzmann*temperature/const.electron_mass)*(0.5/R)\n",
    "    rt = rt_affinity(R, Z, ainfinity)\n",
    "    return prefac1*tunnel(rt, R, Z)"
   ]
  },
  {
   "cell_type": "markdown",
   "metadata": {},
   "source": [
    "# charge limit from tunneling"
   ]
  },
  {
   "cell_type": "code",
   "execution_count": 51,
   "metadata": {
    "collapsed": true
   },
   "outputs": [],
   "source": [
    "def balance_oml(Z, R, electron_density, ion_density, emean, temperature):\n",
    "    #return ptunnel(Z, R, temperature, ainfinity)\n",
    "    return icollfreq(Z, R, ion_density, temperature)-ecollfreq(Z, R, electron_density, emean)"
   ]
  },
  {
   "cell_type": "code",
   "execution_count": 52,
   "metadata": {
    "collapsed": true
   },
   "outputs": [],
   "source": [
    "def balance_tunnelectron(Z, R, electron_density, emean, temperature, ainfinity=Si_affinity*const.electron_volt):\n",
    "    if Z<0:\n",
    "        welec=1.0\n",
    "    return welec*ptunnel(Z, R, temperature, ainfinity)-ecollfreq(Z, R, electron_density, emean)"
   ]
  },
  {
   "cell_type": "code",
   "execution_count": 53,
   "metadata": {
    "collapsed": true
   },
   "outputs": [],
   "source": [
    "mradii = np.linspace(0.5, 50, 300)*1e-9\n",
    "mdiams = 2.0*mradii\n",
    "qmax_balance_oml = np.zeros_like(mradii)\n",
    "qmax_balance_tunnel = np.zeros_like(mradii)\n",
    "ap_tunnel = np.zeros_like(mradii)\n",
    "for j, r in enumerate(mradii): \n",
    "    #print(r)\n",
    "    #ap_tunnel[ind] = ptunnel(10, r, Temperature)\n",
    "    qmax_balance_oml[j] = optimize.brentq(lambda q: balance_oml(q, r, electron_density, ion_density, emean, Temperature),\n",
    "                                     -1e-7, -10e7, maxiter=10000)\n",
    "    qmax_balance_tunnel[j] = optimize.brenth(lambda q: balance_tunnelectron(q, r, electron_density, emean, Temperature),\n",
    "                                     -1e-7, -10e14, maxiter=100000, rtol=1e-15)"
   ]
  },
  {
   "cell_type": "code",
   "execution_count": 54,
   "metadata": {},
   "outputs": [
    {
     "data": {
      "image/png": "[encoded data removed]",
      "text/plain": [
       "<matplotlib.figure.Figure at 0x7f0748591a20>"
      ]
     },
     "metadata": {},
     "output_type": "display_data"
    }
   ],
   "source": [
    "fig=plt.figure(figsize=(7,7))\n",
    "plt.ylabel(r\"Charge (e)\")\n",
    "plt.xlabel(r\"Particle diameter (nm)\")\n",
    "#plt.yscale('symlog')\n",
    "#plt.xscale('log')\n",
    "plt.ylim([-50, 5])\n",
    "plt.xlim([0, 10])\n",
    "plt.plot(mdiams*1e9, (qmax_balance_oml), lw=3, label='OML equilibrium charge')\n",
    "plt.plot(mdiams*1e9, (qmax_balance_tunnel), lw=3, label='Charge limited by tunnel effect', color='k')\n",
    "#plt.bar(charges_nolim, tunnel_chargedist, alpha=0.5, label='dynamic', hatch='/', lw=1, ec='k', width=-1)#, align='center')\n",
    "plt.legend()\n",
    "plt.show()"
   ]
  },
  {
   "cell_type": "code",
   "execution_count": 55,
   "metadata": {},
   "outputs": [
    {
     "data": {
      "text/plain": [
       "0.19275604743688035"
      ]
     },
     "execution_count": 55,
     "metadata": {},
     "output_type": "execute_result"
    }
   ],
   "source": [
    "np.abs(qmax_balance_oml-qmax_balance_tunnel).min()"
   ]
  },
  {
   "cell_type": "code",
   "execution_count": 56,
   "metadata": {
    "collapsed": true
   },
   "outputs": [],
   "source": [
    "def sigma_variance(qmean, radii, emean_ev):\n",
    "    ''' Computes the variance eq. 10 Le Picard\n",
    "    '''\n",
    "    emean = emean_ev * const.electron_volt\n",
    "    #DANGER 3./2. FIXME\n",
    "    #kte = (2./3.)*emean#*3./2.#* 2.0/3.0\n",
    "    kte = emean*3./2.\n",
    "    radii2 = radii**2\n",
    "    \n",
    "    ti = const.k * Temperature / const.elementary_charge\n",
    "    \n",
    "    prefactor = radii*kte/(Ke*const.elementary_charge**2)\n",
    "    return prefactor * (1.0 - emean/(emean+ti-const.elementary_charge * phid(qmean, radii)))\n"
   ]
  },
  {
   "cell_type": "code",
   "execution_count": 57,
   "metadata": {
    "collapsed": true
   },
   "outputs": [],
   "source": [
    "# this is OML + Tunnel = 0, crossing above\n",
    "dlim = 4.1e-9"
   ]
  },
  {
   "cell_type": "code",
   "execution_count": 58,
   "metadata": {
    "collapsed": true
   },
   "outputs": [],
   "source": [
    "mean_charge_oml = (qmax_balance_oml[mdiams>=dlim*0.9])# dlim x 0.9 to overlap \n",
    "mdiams_ex_limit = mdiams[mdiams>=dlim*0.9]*1e9"
   ]
  },
  {
   "cell_type": "code",
   "execution_count": 59,
   "metadata": {
    "collapsed": true
   },
   "outputs": [],
   "source": [
    "sigmas = np.sqrt(sigma_variance(mean_charge_oml, 0.5e-9*mdiams_ex_limit, emean))\n",
    "two_sigmas = 2.0*np.sqrt(sigma_variance(mean_charge_oml, 0.5e-9*mdiams_ex_limit, emean))\n",
    "three_sigmas = 3.0*np.sqrt(sigma_variance(mean_charge_oml, 0.5e-9*mdiams_ex_limit, emean))"
   ]
  },
  {
   "cell_type": "code",
   "execution_count": 66,
   "metadata": {},
   "outputs": [
    {
     "data": {
      "image/png": "[encoded data removed]",
      "text/plain": [
       "<matplotlib.figure.Figure at 0x7f070cffc240>"
      ]
     },
     "metadata": {},
     "output_type": "display_data"
    }
   ],
   "source": [
    "fig=plt.figure(figsize=(8, 10))\n",
    "ax = fig.gca()\n",
    "plt.ylabel(r\"Charge (e)\")\n",
    "plt.xlabel(\"Particle diameter (nm)\")\n",
    "\n",
    "mdiams_in_limit = mdiams[mdiams<dlim]*1e9\n",
    "\n",
    "charge_limit = (qmax_balance_tunnel[mdiams<dlim])\n",
    "charge_balance_tunoml = (qmax_balance_tunnel[mdiams>=dlim*0.9])\n",
    "\n",
    "clplot = plt.plot(mdiams_in_limit, charge_limit, lw=2, label='Tunnel equilibrium charge limit')\n",
    "omlplot = plt.plot(mdiams_ex_limit, mean_charge_oml, '--',lw=2, label='OML equilibrium charge')\n",
    "\n",
    "plt.plot(mdiams_in_limit, qmax_balance_oml[mdiams<dlim], '--',lw=2, color=omlplot[0].get_color())\n",
    "\n",
    "plt.plot(mdiams_ex_limit, charge_balance_tunoml, color=clplot[0].get_color(), lw=2)#, label='Electron-tunnel current balance')\n",
    "\n",
    "charge_limit_width = (qmax_balance_tunnel[mdiams<dlim])+7\n",
    "charge_width_bottom = (qmax_balance_oml[mdiams>=dlim*0.9])-three_sigmas\n",
    "charge_width_up = (qmax_balance_oml[mdiams>=dlim*0.9])+three_sigmas\n",
    "\n",
    "three_sigmas_tun = 3.0*np.sqrt(sigma_variance(qmax_balance_oml[mdiams<dlim], 0.5e-9*mdiams_in_limit, emean))\n",
    "charge_width_tun = (qmax_balance_oml[mdiams<dlim])+three_sigmas_tun\n",
    "\n",
    "plt.plot(mdiams_ex_limit, charge_width_bottom, 'gray',lw=1)\n",
    "plt.plot(mdiams_ex_limit, charge_width_up, 'gray',lw=1)\n",
    "\n",
    "ax.fill_between(mdiams_in_limit, charge_limit, -1e3, alpha=0.25, color=current_palette[0])#, hatch=\"/\")\n",
    "\n",
    "ax.fill_between(mdiams_ex_limit, charge_balance_tunoml, charge_width_bottom,\n",
    "                where= charge_balance_tunoml>=charge_width_bottom , alpha=0.25, color=current_palette[1])#, hatch=\"/\")\n",
    "\n",
    "ax.fill_between(mdiams_ex_limit, charge_width_bottom, -1e3, alpha=0.25, color=current_palette[1])#, hatch=\"/\")\n",
    "ax.fill_between(mdiams_ex_limit, charge_width_up, 1e3, alpha=0.25, color=current_palette[1])#, hatch=\"/\")\n",
    "\n",
    "plt.plot(mdiams_in_limit, charge_width_tun, 'gray',lw=1)\n",
    "ax.fill_between(mdiams_in_limit, charge_width_tun, 1e3, alpha=0.25, color=current_palette[0])#, hatch=\"/\")\n",
    "\n",
    "iomltunnel = np.isclose(qmax_balance_oml, qmax_balance_tunnel, 1e-2)# when oml = tunnel\n",
    "qpos = qmax_balance_oml[iomltunnel]\n",
    "dpos = mdiams[iomltunnel]\n",
    "\n",
    "plt.axvline(mdiams_in_limit[-1], ls='-', color='gray', lw=1)\n",
    "plt.axvline(mdiams_ex_limit[0], ls='-', color='gray', lw=1)\n",
    "\n",
    "plt.ylim([-300, -1])\n",
    "plt.xlim([1, 100])\n",
    "plt.xscale('log')\n",
    "plt.legend(loc=0)\n",
    "ax.set_yscale('symlog', linthreshy=1e-1)\n",
    "yaxis = ax.yaxis\n",
    "yaxis.set_minor_locator(MinorSymLogLocator(1e-1))\n",
    "plt.tight_layout()\n",
    "plt.savefig('fig2.pdf')\n",
    "plt.show()"
   ]
  },
  {
   "cell_type": "code",
   "execution_count": 61,
   "metadata": {
    "collapsed": true
   },
   "outputs": [],
   "source": [
    "cross = np.abs(np.abs(charge_balance_tunoml)-np.abs(charge_width_bottom))"
   ]
  },
  {
   "cell_type": "code",
   "execution_count": 62,
   "metadata": {
    "collapsed": true
   },
   "outputs": [],
   "source": [
    "icross = np.argmin(cross)"
   ]
  },
  {
   "cell_type": "code",
   "execution_count": 63,
   "metadata": {
    "collapsed": true
   },
   "outputs": [],
   "source": [
    "dcross = mdiams_ex_limit[icross]"
   ]
  },
  {
   "cell_type": "code",
   "execution_count": null,
   "metadata": {
    "collapsed": true
   },
   "outputs": [],
   "source": []
  },
  {
   "cell_type": "code",
   "execution_count": 67,
   "metadata": {
    "collapsed": true
   },
   "outputs": [],
   "source": [
    "diams_tofile = np.concatenate((mdiams_in_limit, mdiams_ex_limit))\n",
    "charge_tofile = np.concatenate((charge_limit, mean_charge_oml))\n",
    "\n",
    "charge_up_tofile = np.concatenate((charge_width_tun, charge_width_up))\n",
    "diams_bottom_tofile = np.concatenate((mdiams_ex_limit[mdiams_ex_limit<=dcross],mdiams_ex_limit[mdiams_ex_limit>=dcross]))\n",
    "\n",
    "charge_bottom_tofile = np.concatenate((charge_balance_tunoml[mdiams_ex_limit<=dcross],\n",
    "                                       charge_width_bottom[mdiams_ex_limit>=dcross]))\n",
    "\n",
    "np.savez('probable_charge', diams_tofile=diams_tofile, charge_tofile=charge_tofile, charge_up_tofile=charge_up_tofile,\n",
    "        diams_bottom_tofile=diams_bottom_tofile, charge_bottom_tofile=charge_bottom_tofile)"
   ]
  },
  {
   "cell_type": "code",
   "execution_count": 65,
   "metadata": {},
   "outputs": [
    {
     "name": "stderr",
     "output_type": "stream",
     "text": [
      "No handles with labels found to put in legend.\n"
     ]
    },
    {
     "data": {
      "image/png": "[encoded data removed]",
      "text/plain": [
       "<matplotlib.figure.Figure at 0x7f0710203dd8>"
      ]
     },
     "metadata": {},
     "output_type": "display_data"
    }
   ],
   "source": [
    "fig=plt.figure(figsize=(8, 10))\n",
    "ax = fig.gca()\n",
    "plt.ylabel(r\"Charge (e)\")\n",
    "plt.xlabel(\"Particle diameter (nm)\")\n",
    "\n",
    "plt.plot(diams_tofile, charge_tofile, '--',lw=2)\n",
    "\n",
    "plt.plot(diams_tofile, charge_up_tofile, lw=2)\n",
    "\n",
    "plt.plot(diams_bottom_tofile, charge_bottom_tofile, '-',lw=2)\n",
    "plt.ylim([-300, -1])\n",
    "plt.xlim([1, 100])\n",
    "plt.xscale('log')\n",
    "plt.legend(loc=0)\n",
    "ax.set_yscale('symlog', linthreshy=1e-1)\n",
    "yaxis = ax.yaxis\n",
    "yaxis.set_minor_locator(MinorSymLogLocator(1e-1))\n",
    "plt.tight_layout()\n",
    "#plt.savefig('fig2.pdf')\n",
    "plt.show()"
   ]
  },
  {
   "cell_type": "markdown",
   "metadata": {},
   "source": [
    "# Potentials and forces\n",
    "\n",
    "## Description in terms of multipolar coefficients (PMC)\n",
    "\n",
    "We need to solve the following linear system of A coefficients,\n",
    "\\begin{align}\n",
    "A_{1,j_1} = Kq_1\\delta_{j_1, 0} - \\frac{\\left( \\varepsilon-1 \\right)j_1}{\\left( \\varepsilon+1 \\right)j_1+1}\n",
    "\\frac{r^{2j_1+1}_1}{r^{j_1+1}}Kq_2\n",
    "+ \\frac{\\left( \\varepsilon-1 \\right)j_1}{\\left( \\varepsilon+1 \\right)j_1+1}\n",
    "\\sum^{\\infty}_{j_2=0} \\sum^{\\infty}_{j_3=0} \\frac{\\left( \\varepsilon-1 \\right)j_2}{\\left( \\varepsilon+1 \\right)j_2+1}\n",
    "\\frac{\\left(j_1+j_2\\right)!}{j_1!j_2!}\\frac{\\left(j_2+j_3\\right)!}{j_2!j_3!}\n",
    "\\frac{r^{2j_1+1}_1 r^{2j_2+1}_2}{r^{j_1+2j_2+j_3+2}}A_{1, j_3}\n",
    "\\end{align}\n",
    "\n",
    "Then the potential energy is,\n",
    "\n",
    "\\begin{align}\n",
    "\\Phi_{\\text{PMC}} &= K\\frac{q_1q_2}{r}\\\\\n",
    "&-\\frac{q_1}{2}\\sum^{\\infty}_{m=1} \\sum^{\\infty}_{l=0}A_{1,l}\\frac{\\left(\\varepsilon-1\\right)m}{\\left(\\varepsilon+1\\right)m+1}\n",
    "\\frac{\\left(l+m\\right)!}{l!m!}\\frac{r^{2m+1}_2}{r^{2m+l+2}}\n",
    "-\\frac{1}{2K}  \\sum^{\\infty}_{l=1} A_{1,l}A_{1,l}\\frac{\\left(\\varepsilon+1\\right)l+1}\n",
    "{\\left(\\varepsilon-1\\right)lr^{2l+1}_1}\n",
    "\\end{align}\n",
    "\n",
    "and the force is written as,\n",
    "\n",
    "\\begin{equation}\n",
    "F_{\\text{PMC}} = K\\frac{q_1q_2}{r^2}\n",
    "-q_1\\sum^{\\infty}_{m=1} \\sum^{\\infty}_{l=0}A_{1,l}\\frac{\\left(\\varepsilon-1\\right)m\\left(m+1\\right)}{\\left(\\varepsilon+1\\right)m+1}\n",
    "\\frac{\\left(l+m\\right)!}{l!m!}\\frac{r^{2m+1}_2}{r^{2m+l+3}}\n",
    "-\\frac{1}{K} \\sum^{\\infty}_{l=1}  A_{1,l}A_{1,l+1}\\frac{\\left(\\varepsilon+1\\right)\\left(l+1\\right)+1}{\\left(\\varepsilon-1\\right)r^{2l+3}_\n",
    "1}\n",
    "\\end{equation}\n",
    "\n",
    "## Image potential approximation (IPA)\n",
    "\n",
    "In the case that we can not neglect $r_2$ and $q_1\\neq 0$, we could try to superpose the image potential energy of particle 1 in 2:\n",
    "\n",
    "\\begin{align}\n",
    "\\Phi_\\text{IPA} = K\\frac{q_1 q_2}{r}\n",
    "-\\left(\\frac{\\varepsilon-1}{\\varepsilon+2}\\right)\\frac{K q^2_1 r^3_2}{2r^2\\left( r^2-r^2_2\\right)}\n",
    "-\\left(\\frac{\\varepsilon-1}{\\varepsilon+2}\\right)\\frac{K q^2_2 r^3_1}{2r^2\\left( r^2-r^2_1\\right)}\n",
    "\\end{align}\n",
    "\n",
    "\n",
    "\\begin{align}\n",
    " F_\\text{IPA}(r_2, q_1) &= -K q^2_1\\left(\\frac{\\varepsilon-1}{\\varepsilon+2}\\right)\\frac{r^3_2\\left( 2r^2-r^2_2\\right)}{r^3\\left(r^2 - r^2_2\\right)^2},\\\\\n",
    "F_\\text{IPA}(r_1, q_2) &= -K q^2_2\\left(\\frac{\\varepsilon-1}{\\varepsilon+2}\\right)\\frac{r^3_1\\left( 2r^2-r^2_1\\right)}{r^3\\left(r^2 - r^2_1\\right)^2},\\\\\n",
    "F^\\text{T}_\\text{IPA} &= F_c + F_\\text{IPA}(q_1, r_2) + F_\\text{IPA}(q_1, r_2).\n",
    "\\end{align}"
   ]
  },
  {
   "cell_type": "code",
   "execution_count": 41,
   "metadata": {
    "collapsed": true
   },
   "outputs": [],
   "source": [
    "def potential_ipa_fact(rt, r21, q21, eps=Epsilon_Si):\n",
    "    \"\"\" returns Potential Drain and Sutin (Point Charge Approximation) superposition\n",
    "        function of rt = r/r1, r1, q1, r21=r2/r1, q21=q2/q1\n",
    "    \"\"\"\n",
    "\n",
    "    kappa = (eps-1.0)/(eps+2.0)\n",
    "    A = kappa*r21**3\n",
    "    B = kappa*q21**2\n",
    "    return q21/rt\\\n",
    "           - A/(2*rt**2*(rt**2 - r21**2))\\\n",
    "           - B/(2*rt**2*(rt**2 - 1.0))\n",
    "\n",
    "def force_ipa_fact(rt, r21, q21, eps=Epsilon_Si):\n",
    "    \"\"\" returns Force Drain and Sutin (Point Charge Approximation) superposition\n",
    "    \"\"\"\n",
    "\n",
    "    kappa = (eps-1.0)/(eps+2.0)\n",
    "    A = kappa*r21**3*(2.*rt**2-r21**2)\n",
    "    B = kappa*q21**2*(2.*rt**2-1.)\n",
    "    return q21/rt**2\\\n",
    "           - A/(rt**3*(rt**2 - r21**2)**2)\\\n",
    "           - B/(rt**3*(rt**2 - 1.0)**2)"
   ]
  },
  {
   "cell_type": "code",
   "execution_count": 42,
   "metadata": {
    "collapsed": true
   },
   "outputs": [],
   "source": [
    "def compute_Acoefficients(r1, q1, r2, q2, rn, eps=Epsilon_Si, j1max=5, j2max=5):\n",
    "    ''' Solves the linear system for A coefficients\n",
    "    '''\n",
    "    j1n = np.arange(1, j1max)\n",
    "    j2n = np.arange(1, j2max)\n",
    "    j3n = np.arange(0, j1max)\n",
    "    # A10 term, always positive. l=0\n",
    "    A10 = Ke*q1\n",
    "    #\n",
    "    coefficients = np.zeros((len(j1n), len(j1n)))\n",
    "    independent = np.zeros((len(j1n)))\n",
    "    #\n",
    "    count = 0\n",
    "    for j1 in j1n:# from 1 to j1max\n",
    "        #\n",
    "        prefac1 = (eps-1.0)*j1/((eps+1.0)*j1 + 1.0)\n",
    "        # term due to Q2, j1!=0, always negative\n",
    "        f2 = -prefac1*r1**(2*j1+1)*Ke*q2/rn**(j1+1)\n",
    "        # this term is independent of coefficients A\n",
    "        independent[j1-1] = f2\n",
    "        for j3 in j3n:# from 0 to j1max\n",
    "            for j2 in j2n:# from 1 to j2max\n",
    "                #print(j1,j2,j3)\n",
    "                count +=1\n",
    "                prefac2 = (eps-1.0)*j2/((eps+1.0)*j2 + 1.0)\n",
    "                denom = (np.math.factorial(j1)*np.math.factorial(j2)*np.math.factorial(j2)*np.math.factorial(j3))*rn**(j1+2*j2+j3+2)\n",
    "                numer = prefac1 * prefac2 * np.math.factorial(j1+j2)*np.math.factorial(j2+j3) * r1**(2*j1+1) * r2**(2*j2+1)\n",
    "                if True:#np.abs(denom) > 1.0e-200 and np.abs(numer) < 1.0e200:\n",
    "                    if j3!=0:\n",
    "                        coefficients[j1-1][j3-1] -= numer / denom\n",
    "                    else:# j3 == 0 => A10\n",
    "                        independent[j1-1] += A10*numer / denom\n",
    "            if j3==j1:\n",
    "                coefficients[j1-1][j3-1] += 1.0\n",
    "    #print(count)\n",
    "    return coefficients, independent, A10"
   ]
  },
  {
   "cell_type": "code",
   "execution_count": 43,
   "metadata": {
    "collapsed": true
   },
   "outputs": [],
   "source": [
    "def force_mpc(r1, q1, r2, q2, h, acoeffs, eps=Epsilon_Si, f1=1.0, f2=1.0, f3=1.0):\n",
    "    ''' As defined in equation 9 of \n",
    "        Lindgren, E. B., Chan, H.-K., Stace, A. J. & Besley, E.\n",
    "        Progress in the theory of electrostatic interactions between charged particles.\n",
    "        Phys. Chem. Chem. Phys. 18, 5883–5895 (2016).\n",
    "    '''\n",
    "    invK = 1.0/Ke\n",
    "    lns = np.arange(len(acoeffs))\n",
    "    mns = np.arange(len(acoeffs)-1)+1\n",
    "    #   \n",
    "    force_coul = Ke*q1*q2/h**2# Coulomb term\n",
    "    #\n",
    "    force_2 = 0.0\n",
    "    for m in mns:# m:1 -> lns\n",
    "        for l in lns:# l:0 -> lns\n",
    "            numer = (acoeffs[l]*(eps-1.0)*m*(m+1)*np.math.factorial(l+m)*r2**(2*m+1))\n",
    "            denom = ((eps+1.0)*m+1)*(np.math.factorial(l)*np.math.factorial(m))*h**(2*m+l+3)\n",
    "            force_2 += numer / denom\n",
    "\n",
    "    force_2 *= -q1\n",
    "\n",
    "    force_3 = 0.0\n",
    "    for l in lns[1:-1]:# l:1 -> lns-1\n",
    "        numer = (acoeffs[l]*acoeffs[l+1])*((eps+1.0)*(l+1)+1)#2016\n",
    "        denom = (eps-1.0)*r1**(2*l+3)        \n",
    "        force_3 += numer / denom\n",
    "\n",
    "    force_3 *= -invK\n",
    "\n",
    "    return f1*force_coul + f2*force_2 + f3*force_3"
   ]
  },
  {
   "cell_type": "code",
   "execution_count": 44,
   "metadata": {
    "collapsed": true
   },
   "outputs": [],
   "source": [
    "def potential_mpc(r1, q1, r2, q2, h, acoeffs, eps=Epsilon_Si):\n",
    "    ''' As defined in equation A7 of \n",
    "        Bichoutskaia, Elena et al.\n",
    "        Electrostatic analysis of the interactions between charged particles of dielectric materials.\n",
    "        The Journal of Chemical Physics 133, 024105 (2010).\n",
    "        Note 1/2 factor to last two terms as in\n",
    "        Stace, A. J. & Bichoutskaia, E. \n",
    "        Reply to the Comment on Treating highly charged carbon and fullerene clusters as dielectric particles\n",
    "        by H. Zettergren and H. Cederquist, Phys. Chem. Chem. Phys., 2012, 14, DOI: 10.1039/c2cp42883k.\n",
    "        Phys. Chem. Chem. Phys. 14, 16771–16772 (2012).\n",
    "    '''\n",
    "    invK = 1.0/Ke\n",
    "    lns = np.arange(len(acoeffs))\n",
    "    mns = np.arange(len(acoeffs)-1)+1\n",
    "    #   \n",
    "    pot_coul = Ke*q1*q2/h# Coulomb term\n",
    "    #\n",
    "    pot_2 = 0.0\n",
    "    for m in mns:# m:1 -> lns\n",
    "        for l in lns:# l:0 -> lns\n",
    "            numer = (acoeffs[l]*(eps-1.0)*m*np.math.factorial(l+m)*r2**(2*m+1))\n",
    "            denom = ((eps+1.0)*m+1)*(np.math.factorial(l)*np.math.factorial(m))*h**(2*m+l+2)\n",
    "            pot_2 += numer / denom\n",
    "\n",
    "    pot_2 *= -q1\n",
    "#     print(pot_2)\n",
    "    pot_3 = 0.0\n",
    "    for l in lns[1:]:# l:1 -> lns-1\n",
    "        numer = (acoeffs[l]*acoeffs[l])*((eps+1.0)*(l)+1)\n",
    "        denom = (eps-1.0)*l*r1**(2*l+1)\n",
    "        pot_3 += numer / denom\n",
    "\n",
    "    pot_3 *= -invK\n",
    "\n",
    "    # 1/2 factor to last two terms\n",
    "    return pot_coul + 0.5*pot_2 + 0.5*pot_3"
   ]
  },
  {
   "cell_type": "code",
   "execution_count": 63,
   "metadata": {
    "collapsed": true
   },
   "outputs": [],
   "source": [
    "def plot_potentials_pmc_terms(ax, r1o, q1o, r2o, q2o, eps, rlimo):\n",
    "\n",
    "    r1 = 1.0\n",
    "    r2 = r2o/r1o\n",
    "    q1 = np.sign(q1o)\n",
    "    q2 = q2o/np.abs(q1o)\n",
    "\n",
    "    jterms = [25, 30, 35]\n",
    "    ltlist = ['-', '--', ':']\n",
    "    \n",
    "    rlim = rlimo/r1o#4.5(r1o+r2o)\n",
    "    hl = np.linspace((r1+r2), rlim, 50)\n",
    "    pot_convertion = (1./const.elementary_charge)\n",
    "    pot_prefactor = pot_convertion*q1o**2/r1o\n",
    "    count = 0\n",
    "    for j, jvalue in enumerate(jterms):\n",
    "        pot_b  = np.zeros_like(hl)\n",
    "        for l, h in enumerate(hl): \n",
    "            As, Fx, A10 = compute_Acoefficients(r1, q1, r2, q2, h, eps=eps, j1max=jvalue, j2max=jvalue)\n",
    "            #Acs = np.linalg.solve(As, Fx)\n",
    "            Acond = np.linalg.cond(As)\n",
    "            if Acond > 1.5:\n",
    "                count += 1\n",
    "                print(Acond)\n",
    "            if count > 20:\n",
    "                return 0 \n",
    "            Acs, res, rank, s = np.linalg.lstsq(As, Fx)\n",
    "            acoeffs = np.append(A10, Acs)\n",
    "            pot_b[l] = potential_mpc(r1, q1, r2, q2, h, acoeffs, eps=eps)\n",
    "\n",
    "        sl = (hl*r1o-r1o-r2o)*1e9\n",
    "\n",
    "        label = str(jvalue) + ' terms'\n",
    "        plt.plot(hl*r1o*1e9, pot_prefactor*pot_b, lw=3, label=label, ls=ltlist[j])"
   ]
  },
  {
   "cell_type": "code",
   "execution_count": 66,
   "metadata": {},
   "outputs": [
    {
     "data": {
      "image/png": "[encoded data removed]",
      "text/plain": [
       "<matplotlib.figure.Figure at 0x7f39a11f92b0>"
      ]
     },
     "metadata": {},
     "output_type": "display_data"
    }
   ],
   "source": [
    "fig, ax = plt.subplots(figsize=(7, 5.85))\n",
    "r1 = 50.0e-9\n",
    "z1 = -1\n",
    "q1 = z1*const.elementary_charge\n",
    "z2 = -1\n",
    "q2 = z2*const.elementary_charge\n",
    "r2nm = np.array([1.0])\n",
    "r2m = r2nm*1e-9\n",
    "rlim = np.max(r1+r2m)*1.5\n",
    "\n",
    "plot_potentials_pmc_terms(ax, r1, q1, r2m, q2, Epsilon_Si, rlim)\n",
    "\n",
    "ax.set(xlabel=r'$r$(nm)', ylabel=r'\\textPhi(eV)')\n",
    "\n",
    "#plt.ylim([-0.10, 0.025])\n",
    "\n",
    "plt.legend()\n",
    "plt.tight_layout()\n",
    "#plt.savefig('figB1.eps')\n",
    "plt.show()\n"
   ]
  },
  {
   "cell_type": "code",
   "execution_count": 67,
   "metadata": {
    "collapsed": true
   },
   "outputs": [],
   "source": [
    "def plot_potentials_paper(ax, r1o, q1o, r2o, q2o, eps, rlimo, j1max=25, j2max=25, label=r\"r\", lt=\"--\", cerror=False):\n",
    "\n",
    "    r1 = 1.0\n",
    "    r2 = r2o/r1o\n",
    "    q1 = np.sign(q1o)\n",
    "    q2 = q2o/np.abs(q1o)\n",
    "\n",
    "    rlim = rlimo/r1o#4.5(r1o+r2o)\n",
    "    hl = np.linspace((r1+r2), rlim, 250)\n",
    "    pot_b  = np.zeros_like(hl)\n",
    "    pot_convertion = (1./const.elementary_charge)\n",
    "    pot_prefactor = pot_convertion*q1o**2/r1o\n",
    "    count = 0\n",
    "    for l, h in enumerate(hl): \n",
    "        As, Fx, A10 = compute_Acoefficients(r1, q1, r2, q2, h, eps=eps, j1max=j1max, j2max=j2max)\n",
    "        #Acs = np.linalg.solve(As, Fx)\n",
    "        Acond = np.linalg.cond(As)\n",
    "        if Acond > 1.5:\n",
    "            count += 1\n",
    "            print(Acond)\n",
    "        if count > 20:\n",
    "            return 0 \n",
    "        Acs, res, rank, s = np.linalg.lstsq(As, Fx)\n",
    "        acoeffs = np.append(A10, Acs)\n",
    "        pot_b[l] = potential_mpc(r1, q1, r2, q2, h, acoeffs, eps=eps)\n",
    "\n",
    "    sl = (hl*r1o-r1o-r2o)*1e9\n",
    "        \n",
    "\n",
    "    # Plot IPA potential\n",
    "    pot_ipa = potential_ipa_fact(hl, r2, np.abs(q2), eps=eps)*pot_prefactor*Ke\n",
    "    pipa = ax.plot(hl*r1o*1e9, pot_ipa, label='IPA', zorder=1, lw=2, color='k')\n",
    "    color = pipa[-1].get_color()\n",
    "\n",
    "    plt.plot(hl*r1o*1e9, pot_prefactor*pot_b, '--', color='gray', zorder=2, lw=3, label='PMC')\n",
    "\n",
    "    return pot_ipa, pot_prefactor*pot_b"
   ]
  },
  {
   "cell_type": "code",
   "execution_count": null,
   "metadata": {
    "collapsed": true
   },
   "outputs": [],
   "source": []
  },
  {
   "cell_type": "code",
   "execution_count": 68,
   "metadata": {},
   "outputs": [
    {
     "data": {
      "image/png": "[encoded data removed]",
      "text/plain": [
       "<matplotlib.figure.Figure at 0x7f39a11789b0>"
      ]
     },
     "metadata": {},
     "output_type": "display_data"
    }
   ],
   "source": [
    "fig, ax = plt.subplots(figsize=(7, 5.85))\n",
    "r1 = 50.0e-9\n",
    "z1 = -1\n",
    "q1 = z1*const.elementary_charge\n",
    "z2 = -1\n",
    "q2 = z2*const.elementary_charge\n",
    "#r2nm = np.linspace(1, 100, 5)\n",
    "r2nm = np.array([1.0])\n",
    "r2m = r2nm*1e-9\n",
    "rlim = np.max(r1+r2m)*4.0\n",
    "\n",
    "phix=[plot_potentials_paper(ax, r1, q1, r2m, q2, Epsilon_Si, rlim, label=r'$r_2=$'+str(r2nm[i]), j1max=10, j2max=10) for i, r2 in enumerate(r2m)]\n",
    "\n",
    "ax.set(xlabel=r'$r$(nm)', ylabel=r'\\textPhi(eV)')\n",
    "\n",
    "plt.ylim([-0.10, 0.025])\n",
    "\n",
    "ax.annotate(r'\\textPhi$_\\text{max}$', xy=(70, 0.015), xytext=(100, -0.02), size=22,\n",
    "            arrowprops=dict(facecolor='black', shrink=0.05, width=1),\n",
    "            )\n",
    "plt.legend()\n",
    "plt.tight_layout()\n",
    "plt.savefig('figB1.eps')\n",
    "plt.show()"
   ]
  },
  {
   "cell_type": "code",
   "execution_count": 69,
   "metadata": {
    "collapsed": true
   },
   "outputs": [],
   "source": [
    "def plot_sweep_potential_0(r21array, q21array, eps, j1max=25, j2max=25):\n",
    "    fig, ax = plt.subplots(figsize=(7, 5.85))\n",
    "    \n",
    "    rx, qy = np.meshgrid(r21array, q21array)\n",
    "    \n",
    "    pot_mpc = np.zeros([len(r21array), len(q21array)])\n",
    "    pot_ipa = np.zeros_like(pot_mpc)\n",
    "    \n",
    "    h = 1.0 + r21array\n",
    "    count = 0\n",
    "    for ir, r21 in enumerate(r21array):\n",
    "        for jq, q21 in enumerate(q21array):\n",
    "            As, Fx, A10 = compute_Acoefficients(1.0, 1.0, r21, q21, h[ir], eps=eps, j1max=j1max, j2max=j2max)\n",
    "            #Acs = np.linalg.solve(As, Fx)\n",
    "            Acond = np.linalg.cond(As)\n",
    "            if Acond > 1.5:\n",
    "                count += 1\n",
    "                print(Acond)\n",
    "            #if count > 20:\n",
    "            #    return 0 \n",
    "            Acs, res, rank, s = np.linalg.lstsq(As, Fx)\n",
    "            acoeffs = np.append(A10, Acs)\n",
    "            pot_mpc[ir, jq] = potential_mpc(1.0, 1.0, r21, q21, h[ir], acoeffs, eps=eps)\n",
    "\n",
    "    pot_ipa = potential_ipa_fact(1.0+rx, rx, qy, eps=eps)*Ke\n",
    "    #levels = [5e-16, 1e-15, 2e-15, 5e-15, 1e-14, 2e-14, 5e-14, 5e-13]\n",
    "#     cf = ax.contourf(rx, qy, pot_mpc, levels=levels, cmap=cm.gist_heat_r,  norm=colors.LogNorm())\n",
    "    #cf = ax.contourf(rx, qy, pot_ipa, cmap=cm.gist_heat_r)\n",
    "    cf = ax.contourf(rx, qy, pot_mpc.T, cmap=cm.gist_heat_r)\n",
    "    plt.show()\n",
    "    return rx, qy, pot_mpc.T, pot_ipa"
   ]
  },
  {
   "cell_type": "code",
   "execution_count": 70,
   "metadata": {
    "collapsed": true
   },
   "outputs": [],
   "source": [
    "#r21array = np.linspace(1, 50, 51)\n",
    "#q21array = np.arange(0, 50)\n",
    "r21array = np.linspace(1, 50, 100)\n",
    "q21array = np.linspace(0, 50, 100)"
   ]
  },
  {
   "cell_type": "code",
   "execution_count": null,
   "metadata": {
    "collapsed": true
   },
   "outputs": [],
   "source": []
  },
  {
   "cell_type": "code",
   "execution_count": 71,
   "metadata": {},
   "outputs": [
    {
     "data": {
      "text/plain": [
       "100"
      ]
     },
     "execution_count": 71,
     "metadata": {},
     "output_type": "execute_result"
    }
   ],
   "source": [
    "len(q21array)"
   ]
  },
  {
   "cell_type": "code",
   "execution_count": 72,
   "metadata": {},
   "outputs": [
    {
     "data": {
      "text/plain": [
       "100"
      ]
     },
     "execution_count": 72,
     "metadata": {},
     "output_type": "execute_result"
    }
   ],
   "source": [
    "len(r21array)"
   ]
  },
  {
   "cell_type": "code",
   "execution_count": 73,
   "metadata": {},
   "outputs": [
    {
     "name": "stdout",
     "output_type": "stream",
     "text": [
      "2.17354267049\n",
      "2.17354267049\n",
      "2.17354267049\n",
      "2.17354267049\n",
      "2.17354267049\n",
      "2.17354267049\n",
      "2.17354267049\n",
      "2.17354267049\n",
      "2.17354267049\n",
      "2.17354267049\n",
      "2.17354267049\n",
      "2.17354267049\n",
      "2.17354267049\n",
      "2.17354267049\n",
      "2.17354267049\n",
      "2.17354267049\n",
      "2.17354267049\n",
      "2.17354267049\n",
      "2.17354267049\n",
      "2.17354267049\n",
      "2.17354267049\n",
      "2.17354267049\n",
      "2.17354267049\n",
      "2.17354267049\n",
      "2.17354267049\n",
      "2.17354267049\n",
      "2.17354267049\n",
      "2.17354267049\n",
      "2.17354267049\n",
      "2.17354267049\n",
      "2.17354267049\n",
      "2.17354267049\n",
      "2.17354267049\n",
      "2.17354267049\n",
      "2.17354267049\n",
      "2.17354267049\n",
      "2.17354267049\n",
      "2.17354267049\n",
      "2.17354267049\n",
      "2.17354267049\n",
      "2.17354267049\n",
      "2.17354267049\n",
      "2.17354267049\n",
      "2.17354267049\n",
      "2.17354267049\n",
      "2.17354267049\n",
      "2.17354267049\n",
      "2.17354267049\n",
      "2.17354267049\n",
      "2.17354267049\n",
      "2.17354267049\n",
      "2.17354267049\n",
      "2.17354267049\n",
      "2.17354267049\n",
      "2.17354267049\n",
      "2.17354267049\n",
      "2.17354267049\n",
      "2.17354267049\n",
      "2.17354267049\n",
      "2.17354267049\n",
      "2.17354267049\n",
      "2.17354267049\n",
      "2.17354267049\n",
      "2.17354267049\n",
      "2.17354267049\n",
      "2.17354267049\n",
      "2.17354267049\n",
      "2.17354267049\n",
      "2.17354267049\n",
      "2.17354267049\n",
      "2.17354267049\n",
      "2.17354267049\n",
      "2.17354267049\n",
      "2.17354267049\n",
      "2.17354267049\n",
      "2.17354267049\n",
      "2.17354267049\n",
      "2.17354267049\n",
      "2.17354267049\n",
      "2.17354267049\n",
      "2.17354267049\n",
      "2.17354267049\n",
      "2.17354267049\n",
      "2.17354267049\n",
      "2.17354267049\n",
      "2.17354267049\n",
      "2.17354267049\n",
      "2.17354267049\n",
      "2.17354267049\n",
      "2.17354267049\n",
      "2.17354267049\n",
      "2.17354267049\n",
      "2.17354267049\n",
      "2.17354267049\n",
      "2.17354267049\n",
      "2.17354267049\n",
      "2.17354267049\n",
      "2.17354267049\n",
      "2.17354267049\n",
      "2.17354267049\n",
      "2.07152747427\n",
      "2.07152747427\n",
      "2.07152747427\n",
      "2.07152747427\n",
      "2.07152747427\n",
      "2.07152747427\n",
      "2.07152747427\n",
      "2.07152747427\n",
      "2.07152747427\n",
      "2.07152747427\n",
      "2.07152747427\n",
      "2.07152747427\n",
      "2.07152747427\n",
      "2.07152747427\n",
      "2.07152747427\n",
      "2.07152747427\n",
      "2.07152747427\n",
      "2.07152747427\n",
      "2.07152747427\n",
      "2.07152747427\n",
      "2.07152747427\n",
      "2.07152747427\n",
      "2.07152747427\n",
      "2.07152747427\n",
      "2.07152747427\n",
      "2.07152747427\n",
      "2.07152747427\n",
      "2.07152747427\n",
      "2.07152747427\n",
      "2.07152747427\n",
      "2.07152747427\n",
      "2.07152747427\n",
      "2.07152747427\n",
      "2.07152747427\n",
      "2.07152747427\n",
      "2.07152747427\n",
      "2.07152747427\n",
      "2.07152747427\n",
      "2.07152747427\n",
      "2.07152747427\n",
      "2.07152747427\n",
      "2.07152747427\n",
      "2.07152747427\n",
      "2.07152747427\n",
      "2.07152747427\n",
      "2.07152747427\n",
      "2.07152747427\n",
      "2.07152747427\n",
      "2.07152747427\n",
      "2.07152747427\n",
      "2.07152747427\n",
      "2.07152747427\n",
      "2.07152747427\n",
      "2.07152747427\n",
      "2.07152747427\n",
      "2.07152747427\n",
      "2.07152747427\n",
      "2.07152747427\n",
      "2.07152747427\n",
      "2.07152747427\n",
      "2.07152747427\n",
      "2.07152747427\n",
      "2.07152747427\n",
      "2.07152747427\n",
      "2.07152747427\n",
      "2.07152747427\n",
      "2.07152747427\n",
      "2.07152747427\n",
      "2.07152747427\n",
      "2.07152747427\n",
      "2.07152747427\n",
      "2.07152747427\n",
      "2.07152747427\n",
      "2.07152747427\n",
      "2.07152747427\n",
      "2.07152747427\n",
      "2.07152747427\n",
      "2.07152747427\n",
      "2.07152747427\n",
      "2.07152747427\n",
      "2.07152747427\n",
      "2.07152747427\n",
      "2.07152747427\n",
      "2.07152747427\n",
      "2.07152747427\n",
      "2.07152747427\n",
      "2.07152747427\n",
      "2.07152747427\n",
      "2.07152747427\n",
      "2.07152747427\n",
      "2.07152747427\n",
      "2.07152747427\n",
      "2.07152747427\n",
      "2.07152747427\n",
      "2.07152747427\n",
      "2.07152747427\n",
      "2.07152747427\n",
      "2.07152747427\n",
      "2.07152747427\n",
      "2.07152747427\n",
      "1.94195724167\n",
      "1.94195724167\n",
      "1.94195724167\n",
      "1.94195724167\n",
      "1.94195724167\n",
      "1.94195724167\n",
      "1.94195724167\n",
      "1.94195724167\n",
      "1.94195724167\n",
      "1.94195724167\n",
      "1.94195724167\n",
      "1.94195724167\n",
      "1.94195724167\n",
      "1.94195724167\n",
      "1.94195724167\n",
      "1.94195724167\n",
      "1.94195724167\n",
      "1.94195724167\n",
      "1.94195724167\n",
      "1.94195724167\n",
      "1.94195724167\n",
      "1.94195724167\n",
      "1.94195724167\n",
      "1.94195724167\n",
      "1.94195724167\n",
      "1.94195724167\n",
      "1.94195724167\n",
      "1.94195724167\n",
      "1.94195724167\n",
      "1.94195724167\n",
      "1.94195724167\n",
      "1.94195724167\n",
      "1.94195724167\n",
      "1.94195724167\n",
      "1.94195724167\n",
      "1.94195724167\n",
      "1.94195724167\n",
      "1.94195724167\n",
      "1.94195724167\n",
      "1.94195724167\n",
      "1.94195724167\n",
      "1.94195724167\n",
      "1.94195724167\n",
      "1.94195724167\n",
      "1.94195724167\n",
      "1.94195724167\n",
      "1.94195724167\n",
      "1.94195724167\n",
      "1.94195724167\n",
      "1.94195724167\n",
      "1.94195724167\n",
      "1.94195724167\n",
      "1.94195724167\n",
      "1.94195724167\n",
      "1.94195724167\n",
      "1.94195724167\n",
      "1.94195724167\n",
      "1.94195724167\n",
      "1.94195724167\n",
      "1.94195724167\n",
      "1.94195724167\n",
      "1.94195724167\n",
      "1.94195724167\n",
      "1.94195724167\n",
      "1.94195724167\n",
      "1.94195724167\n",
      "1.94195724167\n",
      "1.94195724167\n",
      "1.94195724167\n",
      "1.94195724167\n",
      "1.94195724167\n",
      "1.94195724167\n",
      "1.94195724167\n",
      "1.94195724167\n",
      "1.94195724167\n",
      "1.94195724167\n",
      "1.94195724167\n",
      "1.94195724167\n",
      "1.94195724167\n",
      "1.94195724167\n",
      "1.94195724167\n",
      "1.94195724167\n",
      "1.94195724167\n",
      "1.94195724167\n",
      "1.94195724167\n",
      "1.94195724167\n",
      "1.94195724167\n",
      "1.94195724167\n",
      "1.94195724167\n",
      "1.94195724167\n",
      "1.94195724167\n",
      "1.94195724167\n",
      "1.94195724167\n",
      "1.94195724167\n",
      "1.94195724167\n",
      "1.94195724167\n",
      "1.94195724167\n",
      "1.94195724167\n",
      "1.94195724167\n",
      "1.94195724167\n",
      "1.83157186664\n",
      "1.83157186664\n",
      "1.83157186664\n",
      "1.83157186664\n",
      "1.83157186664\n",
      "1.83157186664\n",
      "1.83157186664\n",
      "1.83157186664\n",
      "1.83157186664\n",
      "1.83157186664\n",
      "1.83157186664\n",
      "1.83157186664\n",
      "1.83157186664\n",
      "1.83157186664\n",
      "1.83157186664\n",
      "1.83157186664\n",
      "1.83157186664\n",
      "1.83157186664\n",
      "1.83157186664\n",
      "1.83157186664\n",
      "1.83157186664\n",
      "1.83157186664\n",
      "1.83157186664\n",
      "1.83157186664\n",
      "1.83157186664\n",
      "1.83157186664\n",
      "1.83157186664\n",
      "1.83157186664\n",
      "1.83157186664\n",
      "1.83157186664\n",
      "1.83157186664\n",
      "1.83157186664\n",
      "1.83157186664\n",
      "1.83157186664\n",
      "1.83157186664\n",
      "1.83157186664\n",
      "1.83157186664\n",
      "1.83157186664\n",
      "1.83157186664\n",
      "1.83157186664\n",
      "1.83157186664\n",
      "1.83157186664\n",
      "1.83157186664\n",
      "1.83157186664\n",
      "1.83157186664\n",
      "1.83157186664\n",
      "1.83157186664\n",
      "1.83157186664\n",
      "1.83157186664\n",
      "1.83157186664\n",
      "1.83157186664\n",
      "1.83157186664\n",
      "1.83157186664\n",
      "1.83157186664\n",
      "1.83157186664\n",
      "1.83157186664\n",
      "1.83157186664\n",
      "1.83157186664\n",
      "1.83157186664\n",
      "1.83157186664\n",
      "1.83157186664\n",
      "1.83157186664\n",
      "1.83157186664\n",
      "1.83157186664\n",
      "1.83157186664\n",
      "1.83157186664\n",
      "1.83157186664\n",
      "1.83157186664\n",
      "1.83157186664\n",
      "1.83157186664\n",
      "1.83157186664\n",
      "1.83157186664\n",
      "1.83157186664\n",
      "1.83157186664\n",
      "1.83157186664\n",
      "1.83157186664\n",
      "1.83157186664\n",
      "1.83157186664\n",
      "1.83157186664\n",
      "1.83157186664\n",
      "1.83157186664\n",
      "1.83157186664\n",
      "1.83157186664\n",
      "1.83157186664\n",
      "1.83157186664\n",
      "1.83157186664\n",
      "1.83157186664\n",
      "1.83157186664\n",
      "1.83157186664\n",
      "1.83157186664\n",
      "1.83157186664\n",
      "1.83157186664\n",
      "1.83157186664\n",
      "1.83157186664\n",
      "1.83157186664\n",
      "1.83157186664\n",
      "1.83157186664\n",
      "1.83157186664\n",
      "1.83157186664\n",
      "1.83157186664\n",
      "1.73804239104\n",
      "1.73804239104\n",
      "1.73804239104\n",
      "1.73804239104\n",
      "1.73804239104\n",
      "1.73804239104\n",
      "1.73804239104\n",
      "1.73804239104\n",
      "1.73804239104\n",
      "1.73804239104\n",
      "1.73804239104\n",
      "1.73804239104\n",
      "1.73804239104\n",
      "1.73804239104\n",
      "1.73804239104\n",
      "1.73804239104\n",
      "1.73804239104\n",
      "1.73804239104\n",
      "1.73804239104\n",
      "1.73804239104\n",
      "1.73804239104\n",
      "1.73804239104\n",
      "1.73804239104\n",
      "1.73804239104\n",
      "1.73804239104\n",
      "1.73804239104\n",
      "1.73804239104\n",
      "1.73804239104\n",
      "1.73804239104\n",
      "1.73804239104\n",
      "1.73804239104\n",
      "1.73804239104\n",
      "1.73804239104\n",
      "1.73804239104\n",
      "1.73804239104\n",
      "1.73804239104\n",
      "1.73804239104\n",
      "1.73804239104\n",
      "1.73804239104\n",
      "1.73804239104\n",
      "1.73804239104\n",
      "1.73804239104\n",
      "1.73804239104\n",
      "1.73804239104\n",
      "1.73804239104\n",
      "1.73804239104\n",
      "1.73804239104\n",
      "1.73804239104\n",
      "1.73804239104\n",
      "1.73804239104\n",
      "1.73804239104\n",
      "1.73804239104\n",
      "1.73804239104\n",
      "1.73804239104\n",
      "1.73804239104\n",
      "1.73804239104\n",
      "1.73804239104\n",
      "1.73804239104\n",
      "1.73804239104\n",
      "1.73804239104\n",
      "1.73804239104\n",
      "1.73804239104\n",
      "1.73804239104\n",
      "1.73804239104\n",
      "1.73804239104\n",
      "1.73804239104\n",
      "1.73804239104\n",
      "1.73804239104\n",
      "1.73804239104\n",
      "1.73804239104\n",
      "1.73804239104\n",
      "1.73804239104\n",
      "1.73804239104\n",
      "1.73804239104\n",
      "1.73804239104\n",
      "1.73804239104\n",
      "1.73804239104\n",
      "1.73804239104\n",
      "1.73804239104\n",
      "1.73804239104\n",
      "1.73804239104\n",
      "1.73804239104\n",
      "1.73804239104\n",
      "1.73804239104\n",
      "1.73804239104\n",
      "1.73804239104\n",
      "1.73804239104\n",
      "1.73804239104\n",
      "1.73804239104\n",
      "1.73804239104\n",
      "1.73804239104\n",
      "1.73804239104\n",
      "1.73804239104\n",
      "1.73804239104\n",
      "1.73804239104\n",
      "1.73804239104\n",
      "1.73804239104\n",
      "1.73804239104\n",
      "1.73804239104\n",
      "1.73804239104\n",
      "1.65832625759\n",
      "1.65832625759\n",
      "1.65832625759\n",
      "1.65832625759\n",
      "1.65832625759\n",
      "1.65832625759\n",
      "1.65832625759\n",
      "1.65832625759\n",
      "1.65832625759\n",
      "1.65832625759\n",
      "1.65832625759\n",
      "1.65832625759\n",
      "1.65832625759\n",
      "1.65832625759\n",
      "1.65832625759\n",
      "1.65832625759\n",
      "1.65832625759\n",
      "1.65832625759\n",
      "1.65832625759\n",
      "1.65832625759\n",
      "1.65832625759\n",
      "1.65832625759\n",
      "1.65832625759\n",
      "1.65832625759\n",
      "1.65832625759\n",
      "1.65832625759\n",
      "1.65832625759\n",
      "1.65832625759\n",
      "1.65832625759\n",
      "1.65832625759\n",
      "1.65832625759\n",
      "1.65832625759\n",
      "1.65832625759\n",
      "1.65832625759\n",
      "1.65832625759\n",
      "1.65832625759\n",
      "1.65832625759\n",
      "1.65832625759\n",
      "1.65832625759\n",
      "1.65832625759\n",
      "1.65832625759\n",
      "1.65832625759\n",
      "1.65832625759\n",
      "1.65832625759\n",
      "1.65832625759\n",
      "1.65832625759\n",
      "1.65832625759\n",
      "1.65832625759\n",
      "1.65832625759\n",
      "1.65832625759\n",
      "1.65832625759\n",
      "1.65832625759\n",
      "1.65832625759\n",
      "1.65832625759\n",
      "1.65832625759\n",
      "1.65832625759\n",
      "1.65832625759\n",
      "1.65832625759\n",
      "1.65832625759\n",
      "1.65832625759\n",
      "1.65832625759\n",
      "1.65832625759\n",
      "1.65832625759\n",
      "1.65832625759\n",
      "1.65832625759\n",
      "1.65832625759\n",
      "1.65832625759\n",
      "1.65832625759\n",
      "1.65832625759\n",
      "1.65832625759\n",
      "1.65832625759\n",
      "1.65832625759\n",
      "1.65832625759\n",
      "1.65832625759\n",
      "1.65832625759\n",
      "1.65832625759\n",
      "1.65832625759\n",
      "1.65832625759\n",
      "1.65832625759\n",
      "1.65832625759\n",
      "1.65832625759\n",
      "1.65832625759\n",
      "1.65832625759\n",
      "1.65832625759\n",
      "1.65832625759\n",
      "1.65832625759\n"
     ]
    },
    {
     "name": "stdout",
     "output_type": "stream",
     "text": [
      "1.65832625759\n",
      "1.65832625759\n",
      "1.65832625759\n",
      "1.65832625759\n",
      "1.65832625759\n",
      "1.65832625759\n",
      "1.65832625759\n",
      "1.65832625759\n",
      "1.65832625759\n",
      "1.65832625759\n",
      "1.65832625759\n",
      "1.65832625759\n",
      "1.65832625759\n",
      "1.65832625759\n",
      "1.58995070189\n",
      "1.58995070189\n",
      "1.58995070189\n",
      "1.58995070189\n",
      "1.58995070189\n",
      "1.58995070189\n",
      "1.58995070189\n",
      "1.58995070189\n",
      "1.58995070189\n",
      "1.58995070189\n",
      "1.58995070189\n",
      "1.58995070189\n",
      "1.58995070189\n",
      "1.58995070189\n",
      "1.58995070189\n",
      "1.58995070189\n",
      "1.58995070189\n",
      "1.58995070189\n",
      "1.58995070189\n",
      "1.58995070189\n",
      "1.58995070189\n",
      "1.58995070189\n",
      "1.58995070189\n",
      "1.58995070189\n",
      "1.58995070189\n",
      "1.58995070189\n",
      "1.58995070189\n",
      "1.58995070189\n",
      "1.58995070189\n",
      "1.58995070189\n",
      "1.58995070189\n",
      "1.58995070189\n",
      "1.58995070189\n",
      "1.58995070189\n",
      "1.58995070189\n",
      "1.58995070189\n",
      "1.58995070189\n",
      "1.58995070189\n",
      "1.58995070189\n",
      "1.58995070189\n",
      "1.58995070189\n",
      "1.58995070189\n",
      "1.58995070189\n",
      "1.58995070189\n",
      "1.58995070189\n",
      "1.58995070189\n",
      "1.58995070189\n",
      "1.58995070189\n",
      "1.58995070189\n",
      "1.58995070189\n",
      "1.58995070189\n",
      "1.58995070189\n",
      "1.58995070189\n",
      "1.58995070189\n",
      "1.58995070189\n",
      "1.58995070189\n",
      "1.58995070189\n",
      "1.58995070189\n",
      "1.58995070189\n",
      "1.58995070189\n",
      "1.58995070189\n",
      "1.58995070189\n",
      "1.58995070189\n",
      "1.58995070189\n",
      "1.58995070189\n",
      "1.58995070189\n",
      "1.58995070189\n",
      "1.58995070189\n",
      "1.58995070189\n",
      "1.58995070189\n",
      "1.58995070189\n",
      "1.58995070189\n",
      "1.58995070189\n",
      "1.58995070189\n",
      "1.58995070189\n",
      "1.58995070189\n",
      "1.58995070189\n",
      "1.58995070189\n",
      "1.58995070189\n",
      "1.58995070189\n",
      "1.58995070189\n",
      "1.58995070189\n",
      "1.58995070189\n",
      "1.58995070189\n",
      "1.58995070189\n",
      "1.58995070189\n",
      "1.58995070189\n",
      "1.58995070189\n",
      "1.58995070189\n",
      "1.58995070189\n",
      "1.58995070189\n",
      "1.58995070189\n",
      "1.58995070189\n",
      "1.58995070189\n",
      "1.58995070189\n",
      "1.58995070189\n",
      "1.58995070189\n",
      "1.58995070189\n",
      "1.58995070189\n",
      "1.58995070189\n",
      "1.53094387433\n",
      "1.53094387433\n",
      "1.53094387433\n",
      "1.53094387433\n",
      "1.53094387433\n",
      "1.53094387433\n",
      "1.53094387433\n",
      "1.53094387433\n",
      "1.53094387433\n",
      "1.53094387433\n",
      "1.53094387433\n",
      "1.53094387433\n",
      "1.53094387433\n",
      "1.53094387433\n",
      "1.53094387433\n",
      "1.53094387433\n",
      "1.53094387433\n",
      "1.53094387433\n",
      "1.53094387433\n",
      "1.53094387433\n",
      "1.53094387433\n",
      "1.53094387433\n",
      "1.53094387433\n",
      "1.53094387433\n",
      "1.53094387433\n",
      "1.53094387433\n",
      "1.53094387433\n",
      "1.53094387433\n",
      "1.53094387433\n",
      "1.53094387433\n",
      "1.53094387433\n",
      "1.53094387433\n",
      "1.53094387433\n",
      "1.53094387433\n",
      "1.53094387433\n",
      "1.53094387433\n",
      "1.53094387433\n",
      "1.53094387433\n",
      "1.53094387433\n",
      "1.53094387433\n",
      "1.53094387433\n",
      "1.53094387433\n",
      "1.53094387433\n",
      "1.53094387433\n",
      "1.53094387433\n",
      "1.53094387433\n",
      "1.53094387433\n",
      "1.53094387433\n",
      "1.53094387433\n",
      "1.53094387433\n",
      "1.53094387433\n",
      "1.53094387433\n",
      "1.53094387433\n",
      "1.53094387433\n",
      "1.53094387433\n",
      "1.53094387433\n",
      "1.53094387433\n",
      "1.53094387433\n",
      "1.53094387433\n",
      "1.53094387433\n",
      "1.53094387433\n",
      "1.53094387433\n",
      "1.53094387433\n",
      "1.53094387433\n",
      "1.53094387433\n",
      "1.53094387433\n",
      "1.53094387433\n",
      "1.53094387433\n",
      "1.53094387433\n",
      "1.53094387433\n",
      "1.53094387433\n",
      "1.53094387433\n",
      "1.53094387433\n",
      "1.53094387433\n",
      "1.53094387433\n",
      "1.53094387433\n",
      "1.53094387433\n",
      "1.53094387433\n",
      "1.53094387433\n",
      "1.53094387433\n",
      "1.53094387433\n",
      "1.53094387433\n",
      "1.53094387433\n",
      "1.53094387433\n",
      "1.53094387433\n",
      "1.53094387433\n",
      "1.53094387433\n",
      "1.53094387433\n",
      "1.53094387433\n",
      "1.53094387433\n",
      "1.53094387433\n",
      "1.53094387433\n",
      "1.53094387433\n",
      "1.53094387433\n",
      "1.53094387433\n",
      "1.53094387433\n",
      "1.53094387433\n",
      "1.53094387433\n",
      "1.53094387433\n",
      "1.53094387433\n"
     ]
    },
    {
     "data": {
      "image/png": "[encoded data removed]",
      "text/plain": [
       "<matplotlib.figure.Figure at 0x7f39a11f9d30>"
      ]
     },
     "metadata": {},
     "output_type": "display_data"
    }
   ],
   "source": [
    "rx, qy, pot_mpc, pot_ipa = plot_sweep_potential_0(r21array, q21array, eps=Epsilon_Si, j1max=20, j2max=20)"
   ]
  },
  {
   "cell_type": "code",
   "execution_count": 74,
   "metadata": {},
   "outputs": [
    {
     "data": {
      "image/png": "[encoded data removed]",
      "text/plain": [
       "<matplotlib.figure.Figure at 0x7f39a1097c50>"
      ]
     },
     "metadata": {},
     "output_type": "display_data"
    }
   ],
   "source": [
    "fig, ax = plt.subplots(figsize=(7, 5.85))\n",
    "cf = ax.contourf(rx, qy, pot_ipa, cmap=cm.gist_heat_r)\n",
    "plt.show()"
   ]
  },
  {
   "cell_type": "code",
   "execution_count": 75,
   "metadata": {},
   "outputs": [
    {
     "data": {
      "image/png": "[encoded data removed]",
      "text/plain": [
       "<matplotlib.figure.Figure at 0x7f39a11cb400>"
      ]
     },
     "metadata": {},
     "output_type": "display_data"
    }
   ],
   "source": [
    "fig, ax = plt.subplots(figsize=(7, 5.85))\n",
    "plt.plot(rx[0, :], pot_ipa[4, :])\n",
    "plt.plot(rx[0, :], pot_mpc[4, :], 'o')\n",
    "plt.plot(rx[0, :], pot_ipa[8, :])\n",
    "plt.plot(rx[0, :], pot_mpc[8, :], 'o')\n",
    "#plt.yscale('symlog')\n",
    "plt.show()"
   ]
  },
  {
   "cell_type": "code",
   "execution_count": 76,
   "metadata": {},
   "outputs": [
    {
     "data": {
      "text/plain": [
       "(100, 100)"
      ]
     },
     "execution_count": 76,
     "metadata": {},
     "output_type": "execute_result"
    }
   ],
   "source": [
    "pot_mpc.shape"
   ]
  },
  {
   "cell_type": "code",
   "execution_count": 77,
   "metadata": {},
   "outputs": [
    {
     "data": {
      "text/plain": [
       "(100, 100)"
      ]
     },
     "execution_count": 77,
     "metadata": {},
     "output_type": "execute_result"
    }
   ],
   "source": [
    "pot_ipa.shape"
   ]
  },
  {
   "cell_type": "code",
   "execution_count": 78,
   "metadata": {
    "collapsed": true
   },
   "outputs": [],
   "source": [
    "def rel_error_pct(xexp, xreal):\n",
    "    return 100.0*np.abs(xexp-xreal)/np.abs(xreal)"
   ]
  },
  {
   "cell_type": "code",
   "execution_count": 79,
   "metadata": {
    "collapsed": true
   },
   "outputs": [],
   "source": [
    "error = rel_error_pct(pot_ipa, pot_mpc)"
   ]
  },
  {
   "cell_type": "code",
   "execution_count": 80,
   "metadata": {},
   "outputs": [
    {
     "data": {
      "image/png": "[encoded data removed]",
      "text/plain": [
       "<matplotlib.figure.Figure at 0x7f39a1093d68>"
      ]
     },
     "metadata": {},
     "output_type": "display_data"
    }
   ],
   "source": [
    "fig, ax = plt.subplots(figsize=(7.25, 5.85))\n",
    "levels = [0, 1, 10, 20, 50]\n",
    "norm = mpl.colors.Normalize(vmin=levels[0], vmax=levels[-1])\n",
    "csf = ax.contourf(rx, qy, error, levels=levels, origin='lower', cmap=cm.gist_heat_r, norm=norm, extend='max')\n",
    "cs = ax.contour(rx, qy, error, levels=levels, origin='lower',\n",
    "                        colors='k', linewidths=1.0)\n",
    "cb = fig.colorbar(csf)\n",
    "cb.add_lines(cs)\n",
    "plt.ylabel(r\"$q_2/q_1$\")\n",
    "plt.xlabel(r\"$r_2/r_1$\")\n",
    "r21_labels = np.arange(0, 60, 10)\n",
    "r21_labels[0] = 1\n",
    "ax.set_xticks(r21_labels)\n",
    "cb.ax.set_ylabel(r\"\\% Error [\\textPhi$_\\text{IPA}$, \\textPhi$_\\text{PMC}$]$(r_\\text{min})$\")#, rotation=270)\n",
    "plt.tight_layout()\n",
    "plt.savefig('figB2.eps')\n",
    "plt.show()"
   ]
  },
  {
   "cell_type": "code",
   "execution_count": 81,
   "metadata": {},
   "outputs": [
    {
     "data": {
      "text/plain": [
       "140583.45550090176"
      ]
     },
     "execution_count": 81,
     "metadata": {},
     "output_type": "execute_result"
    }
   ],
   "source": [
    "error.max()"
   ]
  },
  {
   "cell_type": "code",
   "execution_count": 82,
   "metadata": {},
   "outputs": [
    {
     "data": {
      "text/plain": [
       "0.0009297642234059318"
      ]
     },
     "execution_count": 82,
     "metadata": {},
     "output_type": "execute_result"
    }
   ],
   "source": [
    "error.min()"
   ]
  },
  {
   "cell_type": "code",
   "execution_count": 83,
   "metadata": {
    "collapsed": true
   },
   "outputs": [],
   "source": [
    "def plot_sweep_potential_rt(r21array, q21array, eps, j1max=25, j2max=25):\n",
    "    fig, ax = plt.subplots(figsize=(7, 5.85))\n",
    "    \n",
    "    rx, qy = np.meshgrid(r21array, q21array)\n",
    "    \n",
    "    pot_mpc = np.zeros([len(r21array), len(q21array)])\n",
    "    pot_ipa = np.zeros_like(pot_mpc)\n",
    "    rt = np.zeros_like(pot_mpc)\n",
    "    no_rt = np.zeros_like(pot_mpc)\n",
    "    pot_no_rt = np.zeros_like(pot_mpc)\n",
    "\n",
    "    count = 0\n",
    "    for ir, r21 in enumerate(r21array):\n",
    "        for jq, q21 in enumerate(q21array):\n",
    "            root = -1\n",
    "            try:\n",
    "                root = optimize.brentq(lambda h: force_ipa_fact(h, r21, q21, eps=eps),\n",
    "                                       1+r21, 1e4*(1+r21), maxiter=10000)\n",
    "                rt[jq, ir] = root\n",
    "                As, Fx, A10 = compute_Acoefficients(1.0, 1.0, r21, q21, root, eps=eps, j1max=j1max, j2max=j2max)\n",
    "                #Acs = np.linalg.solve(As, Fx)\n",
    "                Acond = np.linalg.cond(As)\n",
    "                if Acond > 1.5:\n",
    "                    count += 1\n",
    "                    print(Acond)\n",
    "                #if count > 20:\n",
    "                #    return 0 \n",
    "                Acs, res, rank, s = np.linalg.lstsq(As, Fx)\n",
    "                acoeffs = np.append(A10, Acs)\n",
    "                pot_mpc[ir, jq] = potential_mpc(1.0, 1.0, r21, q21, root, acoeffs, eps=eps)\n",
    "                pot_ipa[ir, jq] = potential_ipa_fact(root, r21, q21, eps=eps)*Ke\n",
    "                pot_no_rt[ir, jq] = 1\n",
    "            except :\n",
    "                root = -1\n",
    "                no_rt[ir, jq] = root\n",
    "                pot_mpc[ir, jq] = root\n",
    "                pot_ipa[ir, jq] = root\n",
    "                pot_no_rt[ir, jq] = 0\n",
    "                \n",
    "                \n",
    "    #levels = [5e-16, 1e-15, 2e-15, 5e-15, 1e-14, 2e-14, 5e-14, 5e-13]\n",
    "#     cf = ax.contourf(rx, qy, pot_mpc, levels=levels, cmap=cm.gist_heat_r,  norm=colors.LogNorm())\n",
    "    #cf = ax.contourf(rx, qy, pot_ipa, cmap=cm.gist_heat_r)\n",
    "    cf = ax.contourf(rx, qy, pot_mpc.T, cmap=cm.gist_heat_r)\n",
    "    plt.show()\n",
    "    return rx, qy, rt, no_rt, pot_mpc.T, pot_ipa.T, pot_no_rt.T"
   ]
  },
  {
   "cell_type": "code",
   "execution_count": 84,
   "metadata": {},
   "outputs": [
    {
     "name": "stdout",
     "output_type": "stream",
     "text": [
      "1.86488957436\n",
      "1.76706893472\n",
      "1.86044590866\n",
      "1.57943186765\n",
      "1.70524245969\n",
      "1.56046646577\n",
      "1.58873875881\n",
      "1.65014949888\n",
      "1.55861230633\n",
      "1.61015705861\n"
     ]
    },
    {
     "data": {
      "image/png": "[encoded data removed]",
      "text/plain": [
       "<matplotlib.figure.Figure at 0x7f39a280ce80>"
      ]
     },
     "metadata": {},
     "output_type": "display_data"
    }
   ],
   "source": [
    "rx, qy, rt, no_rt, pot_mpc_rt, pot_ipa_rt, pot_no_rt = plot_sweep_potential_rt(r21array, q21array, eps=Epsilon_Si, j1max=20, j2max=20)"
   ]
  },
  {
   "cell_type": "code",
   "execution_count": 85,
   "metadata": {},
   "outputs": [
    {
     "data": {
      "image/png": "[encoded data removed]",
      "text/plain": [
       "<matplotlib.figure.Figure at 0x7f39a28276d8>"
      ]
     },
     "metadata": {},
     "output_type": "display_data"
    }
   ],
   "source": [
    "fig, ax = plt.subplots(figsize=(7, 5.85))\n",
    "cf = ax.contourf(rx, qy, pot_ipa_rt, cmap=cm.gist_heat_r)\n",
    "plt.show()"
   ]
  },
  {
   "cell_type": "code",
   "execution_count": 86,
   "metadata": {
    "collapsed": true
   },
   "outputs": [],
   "source": [
    "error_rt = rel_error_pct(pot_ipa_rt, pot_mpc_rt)"
   ]
  },
  {
   "cell_type": "code",
   "execution_count": 87,
   "metadata": {},
   "outputs": [
    {
     "data": {
      "image/png": "[encoded data removed]",
      "text/plain": [
       "<matplotlib.figure.Figure at 0x7f39a3558a90>"
      ]
     },
     "metadata": {},
     "output_type": "display_data"
    }
   ],
   "source": [
    "fig, ax = plt.subplots(figsize=(7, 5.85))\n",
    "levels = [0, 0.25, 0.5, 0.75, 1, 2]\n",
    "norm = mpl.colors.Normalize(vmin=levels[0], vmax=levels[-1])\n",
    "csf = ax.contourf(rx, qy, error_rt, levels=levels, origin='lower', cmap=cm.gist_heat_r, norm=norm, extend='max')\n",
    "cs = ax.contour(rx, qy, error_rt, levels=levels, origin='lower',\n",
    "                        colors='k', linewidths=1.5)\n",
    "cb = fig.colorbar(csf)\n",
    "cb.add_lines(cs)\n",
    "plt.ylabel(r\"$q_2/q_1$\")\n",
    "plt.xlabel(r\"$r_2/r_1$\")\n",
    "cb.ax.set_ylabel(r\"\\% Error $[U_\\text{IPA}, U_\\text{PMC}](r_t)$\")#, rotation=270)\n",
    "plt.show()"
   ]
  },
  {
   "cell_type": "code",
   "execution_count": 88,
   "metadata": {
    "collapsed": true
   },
   "outputs": [],
   "source": [
    "pot_no_rt[pot_no_rt<0]=-10"
   ]
  },
  {
   "cell_type": "code",
   "execution_count": 89,
   "metadata": {},
   "outputs": [
    {
     "data": {
      "image/png": "[encoded data removed]",
      "text/plain": [
       "<matplotlib.figure.Figure at 0x7f39a34b6278>"
      ]
     },
     "metadata": {},
     "output_type": "display_data"
    }
   ],
   "source": [
    "fig, ax = plt.subplots(figsize=(7, 5.85))\n",
    "levels = [-1, 0, 0.5, 1, 10]\n",
    "norm = mpl.colors.Normalize(vmin=levels[0], vmax=levels[-1])\n",
    "csf = ax.contourf(rx, qy, pot_no_rt, levels=levels, origin='lower', cmap=cm.gist_heat_r, norm=norm, extend='max')\n",
    "# cs = ax.contour(rx, qy, error_rt, levels=levels, origin='lower', colors='k', linewidths=1.5)\n",
    "cb = fig.colorbar(csf)\n",
    "# cb.add_lines(cs)\n",
    "plt.ylabel(r\"$q_2/q_1$\")\n",
    "plt.xlabel(r\"$r_2/r_1$\")\n",
    "cb.ax.set_ylabel(r\"\\% Error $[U_\\text{IPA}, U_\\text{PMC}](r_t)$\")#, rotation=270)\n",
    "plt.show()"
   ]
  },
  {
   "cell_type": "code",
   "execution_count": 90,
   "metadata": {
    "collapsed": true
   },
   "outputs": [],
   "source": [
    "cpot = np.copy(pot_no_rt)"
   ]
  },
  {
   "cell_type": "code",
   "execution_count": 91,
   "metadata": {
    "collapsed": true
   },
   "outputs": [],
   "source": [
    "cpot[cpot==0]=-1"
   ]
  },
  {
   "cell_type": "code",
   "execution_count": 92,
   "metadata": {},
   "outputs": [
    {
     "data": {
      "image/png": "[encoded data removed]",
      "text/plain": [
       "<matplotlib.figure.Figure at 0x7f39a28d9780>"
      ]
     },
     "metadata": {},
     "output_type": "display_data"
    }
   ],
   "source": [
    "fig, ax = plt.subplots(figsize=(7, 5.85))\n",
    "levels = [-1, 0, 1]\n",
    "norm = mpl.colors.Normalize(vmin=levels[0], vmax=levels[-1])\n",
    "csf = ax.contourf(rx, qy, cpot, levels=levels, origin='lower', cmap=cm.gist_heat_r, norm=norm)\n",
    "# cs = ax.contour(rx, qy, error_rt, levels=levels, origin='lower', colors='k', linewidths=1.5)\n",
    "cb = fig.colorbar(csf)\n",
    "# cb.add_lines(cs)\n",
    "plt.ylabel(r\"$q_2/q_1$\")\n",
    "plt.xlabel(r\"$r_2/r_1$\")\n",
    "cb.ax.set_ylabel(r\"\\% Error $[U_\\text{IPA}, U_\\text{PMC}](r_t)$\")#, rotation=270)\n",
    "plt.show()"
   ]
  },
  {
   "cell_type": "code",
   "execution_count": 93,
   "metadata": {},
   "outputs": [
    {
     "data": {
      "image/png": "[encoded data removed]",
      "text/plain": [
       "<matplotlib.figure.Figure at 0x7f39a27cf9b0>"
      ]
     },
     "metadata": {},
     "output_type": "display_data"
    }
   ],
   "source": [
    "fig, ax = plt.subplots(figsize=(7.5, 5.85))\n",
    "levels = [-1e-30, 0.1, 0.25, 0.5, 1.0, 10.0]\n",
    "norm = mpl.colors.Normalize(vmin=levels[1], vmax=levels[-1])\n",
    "hatches=['/', *[None]*(len(levels)-1)]\n",
    "csf = ax.contourf(rx, qy, cpot*error_rt, levels=levels, origin='lower', cmap=cm.gist_heat_r,\n",
    "                  norm=norm, extend='max', hatches=hatches)\n",
    "cs = ax.contour(rx, qy, error_rt, levels=levels, origin='lower', colors='k', linewidths=1.0)\n",
    "cb = fig.colorbar(csf)\n",
    "cb.add_lines(cs)\n",
    "plt.ylabel(r\"$q_2/q_1$\")\n",
    "plt.xlabel(r\"$r_2/r_1$\")\n",
    "r21_labels = np.arange(0, 60, 10)\n",
    "r21_labels[0] = 1\n",
    "ax.set_xticks(r21_labels)\n",
    "\n",
    "plt.ylim([-1e-1,50])\n",
    "plt.xlim([1,50])\n",
    "cb.ax.set_ylabel(r\"\\% Error [\\textPhi$_\\text{IPA}$, \\textPhi$_\\text{PMC}$]$(r_\\text{max})$\")#, rotation=270)\n",
    "plt.tight_layout()\n",
    "plt.savefig('figB3.eps')\n",
    "plt.show()"
   ]
  },
  {
   "cell_type": "code",
   "execution_count": 94,
   "metadata": {},
   "outputs": [
    {
     "data": {
      "text/plain": [
       "11.532607127592806"
      ]
     },
     "execution_count": 94,
     "metadata": {},
     "output_type": "execute_result"
    }
   ],
   "source": [
    "(cpot*error_rt).max()"
   ]
  },
  {
   "cell_type": "code",
   "execution_count": 95,
   "metadata": {},
   "outputs": [
    {
     "data": {
      "text/plain": [
       "11.532607127592806"
      ]
     },
     "execution_count": 95,
     "metadata": {},
     "output_type": "execute_result"
    }
   ],
   "source": [
    "error_rt.max()"
   ]
  },
  {
   "cell_type": "code",
   "execution_count": 96,
   "metadata": {},
   "outputs": [
    {
     "data": {
      "text/plain": [
       "0.0"
      ]
     },
     "execution_count": 96,
     "metadata": {},
     "output_type": "execute_result"
    }
   ],
   "source": [
    "error_rt.min()"
   ]
  },
  {
   "cell_type": "code",
   "execution_count": 97,
   "metadata": {},
   "outputs": [
    {
     "data": {
      "text/plain": [
       "array([  0.        ,   0.50505051,   1.01010101,   1.51515152,\n",
       "         2.02020202,   2.52525253,   3.03030303,   3.53535354,\n",
       "         4.04040404,   4.54545455,   5.05050505,   5.55555556,\n",
       "         6.06060606,   6.56565657,   7.07070707,   7.57575758,\n",
       "         8.08080808,   8.58585859,   9.09090909,   9.5959596 ,\n",
       "        10.1010101 ,  10.60606061,  11.11111111,  11.61616162,\n",
       "        12.12121212,  12.62626263,  13.13131313,  13.63636364,\n",
       "        14.14141414,  14.64646465,  15.15151515,  15.65656566,\n",
       "        16.16161616,  16.66666667,  17.17171717,  17.67676768,\n",
       "        18.18181818,  18.68686869,  19.19191919,  19.6969697 ,\n",
       "        20.2020202 ,  20.70707071,  21.21212121,  21.71717172,\n",
       "        22.22222222,  22.72727273,  23.23232323,  23.73737374,\n",
       "        24.24242424,  24.74747475,  25.25252525,  25.75757576,\n",
       "        26.26262626,  26.76767677,  27.27272727,  27.77777778,\n",
       "        28.28282828,  28.78787879,  29.29292929,  29.7979798 ,\n",
       "        30.3030303 ,  30.80808081,  31.31313131,  31.81818182,\n",
       "        32.32323232,  32.82828283,  33.33333333,  33.83838384,\n",
       "        34.34343434,  34.84848485,  35.35353535,  35.85858586,\n",
       "        36.36363636,  36.86868687,  37.37373737,  37.87878788,\n",
       "        38.38383838,  38.88888889,  39.39393939,  39.8989899 ,\n",
       "        40.4040404 ,  40.90909091,  41.41414141,  41.91919192,\n",
       "        42.42424242,  42.92929293,  43.43434343,  43.93939394,\n",
       "        44.44444444,  44.94949495,  45.45454545,  45.95959596,\n",
       "        46.46464646,  46.96969697,  47.47474747,  47.97979798,\n",
       "        48.48484848,  48.98989899,  49.49494949,  50.        ])"
      ]
     },
     "execution_count": 97,
     "metadata": {},
     "output_type": "execute_result"
    }
   ],
   "source": [
    "q21array"
   ]
  },
  {
   "cell_type": "code",
   "execution_count": null,
   "metadata": {
    "collapsed": true
   },
   "outputs": [],
   "source": []
  }
 ],
 "metadata": {
  "kernelspec": {
   "display_name": "Python 3",
   "language": "python",
   "name": "python3"
  },
  "language_info": {
   "codemirror_mode": {
    "name": "ipython",
    "version": 3
   },
   "file_extension": ".py",
   "mimetype": "text/x-python",
   "name": "python",
   "nbconvert_exporter": "python",
   "pygments_lexer": "ipython3",
   "version": "3.6.2"
  }
 },
 "nbformat": 4,
 "nbformat_minor": 2
}
