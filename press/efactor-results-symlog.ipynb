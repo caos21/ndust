{
 "cells": [
  {
   "cell_type": "code",
   "execution_count": 1,
   "metadata": {
    "collapsed": true
   },
   "outputs": [],
   "source": [
    "import itertools\n",
    "import sys\n",
    "import os\n",
    "import h5py\n",
    "from pprint import pprint\n",
    "import numpy as np\n",
    "from numpy import ma\n",
    "from copy import copy\n",
    "import matplotlib as mpl\n",
    "import matplotlib.pyplot as plt\n",
    "import matplotlib.animation as animation\n",
    "import matplotlib.mlab as mlab\n",
    "from matplotlib.ticker import MultipleLocator, LinearLocator, FormatStrFormatter, LogLocator, LogFormatterExponent, ScalarFormatter\n",
    "import matplotlib.ticker as ticker\n",
    "from matplotlib import cm\n",
    "from matplotlib import colors\n",
    "from matplotlib.colors import LogNorm\n",
    "from mpl_toolkits.mplot3d import Axes3D\n",
    "import seaborn as sns\n",
    "sns.set_style('darkgrid', {'axes.linewidth': '1', 'axes.edgecolor': '0.15'})\n",
    "sns.set_style(\"ticks\")\n",
    "current_palette = sns.color_palette()"
   ]
  },
  {
   "cell_type": "code",
   "execution_count": 2,
   "metadata": {},
   "outputs": [],
   "source": [
    "#https://stackoverflow.com/questions/20144529/shifted-colorbar-matplotlib/20146989#20146989\n",
    "class MidPointLogNorm(LogNorm):\n",
    "    '''\n",
    "    '''\n",
    "    def __init__(self, vmin=None, vmax=None, midpoint=None, clip=False):\n",
    "        LogNorm.__init__(self,vmin=vmin, vmax=vmax, clip=clip)\n",
    "        self.midpoint=midpoint\n",
    "    def __call__(self, value, clip=None):\n",
    "        result, is_scalar = self.process_value(value)\n",
    "        x, y = [np.log(self.vmin), np.log(self.midpoint), np.log(self.vmax)], [0, 0.5, 1]\n",
    "        return np.ma.array(np.interp(np.log(value), x, y), mask=result.mask, copy=False)"
   ]
  },
  {
   "cell_type": "code",
   "execution_count": 4,
   "metadata": {
    "collapsed": true
   },
   "outputs": [],
   "source": [
    "# class LogMidpointNormalize(colors.Normalize):\n",
    "#     def __init__(self, midpoint=0, vmin=None, vmax=None, clip=False):\n",
    "#         colors.Normalize.__init__(self,vmin, vmax, clip)\n",
    "#         self.midpoint = midpoint\n",
    "\n",
    "#     def __call__(self, value, clip=None):\n",
    "#         if clip is None:\n",
    "#             clip = self.clip\n",
    "\n",
    "#         result, is_scalar = self.process_value(value)\n",
    "\n",
    "#         self.autoscale_None(result)\n",
    "#         vmin, vmax, midpoint = self.vmin, self.vmax, self.midpoint\n",
    "\n",
    "#         if not (vmin < midpoint < vmax):\n",
    "#             raise ValueError(\"midpoint must be between maxvalue and minvalue.\")       \n",
    "#         elif vmin == vmax:\n",
    "#             result.fill(0) # Or should it be all masked? Or 0.5?\n",
    "#         elif vmin > vmax:\n",
    "#             raise ValueError(\"maxvalue must be bigger than minvalue\")\n",
    "#         else:\n",
    "#             vmin = float(vmin)\n",
    "#             vmax = float(vmax)\n",
    "#             if clip:\n",
    "#                 mask = ma.getmask(result)\n",
    "#                 result = ma.array(np.clip(result.filled(vmax), vmin, vmax),\n",
    "#                                   mask=mask)\n",
    "\n",
    "#             # ma division is very slow; we can take a shortcut\n",
    "#             resdat = result.data\n",
    "\n",
    "#             # in-place equivalent of above can be much faster\n",
    "#             resdat = result.data\n",
    "#             mask = result.mask\n",
    "#             if mask is ma.nomask:\n",
    "#                 mask = (resdat <= 0)\n",
    "#             else:\n",
    "#                 mask |= resdat <= 0\n",
    "#             np.copyto(resdat, 1, where=mask)\n",
    "#             np.log(resdat, resdat)\n",
    "           \n",
    "#             #working\n",
    "#             #resdat -= np.log(vmin)\n",
    "#             #resdat /= (np.log(vmax) - np.log(vmin))\n",
    "#             #result = np.ma.array(resdat, mask=mask, copy=False)\n",
    "#             #end of working\n",
    "            \n",
    "#             #First scale to -1 to 1 range, than to from 0 to 1.\n",
    "#             resdat -= midpoint            \n",
    "#             resdat[resdat>0] /= abs(vmax - midpoint)            \n",
    "#             resdat[resdat<0] /= abs(vmin - midpoint)\n",
    "\n",
    "#             resdat /= 2.\n",
    "#             resdat += 0.5\n",
    "#             result = ma.array(resdat, mask=result.mask, copy=False)                \n",
    "\n",
    "#         if is_scalar:\n",
    "#             result = result[0]            \n",
    "#         return result\n",
    "\n",
    "#     def inverse(self, value):\n",
    "#         if not self.scaled():\n",
    "#             raise ValueError(\"Not invertible until scaled\")\n",
    "#         vmin, vmax, midpoint = self.vmin, self.vmax, self.midpoint\n",
    "\n",
    "#         if cbook.iterable(value):\n",
    "#             val = ma.asarray(value)\n",
    "#             val = 2 * (val-0.5)  \n",
    "#             val[val>0]  *= abs(vmax - midpoint)\n",
    "#             val[val<0] *= abs(vmin - midpoint)\n",
    "#             val += midpoint\n",
    "#             return val\n",
    "#         else:\n",
    "#             val = 2 * (val - 0.5)\n",
    "#             if val < 0: \n",
    "#                 return  val*abs(vmin-midpoint) + midpoint\n",
    "#             else:\n",
    "#                 return  val*abs(vmax-midpoint) + midpoint"
   ]
  },
  {
   "cell_type": "code",
   "execution_count": 5,
   "metadata": {
    "collapsed": true
   },
   "outputs": [],
   "source": [
    "# class LogMidpointNormalize(colors.Normalize):\n",
    "#     def __init__(self, vmin=None, vmax=None, midpoint=None, clip=False):\n",
    "#         self.midpoint = midpoint\n",
    "#         colors.Normalize.__init__(self, vmin, vmax, clip)\n",
    "\n",
    "#     def __call__(self, value, clip=None):\n",
    "#         if clip is None:\n",
    "#             clip = self.clip\n",
    "\n",
    "#         result, is_scalar = self.process_value(value)\n",
    "#         #result = ma.masked_less_equal(result, 0, copy=False)\n",
    "        \n",
    "#         #self.autoscale_None(result)\n",
    "\n",
    "#         vmin, vmax = self.vmin, self.vmax\n",
    "#         midpoint = self.midpoint\n",
    "#         if vmin > vmax:\n",
    "#             raise ValueError(\"minvalue must be less than or equal to maxvalue\")\n",
    "#         elif vmin <= 0:\n",
    "#             raise ValueError(\"values must all be positive\")\n",
    "#         elif vmin == vmax:\n",
    "#             result.fill(0)\n",
    "#         else:\n",
    "#             if clip:\n",
    "#                 mask = ma.getmask(result)\n",
    "#                 result = ma.array(np.clip(result.filled(vmax), vmin, vmax),\n",
    "#                                      mask=mask)\n",
    "#             # in-place equivalent of above can be much faster\n",
    "#             resdat = result.data\n",
    "#             mask = result.mask\n",
    "#             if mask is ma.nomask:\n",
    "#                 mask = (resdat <= 0)\n",
    "#             else:\n",
    "#                 mask |= resdat <= 0\n",
    "#             np.copyto(resdat, 1, where=mask)\n",
    "#             np.log(resdat, resdat)\n",
    "#             #resmin = resdat[resdat<0]\n",
    "#             #resmax = resdat[resdat>0]\n",
    "#             rescopy = np.copy(resdat)\n",
    "\n",
    "#             try:\n",
    "#                 resdat[rescopy<0] -= np.log(vmin)\n",
    "#                 resdat[rescopy<0] /= resdat[rescopy<0].max()\n",
    "#             except ValueError:  #raised if `y` is empty.\n",
    "#                 pass\n",
    "\n",
    "#             resdat[rescopy>0] /= np.log(vmax)\n",
    "            \n",
    "#             resdat /= 2.\n",
    "#             resdat[rescopy>0] += 0.5\n",
    "#             #resmax /= resmax\n",
    "#             #resdat /= (np.log(vmax) - np.log(vmin))\n",
    "#             #resdat[resdat<0] = \n",
    "            \n",
    "#             # https://stackoverflow.com/questions/7404116/defining-the-midpoint-of-a-colormap-in-matplotlib/20528097\n",
    "#             #First scale to -1 to 1 range, than to from 0 to 1.\n",
    "#             #resdat -= np.log(self.midpoint)\n",
    "#             #resdat[resdat>0] /= abs(np.log - self.midpoint)            \n",
    "#             #resdat[resdat<0] /= abs(self.vmin - self.midpoint)\n",
    "\n",
    "#             #resdat[resdat<0] = 0.5*resmin\n",
    "#             #resdat[resdat>0] = 0.5*resmax \n",
    "            \n",
    "#             #resdat /= 2.\n",
    "#             #resdat += 0.5\n",
    "#             result = ma.array(resdat, mask=result.mask, copy=False)\n",
    "            \n",
    "#             #working\n",
    "#             #resdat -= np.log(vmin)\n",
    "#             #resdat /= (np.log(vmax) - np.log(vmin))\n",
    "#             #result = np.ma.array(resdat, mask=mask, copy=False)\n",
    "#             #end of working\n",
    "            \n",
    "#         #x, y = [self.vmin, self.midpoint, self.vmax], [0, 0.5, 1]\n",
    "#         #return np.ma.masked_array(np.interp(value, x, y))\n",
    "#         return result\n",
    "    \n",
    "#     def autoscale_None(self, A):\n",
    "#         \"\"\"autoscale only None-valued vmin or vmax.\"\"\"\n",
    "#         if self.vmin is not None and self.vmax is not None:\n",
    "#             return\n",
    "#         A = ma.masked_less_equal(A, 0, copy=False)\n",
    "#         if self.vmin is None and A.size:\n",
    "#             self.vmin = A.min()\n",
    "#         if self.vmax is None and A.size:\n",
    "#             self.vmax = A.max()"
   ]
  },
  {
   "cell_type": "code",
   "execution_count": 3,
   "metadata": {},
   "outputs": [],
   "source": [
    "class mplot4d(object):\n",
    "    def __init__(self, h5gridprefix = None, idb=0, idt=10, iqn = 26, iqp = 35):\n",
    "        '''\n",
    "        '''\n",
    "        self.defpath = r'/home/ben/git/ndust/data/'\n",
    "\n",
    "        self.h5gridprefix = h5gridprefix\n",
    "        self.h5gridprefix = self.defpath + self.h5gridprefix\n",
    "\n",
    "        # Read grid file\n",
    "        self.gridfname = self.h5gridprefix + '.h5'\n",
    "        self.gridfile =  h5py.File(self.gridfname, 'r')\n",
    "\n",
    "        ## group volumes\n",
    "        self.gvols = self.gridfile.get(\"Volume_sections\")\n",
    "        self.vifaces = np.array(self.gvols.get(\"Interfaces\"))\n",
    "\n",
    "        ## interfaces in diameters nm\n",
    "        self.vifaces_diam = np.power(6.0*self.vifaces/np.pi, 1.0/3.0)*1E9\n",
    "\n",
    "        ## WARNING diameter pivots in nanometres\n",
    "        self.vpivots = np.array(self.gvols.get(\"Volumes\"))\n",
    "\n",
    "        ## pivots in diameters\n",
    "        self.dpivots = np.array(self.gvols.get(\"Diameters\"))*1E9\n",
    "\n",
    "        ## group charges\n",
    "        self.gchgs = self.gridfile.get(\"Charge_sections\")\n",
    "\n",
    "        self.qpivots = np.array(self.gchgs.get(\"Charges\"))\n",
    "        #self.qifaces = np.append()\n",
    "        #np.array(self.gchgs.get(\"qifaces\"))\n",
    "\n",
    "        self.idb = []\n",
    "        self.idt = []\n",
    "        self.iqn = []\n",
    "        self.iqp = []\n",
    "        self.set_grid(idb, idt, iqn, iqp)\n",
    "\n",
    "        self.gcoagulation = self.gridfile.get(\"Coagulation_rate\")\n",
    "        self.gefactor = self.gridfile.get(\"Enhancement_factor\")\n",
    "        self.loglevels = np.array([0, 1, 20, 50, 100, 200, 500])\n",
    "        self.hatches=['/', *[None]*(len(self.loglevels)-1)]\n",
    "        self.hsize = []\n",
    "        self.vsize = []\n",
    "        \n",
    "        self.logvmin = -4\n",
    "        self.logvmax = 4\n",
    "        self.minvalue = 10**self.logvmin\n",
    "\n",
    "    def sci_fmt(self, x, pos):\n",
    "        ''' Scientific format\n",
    "        '''\n",
    "        # WORKING\n",
    "        a, b = '{:.2e}'.format(x).split('e')\n",
    "        b = int(b)\n",
    "        if a==0:\n",
    "            return r'${{}}$'.format(a)\n",
    "        else:\n",
    "            return r'$10^{{{}}}$'.format(b)\n",
    "\n",
    "    def set_grid(self, idb, idt, iqn, iqp):\n",
    "        self.idb = idb# index for minimum diameter\n",
    "        self.idt = idt# index for maximum diameter\n",
    "        self.iqn = iqn# index for negative charges\n",
    "        self.iqp = iqp# index for positive charges\n",
    "        # make grid\n",
    "        self.X, self.Y = np.meshgrid(self.dpivots[idb:idt], self.qpivots[iqn:iqp])\n",
    "        self.extents_linear = [0, len(self.dpivots[idb:idt]), 0, len(self.qpivots[iqn:iqp])]\n",
    "\n",
    "    def get(self, name):\n",
    "        efactor = np.array(self.gefactor.get(name))\n",
    "        # get one dataset for testing    \n",
    "        result = np.array(self.gcoagulation.get(name))\n",
    "        res_gt_0 = result > 0\n",
    "        log10res = np.zeros_like(result)\n",
    "        log10res[res_gt_0] = np.log10(result[res_gt_0])\n",
    "        return result, log10res, efactor\n",
    "\n",
    "    def close(self):\n",
    "        self.gridfile.close()\n",
    "\n",
    "    def plot_fcontours(self, ax, data, levelsf=None, cmap=cm.plasma):\n",
    "        \"\"\"\n",
    "        \"\"\"\n",
    "        if levelsf is None:\n",
    "            levelsf = np.arange(1, 18, 2)\n",
    "\n",
    "        norm = mpl.colors.Normalize(vmin=levelsf[0], vmax=levelsf[-1])\n",
    "        \n",
    "        # restrict data to grid\n",
    "        datagrid = data[self.iqn:self.iqp, self.idb:self.idt]\n",
    "\n",
    "        CSF = ax.contourf(self.X, self.Y, datagrid, levelsf, cmap=cmap,\n",
    "                          origin='lower', norm=norm, extent=self.extents_linear,\n",
    "                          hatches=self.hatches, extend='max')\n",
    "        CS = ax.contour(self.X, self.Y, datagrid, levels=levelsf, origin='lower',\n",
    "                        colors='k', linewidths=1.5)\n",
    "        return CSF, CS\n",
    "\n",
    "    def plot_fcontours_symlog(self, ax, data, levelsf=None, cmap=cm.coolwarm_r):\n",
    "        \"\"\"\n",
    "        \"\"\"\n",
    "        if levelsf is None:\n",
    "            levelsf = np.logspace(self.logvmin, self.logvmax,\n",
    "                                  num=-self.logvmin+self.logvmax+1, base=10)\n",
    "\n",
    "        vmin = levelsf[0]\n",
    "        vmax=levelsf[-1]\n",
    "        \n",
    "        #norm = mpl.colors.LogNorm(vmin=levelsf.min(), vmax=levelsf.max())\n",
    "        norm = MidPointLogNorm(clip=False, midpoint=1.0, vmin=vmin, vmax=vmax)\n",
    "       \n",
    "        # restrict data to grid\n",
    "        datagrid = data[self.iqn:self.iqp, self.idb:self.idt]\n",
    "\n",
    "        CSF = ax.contourf(self.X, self.Y, datagrid, levels=levelsf, cmap=cmap, vmin=vmin, vmax=vmax,\n",
    "                          norm=norm)\n",
    "        \n",
    "        CS = ax.contour(self.X, self.Y, datagrid, levels=levelsf, colors='k', linewidths=1.5)\n",
    "        \n",
    "        return CSF, CS, levelsf\n",
    "\n",
    "    def plot(self, llist, qlist, levelsf=np.logspace(0, 3, 20), xaxticks=None,\n",
    "             yaxticks=None, filename='name', hsize=None, vsize=None):\n",
    "        data = []\n",
    "        \n",
    "        for ll in llist:\n",
    "            for ql in qlist:\n",
    "                # iterate in datasets of gefactor\n",
    "                for ds in self.gefactor.keys():\n",
    "                    lp = self.gefactor.get(str(ds)).attrs.get('l')\n",
    "                    qp = self.gefactor.get(str(ds)).attrs.get('q')\n",
    "                    if(ll==lp and ql==qp):\n",
    "                        data.append(np.array(self.gefactor.get(str(ds))))\n",
    "        if not hsize:\n",
    "            self.hsize = len(qlist)*4.5\n",
    "        else:\n",
    "            self.hsize = hsize\n",
    "        if not vsize:\n",
    "            self.vsize = len(llist)*3.5\n",
    "        else:\n",
    "            self.vsize = vsize\n",
    "\n",
    "        fig, axes = plt.subplots(nrows=len(qlist), ncols=len(llist), figsize=(self.hsize, self.vsize))\n",
    "\n",
    "        for ax in axes.flat:\n",
    "            # Hide all ticks and labels\n",
    "            ax.xaxis.set_visible(False)\n",
    "            ax.yaxis.set_visible(False)\n",
    "            \n",
    "        i=0\n",
    "        for j, (col, l) in enumerate(zip(axes.T, llist)):\n",
    "            if(len(qlist)>1):\n",
    "                for ax, q in zip(col, qlist):        \n",
    "                    CSF, CS = self.plot_fcontours(ax, data[i], levelsf=self.loglevels, cmap=cm.gist_heat_r)\n",
    "                    i = i+1\n",
    "            else:\n",
    "                CSF, CS = self.plot_fcontours(axes[j], data[j], levelsf=self.loglevels, cmap=cm.gist_heat_r)\n",
    "\n",
    "        if(len(qlist)>1):\n",
    "            axes[len(col)-1, 0].xaxis.set_visible(True)\n",
    "            axes[len(col)-1, 0].set_xlabel('Diameter of particle 1 (nm)', size=16)\n",
    "            axes[len(col)-1, 0].yaxis.set_visible(True)\n",
    "            axes[len(col)-1, 0].set_ylabel('Charge of particle 1 (e)', size=16)\n",
    "            axes[len(col)-1, 0].yaxis.set_ticks_position('left')\n",
    "        \n",
    "        for ax in axes.flat:\n",
    "            ax.xaxis.set_visible(True)\n",
    "            ax.yaxis.set_visible(True)\n",
    "            ax.xaxis.set_ticks_position('bottom')\n",
    "            ax.yaxis.set_ticks_position('left')\n",
    "            for tick in ax.xaxis.get_major_ticks():\n",
    "                tick.label.set_fontsize(14)\n",
    "            ax.set_yticks(self.Y[:, 0])\n",
    "            if xaxticks:\n",
    "                ax.set_xticks(xaxticks)\n",
    "            if yaxticks:\n",
    "                ax.set_yticks(yaxticks)\n",
    "            for tick in ax.xaxis.get_major_ticks():\n",
    "                tick.label.set_fontsize(14)\n",
    "            for tick in ax.yaxis.get_major_ticks():\n",
    "                tick.label.set_fontsize(14)\n",
    "\n",
    "        if(len(qlist)>1):\n",
    "            for ax, l in zip(axes[0], llist):\n",
    "                ax.set_title('{:.1f}'.format((self.dpivots[l])), size=16)\n",
    "                ax.yaxis.set_visible(True)\n",
    "\n",
    "            for ax, q in zip(axes[:, -1], qlist):\n",
    "                ax.set_ylabel('{:+.0f}'.format((self.qpivots[q])), size=16, rotation=270, labelpad=20)\n",
    "                ax.yaxis.set_label_position(\"right\")\n",
    "                ax.xaxis.set_visible(True)\n",
    "                for tick in ax.xaxis.get_major_ticks():\n",
    "                    tick.label.set_fontsize(14)\n",
    "        else:\n",
    "            for ax, l in zip(axes, llist):\n",
    "                ax.set_title('{:.1f}'.format((self.dpivots[l])), size=16)\n",
    "                ax.yaxis.set_visible(True)\n",
    "\n",
    "            ax = axes[0]\n",
    "            ax.xaxis.set_visible(True)\n",
    "            for tick in ax.xaxis.get_major_ticks():\n",
    "                tick.label.set_fontsize(14)\n",
    "            ax.xaxis.set_visible(True)\n",
    "            ax.set_xlabel('Diameter of particle 1 (nm)', size=16)\n",
    "            ax.yaxis.set_visible(True)\n",
    "            ax.set_ylabel('Charge of particle 1 (e)', size=16)\n",
    "            ax.yaxis.set_ticks_position('left')\n",
    "\n",
    "        if(len(qlist)>1):\n",
    "            plt.gcf().text(0.3, 0.92,\"Diameter of particle 2 (nm)\", ha=\"left\", fontsize=20)\n",
    "            plt.gcf().text(0.72, 0.64,\"Charge of particle 2 (e)\", ha=\"left\", fontsize=20, rotation=-90)\n",
    "        else:\n",
    "            plt.gcf().text(0.3, 1,\"Diameter of particle 2 (nm)\", ha=\"left\", fontsize=20)\n",
    "            #plt.gcf().text(0.75, 0.8,\"Charge of particle 2 (e)\", ha=\"left\", fontsize=20, rotation=-90)\n",
    "        \n",
    "        cbpad = 0.12\n",
    "        if(len(qlist)==1):\n",
    "            cbpad = 0.04\n",
    "        CB = fig.colorbar(CSF, ax=axes.ravel().tolist(), pad=cbpad)\n",
    "        CB.add_lines(CS)\n",
    "            \n",
    "        CB.ax.set_ylabel('Enhancement factor', rotation=270, fontsize=20, labelpad=20)\n",
    "        CB.ax.tick_params(labelsize=14)\n",
    "        \n",
    "        plt.savefig(filename+'.eps')\n",
    "        plt.show()\n",
    "        #\n",
    "    #\n",
    "    #\n",
    "    def plot_fsymlog_c(self, llist, qlist, levelsf=None, xaxticks=None,\n",
    "                     yaxticks=None, filename='name', hsize=None, vsize=None, mean_charge=None):\n",
    "        data_orig = []\n",
    "        \n",
    "        for ll in llist:\n",
    "            for ql in qlist:\n",
    "                # iterate in datasets of gefactor\n",
    "                for ds in self.gefactor.keys():\n",
    "                    lp = self.gefactor.get(str(ds)).attrs.get('l')\n",
    "                    qp = self.gefactor.get(str(ds)).attrs.get('q')\n",
    "                    if(ll==lp and ql==qp):\n",
    "                        data_orig.append(np.array(self.gefactor.get(str(ds))))\n",
    "        # prune data\n",
    "        data = np.copy(data_orig)        \n",
    "        #data[data<1e-4]=1e-4\n",
    "        \n",
    "        if not hsize:\n",
    "            self.hsize = len(qlist)*4.5\n",
    "        else:\n",
    "            self.hsize = hsize\n",
    "        if not vsize:\n",
    "            self.vsize = len(llist)*3.5\n",
    "        else:\n",
    "            self.vsize = vsize\n",
    "\n",
    "        fig, axes = plt.subplots(nrows=len(qlist), ncols=len(llist), figsize=(self.hsize, self.vsize))\n",
    "\n",
    "        for ax in axes.flat:\n",
    "            # Hide all ticks and labels\n",
    "            ax.xaxis.set_visible(False)\n",
    "            ax.yaxis.set_visible(False)\n",
    "            if mean_charge:\n",
    "                ax.plot(mean_charge[0], mean_charge[1], '-w', linewidth=3)\n",
    "\n",
    "        mini = self.logvmin\n",
    "        maxi = self.logvmax\n",
    "        levelsf2 = np.logspace(mini, maxi, num=256, base=10)\n",
    "        levelsf3 = np.logspace(mini, maxi, num=-mini+1+maxi, base=10)\n",
    "\n",
    "        #levelsf4 = np.array([1e-3, 1e-2, 1e-1, 1, 10, 20, 50, 100, 200, 500, 1000, 10000])\n",
    "        levelsf4 = np.copy(levelsf3)\n",
    "        \n",
    "        palette = copy(cm.coolwarm_r)\n",
    "        #palette.set_over('b', 1.0)\n",
    "        #palette.set_under('r', 0.0)\n",
    "        \n",
    "        i=0\n",
    "        for j, (col, l) in enumerate(zip(axes.T, llist)):\n",
    "            if(len(qlist)>1):\n",
    "                for ax, q in zip(col, qlist):        \n",
    "                    datagrid = data[i][self.iqn:self.iqp, self.idb:self.idt]\n",
    "                    trimmed = np.copy(datagrid)\n",
    "                    trimmed[datagrid<self.minvalue]=self.minvalue\n",
    "                    vmin = levelsf2.min()\n",
    "                    vmax = levelsf2.max()\n",
    "                    CSF = ax.contourf(self.X, self.Y, trimmed, cmap=palette, levels=levelsf2,\n",
    "                                      norm=MidPointLogNorm(clip=False,midpoint=1.0, vmin=vmin, vmax=vmax),\n",
    "                                      vmin=vmin, vmax=vmax)\n",
    "\n",
    "#                     vmin=1e-3\n",
    "#                     vmax=1e3\n",
    "#                     norm = mpl.colors.LogNorm(vmin=levelsf2.min(), vmax=levelsf2.max())\n",
    "#                     CSF = ax.contourf(self.X, self.Y, trimmed, cmap=palette, levels=levelsf2,\n",
    "#                                       norm=norm,\n",
    "#                                       vmin=vmin, vmax=vmax)\n",
    "#                     CSF = ax.contourf(self.X, self.Y, trimmed, cmap=palette, levels=levelsf2,\n",
    "#                                       norm=LogMidpointNormalize(clip=False,midpoint=1.0, vmin=vmin, vmax=vmax),\n",
    "#                                       vmin=vmin, vmax=vmax)\n",
    "                    #CSF.cmap.set_over('b')\n",
    "                    CS = ax.contour(self.X, self.Y, trimmed, levels=levelsf4, colors='k', linewidths=1.5)\n",
    "                    i = i+1\n",
    "            else:\n",
    "                #CSF, CS, levelsf = self.plot_fcontours_symlog(axes[j], data[j], levelsf=levelsf, cmap=cm.coolwarm_r)\n",
    "                datagrid = data[j][self.iqn:self.iqp, self.idb:self.idt]\n",
    "                trimmed = np.copy(datagrid)\n",
    "                trimmed[datagrid<self.minvalue]=self.minvalue\n",
    "                vmin = levelsf2.min()\n",
    "                vmax = levelsf2.max()\n",
    "                CSF = axes[j].contourf(self.X, self.Y, trimmed, cmap=palette, levels=levelsf2,\n",
    "                                  norm=MidPointLogNorm(clip=False,midpoint=1.0, vmin=vmin, vmax=vmax),\n",
    "                                  vmin=vmin, vmax=vmax)\n",
    "#                 vmin=1e-3\n",
    "#                 vmax=1e3\n",
    "#                 norm = mpl.colors.LogNorm(vmin=levelsf2.min(), vmax=levelsf2.max())\n",
    "#                 CSF = axes[j].contourf(self.X, self.Y, trimmed, cmap=palette, levels=levelsf2,\n",
    "#                                   norm=norm,\n",
    "#                                   vmin=vmin, vmax=vmax)\n",
    "#                 CSF = axes[j].contourf(self.X, self.Y, trimmed, cmap=palette, levels=levelsf2,\n",
    "#                                   norm=LogMidpointNormalize(clip=False,midpoint=1.0, vmin=vmin, vmax=vmax),\n",
    "#                                   vmin=vmin, vmax=vmax)\n",
    "                CS = axes[j].contour(self.X, self.Y, trimmed, levels=levelsf4, colors='k', linewidths=1.5)\n",
    "\n",
    "\n",
    "        if(len(qlist)>1):\n",
    "            axes[len(col)-1, 0].xaxis.set_visible(True)\n",
    "            axes[len(col)-1, 0].set_xlabel('Diameter of particle 1 (nm)', size=16)\n",
    "            axes[len(col)-1, 0].yaxis.set_visible(True)\n",
    "            axes[len(col)-1, 0].set_ylabel('Charge of particle 1 (e)', size=16)\n",
    "            axes[len(col)-1, 0].yaxis.set_ticks_position('left')\n",
    "        \n",
    "        for ax in axes.flat:\n",
    "            ax.xaxis.set_visible(True)\n",
    "            ax.yaxis.set_visible(True)\n",
    "            ax.xaxis.set_ticks_position('bottom')\n",
    "            ax.yaxis.set_ticks_position('left')\n",
    "            ax.set_yscale('symlog')\n",
    "            for tick in ax.xaxis.get_major_ticks():\n",
    "                tick.label.set_fontsize(14)\n",
    "            #ax.set_yticks(self.Y[:, 0])\n",
    "            if xaxticks:\n",
    "                ax.set_xticks(xaxticks)\n",
    "            if yaxticks:\n",
    "                ax.set_yticks(yaxticks)\n",
    "                ax.get_yaxis().set_major_formatter(ScalarFormatter())\n",
    "            for tick in ax.xaxis.get_major_ticks():\n",
    "                tick.label.set_fontsize(14)\n",
    "            for tick in ax.yaxis.get_major_ticks():\n",
    "                tick.label.set_fontsize(14)\n",
    "\n",
    "        if(len(qlist)>1):\n",
    "            for ax, l in zip(axes[0], llist):\n",
    "                ax.set_title('{:.1f}'.format((self.dpivots[l])), size=16)\n",
    "                ax.yaxis.set_visible(True)\n",
    "\n",
    "            for ax, q in zip(axes[:, -1], qlist):\n",
    "                ax.set_ylabel('{:+.0f}'.format((self.qpivots[q])), size=16, rotation=270, labelpad=20)\n",
    "                ax.yaxis.set_label_position(\"right\")\n",
    "                ax.xaxis.set_visible(True)\n",
    "                for tick in ax.xaxis.get_major_ticks():\n",
    "                    tick.label.set_fontsize(14)\n",
    "        else:\n",
    "            for ax, l in zip(axes, llist):\n",
    "                ax.set_title('{:.1f}'.format((self.dpivots[l])), size=16)\n",
    "                ax.yaxis.set_visible(True)\n",
    "\n",
    "            ax = axes[0]\n",
    "            ax.xaxis.set_visible(True)\n",
    "            for tick in ax.xaxis.get_major_ticks():\n",
    "                tick.label.set_fontsize(14)\n",
    "            ax.xaxis.set_visible(True)\n",
    "            ax.set_xlabel('Diameter of particle 1 (nm)', size=16)\n",
    "            ax.yaxis.set_visible(True)\n",
    "            ax.set_ylabel('Charge of particle 1 (e)', size=16)\n",
    "            ax.yaxis.set_ticks_position('left')\n",
    "\n",
    "        if(len(qlist)>1):\n",
    "            plt.gcf().text(0.37, 0.96,\"Diameter of particle 2 (nm)\", ha=\"left\", fontsize=20)\n",
    "            plt.gcf().text(0.88, 0.64,\"Charge of particle 2 (e)\", ha=\"left\", fontsize=20, rotation=-90)\n",
    "        else:\n",
    "            plt.gcf().text(0.37, 1,\"Diameter of particle 2 (nm)\", ha=\"left\", fontsize=20)\n",
    "            #plt.gcf().text(0.75, 0.8,\"Charge of particle 2 (e)\", ha=\"left\", fontsize=20, rotation=-90)\n",
    "        \n",
    "        cbpad = 0.12\n",
    "        if(len(qlist)==1):\n",
    "            cbpad = 0.04\n",
    "        \n",
    "        # Color bar in its own axis. Placement [left, bottom, width, height]\n",
    "        cbaxes = []\n",
    "        if(len(qlist)>1):\n",
    "            cbaxes = fig.add_axes([0.91, 0.1, 0.02, 0.8]) \n",
    "        else:\n",
    "            cbaxes = fig.add_axes([0.88, 0.1, 0.02, 0.8]) \n",
    "        \n",
    "        CB = plt.colorbar(CSF, ax=axes.ravel().tolist(), format=ticker.FuncFormatter(self.sci_fmt), cax=cbaxes)\n",
    "        #CB = plt.colorbar(CSF, ax=axes.ravel().tolist(), cax=cbaxes)\n",
    "        #CB = plt.colorbar(CSF, ax=axes.ravel().tolist(), pad=cbpad, format=ticker.FuncFormatter(self.sci_fmt))\n",
    "        #CB.add_lines(CS, erase=False)\n",
    "        #CB.add_lines(CS)\n",
    "            \n",
    "        CB.ax.set_ylabel('Enhancement factor', rotation=270, fontsize=20, labelpad=20)\n",
    "        CB.ax.tick_params(labelsize=14)\n",
    "\n",
    "        #labels = CB.ax.get_yticklabels()\n",
    "        #print(len(labels), labels)\n",
    "        #for label in labels:\n",
    "        #    print(label.get_text())\n",
    "        \n",
    "        #tick_locator = ticker.MaxNLocator(nbins=9)\n",
    "        #CB.locator = tick_locator\n",
    "\n",
    "        #tiks = CB.ax.get_yticks()\n",
    "        #for tik in tiks:\n",
    "        #    pprint(tik)\n",
    "            #pprint(vars(tik))\n",
    "        #cbar.set_ticks(ticks)\n",
    "        #levelsf3 = [levelsf3[0]*0.1, *levelsf3, 1e5]\n",
    "        CB.set_ticks(levelsf3)\n",
    "        #CB.set_ticklabels(levelsf3)\n",
    "        #print(len(levelsf3), levelsf3)\n",
    "        \n",
    "        #CB.update_ticks()\n",
    "        \n",
    "        # get ticks normalized 0 to 1        \n",
    "        tiks = CB.ax.get_yticks()\n",
    "        # plot an horizontal black line in the colorbar\n",
    "        [CB.ax.plot([0, 1], [tik]*2, color='k', linewidth=1.5) for tik in tiks]\n",
    "        \n",
    "        labels = CB.ax.get_yticklabels()\n",
    "        #for label in labels:\n",
    "        #    print(label.get_text())\n",
    "        \n",
    "        #tiks = CB.ax.get_yticks()\n",
    "        #for tik in tiks:\n",
    "        #    pprint(tik)\n",
    "        #print(len(labels), labels)\n",
    "        labels[0] = r'0'\n",
    "        #print(len(labels), labels)\n",
    "        CB.ax.set_yticklabels(labels)\n",
    "                       \n",
    "        left  = 0.125  # the left side of the subplots of the figure\n",
    "        right = 0.85    # the right side of the subplots of the figure\n",
    "        bottom = 0.1   # the bottom of the subplots of the figure\n",
    "        top = 0.9      # the top of the subplots of the figure\n",
    "        wspace = 0.25   # the amount of width reserved for blank space between subplots\n",
    "        hspace = 0.2   # the amount of height reserved for white space between subplots\n",
    "        \n",
    "        plt.subplots_adjust(left=left, bottom=bottom, right=right, top=top, wspace=wspace, hspace=hspace)\n",
    "        \n",
    "        plt.savefig(filename+'.eps', bbox_inches = 'tight')\n",
    "        plt.show()\n",
    "        #\n",
    "    #\n",
    "    def plot_fsymlog(self, llist, qlist, levelsf=None, xaxticks=None,\n",
    "                     yaxticks=None, filename='name', hsize=None, vsize=None, mean_charge=None):\n",
    "        data_orig = []\n",
    "        \n",
    "        for ll in llist:\n",
    "            for ql in qlist:\n",
    "                # iterate in datasets of gefactor\n",
    "                for ds in self.gefactor.keys():\n",
    "                    lp = self.gefactor.get(str(ds)).attrs.get('l')\n",
    "                    qp = self.gefactor.get(str(ds)).attrs.get('q')\n",
    "                    if(ll==lp and ql==qp):\n",
    "                        data_orig.append(np.array(self.gefactor.get(str(ds))))\n",
    "        # prune data\n",
    "        data = np.copy(data_orig)        \n",
    "        data[data<self.minvalue]=self.minvalue\n",
    "        \n",
    "        if not hsize:\n",
    "            self.hsize = len(qlist)*4.5\n",
    "        else:\n",
    "            self.hsize = hsize\n",
    "        if not vsize:\n",
    "            self.vsize = len(llist)*3.5\n",
    "        else:\n",
    "            self.vsize = vsize\n",
    "\n",
    "        fig, axes = plt.subplots(nrows=len(qlist), ncols=len(llist), figsize=(self.hsize, self.vsize))\n",
    "\n",
    "        for ax in axes.flat:\n",
    "            # Hide all ticks and labels\n",
    "            ax.xaxis.set_visible(False)\n",
    "            ax.yaxis.set_visible(False)\n",
    "            if mean_charge:\n",
    "                ax.plot(mean_charge[0], mean_charge[1], '-w', linewidth=3)\n",
    "            \n",
    "        i=0\n",
    "        for j, (col, l) in enumerate(zip(axes.T, llist)):\n",
    "            if(len(qlist)>1):\n",
    "                for ax, q in zip(col, qlist):        \n",
    "                    CSF, CS, levelsf = self.plot_fcontours_symlog(ax, data[i], levelsf=levelsf, cmap=cm.coolwarm_r)\n",
    "                    i = i+1\n",
    "            else:\n",
    "                CSF, CS, levelsf = self.plot_fcontours_symlog(axes[j], data[j], levelsf=levelsf, cmap=cm.coolwarm_r)\n",
    "\n",
    "        if(len(qlist)>1):\n",
    "            axes[len(col)-1, 0].xaxis.set_visible(True)\n",
    "            axes[len(col)-1, 0].set_xlabel('Diameter of particle 1 (nm)', size=16)\n",
    "            axes[len(col)-1, 0].yaxis.set_visible(True)\n",
    "            axes[len(col)-1, 0].set_ylabel('Charge of particle 1 (e)', size=16)\n",
    "            axes[len(col)-1, 0].yaxis.set_ticks_position('left')\n",
    "        \n",
    "        for ax in axes.flat:\n",
    "            ax.xaxis.set_visible(True)\n",
    "            ax.yaxis.set_visible(True)\n",
    "            ax.xaxis.set_ticks_position('bottom')\n",
    "            ax.yaxis.set_ticks_position('left')\n",
    "            ax.set_yscale('symlog')\n",
    "            for tick in ax.xaxis.get_major_ticks():\n",
    "                tick.label.set_fontsize(14)\n",
    "            #ax.set_yticks(self.Y[:, 0])\n",
    "            if xaxticks:\n",
    "                ax.set_xticks(xaxticks)\n",
    "            if yaxticks:\n",
    "                ax.set_yticks(yaxticks)\n",
    "                ax.get_yaxis().set_major_formatter(ScalarFormatter())\n",
    "            for tick in ax.xaxis.get_major_ticks():\n",
    "                tick.label.set_fontsize(14)\n",
    "            for tick in ax.yaxis.get_major_ticks():\n",
    "                tick.label.set_fontsize(14)\n",
    "\n",
    "        if(len(qlist)>1):\n",
    "            for ax, l in zip(axes[0], llist):\n",
    "                ax.set_title('{:.1f}'.format((self.dpivots[l])), size=16)\n",
    "                ax.yaxis.set_visible(True)\n",
    "\n",
    "            for ax, q in zip(axes[:, -1], qlist):\n",
    "                ax.set_ylabel('{:+.0f}'.format((self.qpivots[q])), size=16, rotation=270, labelpad=20)\n",
    "                ax.yaxis.set_label_position(\"right\")\n",
    "                ax.xaxis.set_visible(True)\n",
    "                for tick in ax.xaxis.get_major_ticks():\n",
    "                    tick.label.set_fontsize(14)\n",
    "        else:\n",
    "            for ax, l in zip(axes, llist):\n",
    "                ax.set_title('{:.1f}'.format((self.dpivots[l])), size=16)\n",
    "                ax.yaxis.set_visible(True)\n",
    "\n",
    "            ax = axes[0]\n",
    "            ax.xaxis.set_visible(True)\n",
    "            for tick in ax.xaxis.get_major_ticks():\n",
    "                tick.label.set_fontsize(14)\n",
    "            ax.xaxis.set_visible(True)\n",
    "            ax.set_xlabel('Diameter of particle 1 (nm)', size=16)\n",
    "            ax.yaxis.set_visible(True)\n",
    "            ax.set_ylabel('Charge of particle 1 (e)', size=16)\n",
    "            ax.yaxis.set_ticks_position('left')\n",
    "\n",
    "        if(len(qlist)>1):\n",
    "            plt.gcf().text(0.37, 0.96,\"Diameter of particle 2 (nm)\", ha=\"left\", fontsize=20)\n",
    "            plt.gcf().text(0.88, 0.64,\"Charge of particle 2 (e)\", ha=\"left\", fontsize=20, rotation=-90)\n",
    "        else:\n",
    "            plt.gcf().text(0.37, 1,\"Diameter of particle 2 (nm)\", ha=\"left\", fontsize=20)\n",
    "            #plt.gcf().text(0.75, 0.8,\"Charge of particle 2 (e)\", ha=\"left\", fontsize=20, rotation=-90)\n",
    "        \n",
    "        cbpad = 0.12\n",
    "        if(len(qlist)==1):\n",
    "            cbpad = 0.04\n",
    "        \n",
    "        # Color bar in its own axis. Placement [left, bottom, width, height]\n",
    "        cbaxes = []\n",
    "        if(len(qlist)>1):\n",
    "            cbaxes = fig.add_axes([0.91, 0.1, 0.02, 0.8]) \n",
    "        else:\n",
    "            cbaxes = fig.add_axes([0.88, 0.1, 0.02, 0.8]) \n",
    "        \n",
    "        CB = plt.colorbar(CSF, ax=axes.ravel().tolist(), format=ticker.FuncFormatter(self.sci_fmt), cax=cbaxes)\n",
    "        #CB = plt.colorbar(CSF, ax=axes.ravel().tolist(), pad=cbpad, format=ticker.FuncFormatter(self.sci_fmt))\n",
    "        CB.add_lines(CS)\n",
    "            \n",
    "        CB.ax.set_ylabel('Enhancement factor', rotation=270, fontsize=20, labelpad=20)\n",
    "        CB.ax.tick_params(labelsize=14)\n",
    "\n",
    "        #cbar.set_ticks(ticks)\n",
    "        CB.set_ticks(levelsf)\n",
    "\n",
    "        # get ticks normalized 0 to 1        \n",
    "        tiks = CB.ax.get_yticks()\n",
    "        # plot an horizontal black line in the colorbar\n",
    "        [CB.ax.plot([0, 1], [tik]*2, color='k', linewidth=1.5) for tik in tiks]\n",
    "        \n",
    "        labels = CB.ax.get_yticklabels()\n",
    "        labels[0] = '0'\n",
    "        CB.ax.set_yticklabels(labels)\n",
    "                       \n",
    "        left  = 0.125  # the left side of the subplots of the figure\n",
    "        right = 0.85    # the right side of the subplots of the figure\n",
    "        bottom = 0.1   # the bottom of the subplots of the figure\n",
    "        top = 0.9      # the top of the subplots of the figure\n",
    "        wspace = 0.25   # the amount of width reserved for blank space between subplots\n",
    "        hspace = 0.2   # the amount of height reserved for white space between subplots\n",
    "        \n",
    "        plt.subplots_adjust(left=left, bottom=bottom, right=right, top=top, wspace=wspace, hspace=hspace)\n",
    "        \n",
    "        plt.savefig(filename+'.eps', bbox_inches = 'tight')\n",
    "        plt.show()\n",
    "        #\n",
    "    #\n",
    "    def plot_vs_charge(self, d1_index=0, d2_index=0, q2_index=0, filename='name', q1_indices=None, leg=True):\n",
    "        data = []\n",
    "        \n",
    "        if np.size(q1_indices)==0:\n",
    "            q1_indices = np.arange(len(self.qpivots))\n",
    "\n",
    "        # iterate in datasets of gefactor\n",
    "        for ds in self.gefactor.keys():\n",
    "            lp = self.gefactor.get(str(ds)).attrs.get('l')\n",
    "            qp = self.gefactor.get(str(ds)).attrs.get('q')\n",
    "            if(d2_index==lp and q2_index==qp):\n",
    "                #print(np.shape(np.array(self.gefactor.get(str(ds)))[q1_indices,d1_index]))\n",
    "                data= np.array(self.gefactor.get(str(ds)))[q1_indices,d1_index]\n",
    "                #print(np.array(m4d.gefactor.get(str(ds))).shape)\n",
    "        fig, ax = plt.subplots(1, 1, figsize=(7, 5.85))\n",
    "        ax.bar(self.qpivots[q1_indices], data)\n",
    "        #     plt.suptitle(\"Radii of particle 2\")\n",
    "        #plt.savefig(filename+'.eps')\n",
    "        if leg:\n",
    "            text = r\"$d_1=$\"+str(self.dpivots[d1_index])+ \" nm\\n\"+ r\"$d_2=$\"+str(self.dpivots[d2_index])+ \" nm\\n\"+r\"$q_2=$\"+str(int(self.qpivots[q2_index]))\n",
    "            ax.text(0.5, 0.5, text, horizontalalignment='right', verticalalignment='top',\n",
    "                 multialignment='left', fontsize=20, transform=ax.transAxes)\n",
    "            #plt.tight_layout()\n",
    "        #lt.yscale('symlog')\n",
    "        for tick in ax.xaxis.get_major_ticks():\n",
    "            tick.label.set_fontsize(20)\n",
    "        for tick in ax.yaxis.get_major_ticks():\n",
    "            tick.label.set_fontsize(20)\n",
    "        ax.set_xlabel('Charge of particle 1 (e)', size=20)\n",
    "        ax.set_ylabel('Enhancement factor', size=20)\n",
    "#         print(self.qpivots[q1_indices])\n",
    "        plt.savefig(filename+'.eps', bbox_inches='tight')\n",
    "        plt.show()\n",
    "        return self.qpivots[q1_indices], data\n",
    "        #\n",
    "    def plot_vs_diam(self, q1_index=0, d2_index=0, q2_index=0, filename='name', d1_indices=None):\n",
    "        data = []\n",
    "        \n",
    "        if np.size(d1_indices)==0:\n",
    "            d1_indices = np.arange(len(self.dpivots))\n",
    "\n",
    "        # iterate in datasets of gefactor\n",
    "        for ds in self.gefactor.keys():\n",
    "            lp = self.gefactor.get(str(ds)).attrs.get('l')\n",
    "            qp = self.gefactor.get(str(ds)).attrs.get('q')\n",
    "            if(d2_index==lp and q2_index==qp):\n",
    "                #print(np.shape(np.array(self.gefactor.get(str(ds)))[q1_index, d1_indices]))\n",
    "                data= np.array(self.gefactor.get(str(ds)))[q1_index, d1_indices]\n",
    "                #print(np.array(m4d.gefactor.get(str(ds))).shape)\n",
    "        fig, ax = plt.subplots(1, 1, figsize=(7, 5.85))\n",
    "        #ax.plot(self.dpivots[d1_indices], data, lw=3)\n",
    "        ax.bar(self.dpivots[d1_indices], data)\n",
    "        #     plt.suptitle(\"Radii of particle 2\")\n",
    "        #plt.savefig(filename+'.eps')\n",
    "        text = r\"$q_1=$\"+str(self.qpivots[q1_index])+ \" nm\\n\"+ r\"$d_2=$\"+str(self.dpivots[d2_index])+ \" nm\\n\"+r\"$q_2=$\"+str(int(self.qpivots[q2_index]))\n",
    "        ax.text(0.5, 0.5, text, horizontalalignment='right', verticalalignment='top',\n",
    "                 multialignment='left', fontsize=20, transform=ax.transAxes)\n",
    "        #lt.yscale('symlog')\n",
    "        for tick in ax.xaxis.get_major_ticks():\n",
    "            tick.label.set_fontsize(20)\n",
    "        for tick in ax.yaxis.get_major_ticks():\n",
    "            tick.label.set_fontsize(20)\n",
    "        ax.set_xlabel('Diameter of particle 1 (nm)', size=20)\n",
    "        ax.set_ylabel('Enhancement factor', size=20)\n",
    "#         print(self.qpivots[q1_indices])\n",
    "        plt.savefig(filename+'.eps')\n",
    "        plt.show()\n",
    "        return self.dpivots[d1_indices], data"
   ]
  },
  {
   "cell_type": "code",
   "execution_count": 4,
   "metadata": {
    "collapsed": true
   },
   "outputs": [],
   "source": [
    "#m4d = mplot4d(\"grid-linear-IPA-force-50-adjusted\")\n",
    "#m4d = mplot4d(\"grid-linear-IPA-force-50\")\n",
    "m4d = mplot4d(\"special-allcharges-linear-MPCIPA\")\n",
    "# m4d2 = mplot4d(\"grid-geom-IPA-force-50-adjusted\")\n",
    "#m4d2 = mplot4d(\"grid-geom-IPAMPC-force-50\")\n",
    "m4d2 = mplot4d(\"grid-geom-IPAMPC-force-50\")\n",
    "#m4dmpc = mplot4d(\"grid-linear-MPC20\")\n",
    "m4dmpc = mplot4d(\"special-allcharges-linear-MPC\")\n",
    "m4dmpc2 = mplot4d(\"grid-geom-MPC20\")\n",
    "#m4dc = mplot4d(\"grid-linear-coulomb\")\n",
    "m4dc = mplot4d(\"special-allcharges-linear-Coulomb\")\n",
    "m4dc2 = mplot4d(\"grid-geom-coulomb\")"
   ]
  },
  {
   "cell_type": "code",
   "execution_count": null,
   "metadata": {
    "collapsed": true
   },
   "outputs": [],
   "source": [
    "len(m4dmpc.vpivots)"
   ]
  },
  {
   "cell_type": "code",
   "execution_count": null,
   "metadata": {
    "collapsed": true
   },
   "outputs": [],
   "source": [
    "len(m4dmpc.qpivots)"
   ]
  },
  {
   "cell_type": "code",
   "execution_count": null,
   "metadata": {
    "collapsed": true
   },
   "outputs": [],
   "source": [
    "m4dmpc.qpivots[0]"
   ]
  },
  {
   "cell_type": "code",
   "execution_count": null,
   "metadata": {
    "collapsed": true
   },
   "outputs": [],
   "source": [
    "#m4d = mplot4d(\"q5-grid-geom-MPCIPA25\")\n",
    "#m4d = mplot4d(\"q6-grid-geom-MPCIPA25\")"
   ]
  },
  {
   "cell_type": "code",
   "execution_count": null,
   "metadata": {
    "collapsed": true
   },
   "outputs": [],
   "source": [
    "# ll=[0, 1, 2]\n",
    "ll=[0, 2, 4]\n",
    "ql=[28, 29, 30]\n",
    "m4dmpc.set_grid(0, 49, 0, 36)\n",
    "m4dmpc.loglevels = np.array([0, 1, 2, 5, 10, 20, 50, 100, 200, 500])\n",
    "m4dmpc.plot(ll, ql, filename='test', xaxticks=[1, *np.arange(20, 120, 20)],\n",
    "           yaxticks=[*np.arange(-30, 6, 5)])"
   ]
  },
  {
   "cell_type": "code",
   "execution_count": 5,
   "metadata": {
    "collapsed": true
   },
   "outputs": [],
   "source": [
    "test = mplot4d(\"special-allcharges-linear-MPCIPA\")"
   ]
  },
  {
   "cell_type": "code",
   "execution_count": null,
   "metadata": {
    "collapsed": true
   },
   "outputs": [],
   "source": [
    "# ll=[0, 1, 2]\n",
    "ll=[0, 2, 4]\n",
    "ql=[93, 94, 95]\n",
    "test.set_grid(0, 39, 0, 99)\n",
    "#test.loglevels = np.array([0, 1, 2, 5, 10, 20, 50, 100, 200, 500])\n",
    "test.plot_fsymlog_c(ll, ql, filename='test', xaxticks=[1, *np.arange(20, 120, 20)],\n",
    "                  yaxticks=[-200, -100, -50, -20, -10, -5, -2, -1, 0, 1, 2, 4])"
   ]
  },
  {
   "cell_type": "code",
   "execution_count": null,
   "metadata": {
    "collapsed": true
   },
   "outputs": [],
   "source": [
    "# ll=[0, 1, 2]\n",
    "ll=[0, 2, 4]\n",
    "ql=[93, 94, 95]\n",
    "test.set_grid(0, 39, 0, 99)\n",
    "#test.loglevels = np.array([0, 1, 2, 5, 10, 20, 50, 100, 200, 500])\n",
    "test.plot_fsymlog(ll, ql, filename='test', xaxticks=[1, *np.arange(20, 120, 20)],\n",
    "                  yaxticks=[-200, -100, -50, -20, -10, -5, -2, -1, 0, 1, 2, 4])"
   ]
  },
  {
   "cell_type": "code",
   "execution_count": null,
   "metadata": {},
   "outputs": [],
   "source": [
    "test.dpivots"
   ]
  },
  {
   "cell_type": "code",
   "execution_count": 6,
   "metadata": {
    "collapsed": true
   },
   "outputs": [],
   "source": [
    "probable_charge = np.load('probable_charge.npz')"
   ]
  },
  {
   "cell_type": "code",
   "execution_count": 7,
   "metadata": {},
   "outputs": [],
   "source": [
    "xmean = probable_charge['diams_tofile']\n",
    "ymean = probable_charge['charge_tofile']\n",
    "xmean = xmean[ymean>test.qpivots[0]]\n",
    "ymean = ymean[ymean>test.qpivots[0]]\n",
    "ymean = ymean[xmean<test.dpivots[-2]]\n",
    "xmean = xmean[xmean<test.dpivots[-2]]"
   ]
  },
  {
   "cell_type": "code",
   "execution_count": null,
   "metadata": {
    "collapsed": true
   },
   "outputs": [],
   "source": [
    "# ll=[0, 1, 2]\n",
    "ll=[0, 18, 39]\n",
    "ql=[93]\n",
    "test.set_grid(0, 39, 0, 99)\n",
    "\n",
    "\n",
    "#test.loglevels = np.array([0, 1, 2, 5, 10, 20, 50, 100, 200, 500])\n",
    "test.plot_fsymlog(ll, ql, filename='test', xaxticks=[1, *np.arange(20, 120, 20)],\n",
    "                  yaxticks=[-200, -100, -50, -20, -10, -5, -2, -1, 0, 1, 2, 4],\n",
    "                  vsize=1.5*2.25, hsize=4.5*3,\n",
    "                  mean_charge=[xmean, ymean])"
   ]
  },
  {
   "cell_type": "code",
   "execution_count": null,
   "metadata": {
    "collapsed": true
   },
   "outputs": [],
   "source": [
    "# ll=[0, 1, 2]\n",
    "ll=[0, 18, 39]\n",
    "ql=[93]\n",
    "test.set_grid(0, 39, 0, 99)\n",
    "\n",
    "\n",
    "#test.loglevels = np.array([0, 1, 2, 5, 10, 20, 50, 100, 200, 500])\n",
    "test.plot_fsymlog_c(ll, ql, filename='test', xaxticks=[1, *np.arange(20, 120, 20)],\n",
    "                  yaxticks=[-200, -100, -50, -20, -10, -5, -2, -1, 0, 1, 2, 4],\n",
    "                  vsize=1.5*2.25, hsize=4.5*3,\n",
    "                  mean_charge=[xmean, ymean])"
   ]
  },
  {
   "cell_type": "code",
   "execution_count": null,
   "metadata": {
    "collapsed": true
   },
   "outputs": [],
   "source": [
    "# ll=[0, 1, 2]\n",
    "ll=[0, 18, 39]\n",
    "ql=[93]\n",
    "test.set_grid(0, 39, 0, 99)\n",
    "#test.loglevels = np.array([0, 1, 2, 5, 10, 20, 50, 100, 200, 500])\n",
    "test.plot_fsymlog(ll, ql, filename='test', xaxticks=[1, *np.arange(20, 120, 20)],\n",
    "                  yaxticks=[-200, -100, -50, -20, -10, -5, -2, -1, 0, 1, 2, 4],vsize=1.25*1.5*2.25, hsize=1.25*4.5*3)"
   ]
  },
  {
   "cell_type": "code",
   "execution_count": null,
   "metadata": {
    "collapsed": true
   },
   "outputs": [],
   "source": []
  },
  {
   "cell_type": "code",
   "execution_count": null,
   "metadata": {
    "collapsed": true
   },
   "outputs": [],
   "source": [
    "# ll=[0, 1, 2]\n",
    "ll=[0, 18, 39]\n",
    "ql=[93]\n",
    "m4dc.set_grid(0, 39, 0, 99)\n",
    "\n",
    "\n",
    "#test.loglevels = np.array([0, 1, 2, 5, 10, 20, 50, 100, 200, 500])\n",
    "m4dc.plot_fsymlog_c(ll, ql, filename='test', xaxticks=[1, *np.arange(20, 120, 20)],\n",
    "                  yaxticks=[-200, -100, -50, -20, -10, -5, -2, -1, 0, 1, 2, 4],\n",
    "                  vsize=1.5*2.25, hsize=4.5*3,\n",
    "                  mean_charge=[xmean, ymean])"
   ]
  },
  {
   "cell_type": "code",
   "execution_count": 25,
   "metadata": {},
   "outputs": [
    {
     "data": {
      "image/png": "[encoded data removed]",
      "text/plain": [
       "<matplotlib.figure.Figure at 0x7fd7fc081da0>"
      ]
     },
     "metadata": {},
     "output_type": "display_data"
    }
   ],
   "source": [
    "# ll=[0, 1, 2]\n",
    "ll=[0, 18, 39]\n",
    "ql=[0, 93]\n",
    "m4dc.set_grid(0, 39, 0, 99)\n",
    "\n",
    "m4dc.logvmax = 5\n",
    "m4dc.logvmin = -4\n",
    "m4dc.minvalue = 10**m4dc.logvmin\n",
    "\n",
    "#test.loglevels = np.array([0, 1, 2, 5, 10, 20, 50, 100, 200, 500])\n",
    "m4dc.plot_fsymlog_c(ll, ql, filename='fig3', xaxticks=[1, *np.arange(20, 120, 20)],\n",
    "                  yaxticks=[-200, -100, -50, -20, -10, -5, -2, -1, 0, 1, 2, 4],\n",
    "                  vsize=3*2.25, hsize=4.5*3,\n",
    "                  mean_charge=[xmean, ymean])"
   ]
  },
  {
   "cell_type": "code",
   "execution_count": 11,
   "metadata": {},
   "outputs": [
    {
     "data": {
      "image/png": "[encoded data removed]",
      "text/plain": [
       "<matplotlib.figure.Figure at 0x7fe1904ca9e8>"
      ]
     },
     "metadata": {},
     "output_type": "display_data"
    }
   ],
   "source": [
    "# ll=[0, 1, 2]\n",
    "ll=[0, 18, 39]\n",
    "ql=[0, 93]\n",
    "m4dc.set_grid(0, 39, 0, 99)\n",
    "\n",
    "#m4dc.logvmax = 4\n",
    "\n",
    "#test.loglevels = np.array([0, 1, 2, 5, 10, 20, 50, 100, 200, 500])\n",
    "m4dc.plot_fsymlog_c(ll, ql, filename='fig3', xaxticks=[1, *np.arange(20, 120, 20)],\n",
    "                  yaxticks=[-200, -100, -50, -20, -10, -5, -2, -1, 0, 1, 2, 4],\n",
    "                  vsize=3*2.25, hsize=4.5*3,\n",
    "                  mean_charge=[xmean, ymean])"
   ]
  },
  {
   "cell_type": "code",
   "execution_count": 8,
   "metadata": {},
   "outputs": [
    {
     "data": {
      "image/png": "[encoded data removed]",
      "text/plain": [
       "<matplotlib.figure.Figure at 0x7fbe1f8a6c88>"
      ]
     },
     "metadata": {},
     "output_type": "display_data"
    }
   ],
   "source": [
    "# ll=[0, 1, 2]\n",
    "ll=[0, 18, 39]\n",
    "ql=[0, 93]\n",
    "m4dc.set_grid(0, 39, 0, 99)\n",
    "\n",
    "m4dc.logvmax = 5\n",
    "m4dc.logvmin = -4\n",
    "m4dc.minvalue = 10**m4dc.logvmin\n",
    "\n",
    "#test.loglevels = np.array([0, 1, 2, 5, 10, 20, 50, 100, 200, 500])\n",
    "m4dc.plot_fsymlog(ll, ql, filename='fig3-2', xaxticks=[1, *np.arange(20, 120, 20)],\n",
    "                  yaxticks=[-200, -100, -50, -20, -10, -5, -2, -1, 0, 1, 2, 4],\n",
    "                  vsize=3*2.25, hsize=4.5*3,\n",
    "                  mean_charge=[xmean, ymean])"
   ]
  },
  {
   "cell_type": "code",
   "execution_count": null,
   "metadata": {},
   "outputs": [],
   "source": [
    "# ll=[0, 1, 2]\n",
    "ll=[0, 2, 4]\n",
    "ql=[94]\n",
    "m4dmpc.set_grid(0, 39, 0, 99)\n",
    "m4dmpc.logvmax = 6\n",
    "#m4dmpc.logvmin = -3\n",
    "m4dmpc.logvmin = -2\n",
    "m4dmpc.minvalue = 10**m4dmpc.logvmin\n",
    "\n",
    "#test.loglevels = np.array([0, 1, 2, 5, 10, 20, 50, 100, 200, 500])\n",
    "m4dmpc.plot_fsymlog_c(ll, ql, filename='fig4', xaxticks=[1, *np.arange(20, 120, 20)],\n",
    "                  yaxticks=[-200, -100, -50, -20, -10, -5, -2, -1, 0, 1, 2, 4],\n",
    "                  vsize=1.5*2.25, hsize=4.5*3,\n",
    "                  mean_charge=[xmean, ymean])"
   ]
  },
  {
   "cell_type": "code",
   "execution_count": null,
   "metadata": {},
   "outputs": [],
   "source": [
    "# ll=[0, 1, 2]\n",
    "ll=[0, 2, 4]\n",
    "ql=[94]\n",
    "m4dmpc.set_grid(0, 39, 0, 99)\n",
    "\n",
    "m4dmpc.logvmax = 6\n",
    "#m4dmpc.logvmin = -3\n",
    "m4dmpc.logvmin = -2\n",
    "m4dmpc.minvalue = 10**m4dmpc.logvmin\n",
    "\n",
    "#test.loglevels = np.array([0, 1, 2, 5, 10, 20, 50, 100, 200, 500])\n",
    "m4dmpc.plot_fsymlog(ll, ql, filename='fig4-2', xaxticks=[1, *np.arange(20, 120, 20)],\n",
    "                  yaxticks=[-200, -100, -50, -20, -10, -5, -2, -1, 0, 1, 2, 4],\n",
    "                  vsize=1.5*2.25, hsize=4.5*3,\n",
    "                  mean_charge=[xmean, ymean])"
   ]
  },
  {
   "cell_type": "markdown",
   "metadata": {},
   "source": [
    "# MPC results"
   ]
  },
  {
   "cell_type": "code",
   "execution_count": null,
   "metadata": {},
   "outputs": [],
   "source": [
    "# ll=[0, 1, 2]\n",
    "ll=[0, 18, 39]\n",
    "ql=[0, 50, 93]\n",
    "m4dmpc.set_grid(0, 39, 0, 99)\n",
    "m4dmpc.logvmax = 8\n",
    "m4dmpc.logvmin = -4\n",
    "m4dmpc.minvalue = 10**m4dmpc.logvmin\n",
    "#test.loglevels = np.array([0, 1, 2, 5, 10, 20, 50, 100, 200, 500])\n",
    "m4dmpc.plot_fsymlog_c(ll, ql, filename='fig5', xaxticks=[1, *np.arange(20, 120, 20)],\n",
    "                  yaxticks=[-200, -100, -50, -20, -10, -5, -2, -1, 0, 1, 2, 4],\n",
    "                     mean_charge=[xmean, ymean])"
   ]
  },
  {
   "cell_type": "code",
   "execution_count": null,
   "metadata": {},
   "outputs": [],
   "source": [
    "# ll=[0, 1, 2]\n",
    "ll=[0, 18, 39]\n",
    "ql=[0, 50, 93]\n",
    "m4dmpc.set_grid(0, 39, 0, 99)\n",
    "m4dmpc.logvmax = 8\n",
    "m4dmpc.logvmin = -4\n",
    "m4dmpc.minvalue = 10**m4dmpc.logvmin\n",
    "#test.loglevels = np.array([0, 1, 2, 5, 10, 20, 50, 100, 200, 500])\n",
    "m4dmpc.plot_fsymlog(ll, ql, filename='fig5-2', xaxticks=[1, *np.arange(20, 120, 20)],\n",
    "                  yaxticks=[-200, -100, -50, -20, -10, -5, -2, -1, 0, 1, 2, 4],\n",
    "                     mean_charge=[xmean, ymean])"
   ]
  },
  {
   "cell_type": "code",
   "execution_count": null,
   "metadata": {
    "collapsed": true
   },
   "outputs": [],
   "source": [
    "m4dmpc.qpivots[94]"
   ]
  },
  {
   "cell_type": "code",
   "execution_count": null,
   "metadata": {},
   "outputs": [],
   "source": [
    "# ll=[0, 1, 2]\n",
    "ll=[0, 18, 39]\n",
    "ql=[0, 50, 93]\n",
    "m4d.set_grid(0, 39, 0, 99)\n",
    "m4d.logvmax = 8\n",
    "m4d.logvmin = -4\n",
    "m4d.minvalue = 10**m4d.logvmin\n",
    "#test.loglevels = np.array([0, 1, 2, 5, 10, 20, 50, 100, 200, 500])\n",
    "m4d.plot_fsymlog_c(ll, ql, filename='fig6', xaxticks=[1, *np.arange(20, 120, 20)],\n",
    "                  yaxticks=[-200, -100, -50, -20, -10, -5, -2, -1, 0, 1, 2, 4],\n",
    "                     mean_charge=[xmean, ymean])"
   ]
  },
  {
   "cell_type": "code",
   "execution_count": null,
   "metadata": {},
   "outputs": [],
   "source": [
    "# ll=[0, 1, 2]\n",
    "ll=[0, 18, 39]\n",
    "ql=[0, 50, 93]\n",
    "m4d.set_grid(0, 39, 0, 99)\n",
    "m4d.logvmax = 8\n",
    "m4d.logvmin = -4\n",
    "m4d.minvalue = 10**m4d.logvmin\n",
    "#test.loglevels = np.array([0, 1, 2, 5, 10, 20, 50, 100, 200, 500])\n",
    "m4d.plot_fsymlog(ll, ql, filename='fig6-2', xaxticks=[1, *np.arange(20, 120, 20)],\n",
    "                  yaxticks=[-200, -100, -50, -20, -10, -5, -2, -1, 0, 1, 2, 4],\n",
    "                     mean_charge=[xmean, ymean])"
   ]
  },
  {
   "cell_type": "code",
   "execution_count": null,
   "metadata": {
    "collapsed": true
   },
   "outputs": [],
   "source": []
  },
  {
   "cell_type": "code",
   "execution_count": null,
   "metadata": {},
   "outputs": [],
   "source": [
    "# ll=[0, 1, 2]\n",
    "ll=[2, 4, 6]\n",
    "ql=[91, 92, 93]\n",
    "m4dmpc.set_grid(0, 39, 0, 99)\n",
    "m4dmpc.logvmax = 4\n",
    "m4dmpc.logvmin = -4\n",
    "#test.loglevels = np.array([0, 1, 2, 5, 10, 20, 50, 100, 200, 500])\n",
    "m4dmpc.plot_fsymlog_c(ll, ql, filename='fig6', xaxticks=[1, *np.arange(20, 120, 20)],\n",
    "                  yaxticks=[-200, -100, -50, -20, -10, -5, -2, -1, 0, 1, 2, 4],\n",
    "                     mean_charge=[xmean, ymean])"
   ]
  },
  {
   "cell_type": "code",
   "execution_count": null,
   "metadata": {
    "collapsed": true
   },
   "outputs": [],
   "source": [
    "# ll=[0, 1, 2]\n",
    "ll=[0, 25, 49]\n",
    "ql=[29]\n",
    "m4dc.set_grid(0, 21, 25, 36)\n",
    "m4dc.plot(ll, ql, filename='test', vsize=1.5*2.25, hsize=4.5*3, xaxticks=[1, *np.arange(10, 50, 10)])"
   ]
  },
  {
   "cell_type": "code",
   "execution_count": null,
   "metadata": {
    "collapsed": true
   },
   "outputs": [],
   "source": [
    "# ll=[0, 1, 2]\n",
    "ll=[0, 25, 49]\n",
    "ql=[29, 30, 31\n",
    "m4d.set_grid(0, 21, 25, 36)\n",
    "m4d.plot(ll, ql, filename='fig9', xaxticks=[1, *np.arange(10, 50, 10)])"
   ]
  },
  {
   "cell_type": "code",
   "execution_count": null,
   "metadata": {
    "collapsed": true
   },
   "outputs": [],
   "source": [
    "# ll=[0, 1, 2]\n",
    "ll=[0, 25, 49]\n",
    "ql=[29, 30, 31]\n",
    "m4dmpc.set_grid(0, 21, 25, 36)\n",
    "m4dmpc.loglevels = np.array([0, 1, 20, 50, 100, 200, 500])\n",
    "m4dmpc.hatches=['/', *[None]*(len(m4dmpc.loglevels)-1)]\n",
    "m4dmpc.plot(ll, ql, filename='fig4', xaxticks=[1, *np.arange(10, 50, 10)])"
   ]
  },
  {
   "cell_type": "code",
   "execution_count": null,
   "metadata": {
    "collapsed": true
   },
   "outputs": [],
   "source": [
    "max(m4dmpc.gefactor)"
   ]
  },
  {
   "cell_type": "code",
   "execution_count": null,
   "metadata": {
    "collapsed": true
   },
   "outputs": [],
   "source": [
    "# ll=[0, 1, 2]\n",
    "ll=[0, 25, 49]\n",
    "ql=[20, 25, 28]\n",
    "m4dmpc.set_grid(0, 49, 10, 30)\n",
    "#self.loglevels = np.array([0, 1, 20, 50, 100, 200, 500])\n",
    "#self.hatches=['/', *[None]*(len(self.loglevels)-1)]\n",
    "m4dmpc.loglevels = np.array([0, 0.01, 0.1, 0.5, 1, 2])\n",
    "#m4dmpc.hatches=['\\\\', *[None]*(len(m4dmpc.loglevels)-1)]\n",
    "#m4dmpc.loglevels = np.array([1e-10, 0.1, 0.5, 10.0])\n",
    "#m4dmpc.hatches=['/', '/', '/', '/', '/', None, None]\n",
    "m4dmpc.hatches=[None, None, None, None, None, None]\n",
    "m4dmpc.plot(ll, ql, filename='fig5', xaxticks=[1, *np.arange(20, 120, 20)],\n",
    "            yaxticks=[*np.arange(-20, -1, 2)])"
   ]
  },
  {
   "cell_type": "code",
   "execution_count": null,
   "metadata": {
    "collapsed": true
   },
   "outputs": [],
   "source": [
    "# ll=[0, 1, 2]\n",
    "#ll=[0, 25, 49]\n",
    "#ql=[29, 31]\n",
    "#m4dc.set_grid(0, 21, 25, 36)\n",
    "#m4dc.plot(ll, ql, filename='fig3', vsize=3*2.25, hsize=4.5*3, xaxticks=[1, *np.arange(10, 50, 10)])\n",
    "\n",
    "# ll=[0, 1, 2]\n",
    "ll=[0, 1, 2]\n",
    "ql=[30, 31]\n",
    "m4dmpc.set_grid(0, 6, 20, 30)\n",
    "m4dmpc.plot(ll, ql, filename='fig6', vsize=3*2.25, hsize=4.5*3, xaxticks=[*np.arange(1, 13, 2)])"
   ]
  },
  {
   "cell_type": "code",
   "execution_count": null,
   "metadata": {
    "collapsed": true
   },
   "outputs": [],
   "source": [
    "m4d.plot_vs_diam(29, 0, 28, 'name', np.arange(0, 49))"
   ]
  },
  {
   "cell_type": "code",
   "execution_count": null,
   "metadata": {
    "collapsed": true
   },
   "outputs": [],
   "source": [
    "70*.7/12"
   ]
  },
  {
   "cell_type": "code",
   "execution_count": null,
   "metadata": {
    "collapsed": true,
    "scrolled": false
   },
   "outputs": [],
   "source": [
    "m4d.plot_vs_charge(0, 10, 29, 'name', np.arange(15, 31))\n",
    "m4dmpc.plot_vs_charge(0, 10, 29, 'name', np.arange(15, 31))\n",
    "\n",
    "m4d.plot_vs_charge(0, 5, 29, 'name', np.arange(25, 31))\n",
    "m4dmpc.plot_vs_charge(0, 5, 29, 'name', np.arange(25, 31))\n",
    "\n",
    "m4d2.plot_vs_charge(0, 42, 29, 'name', np.arange(15, 31))#geom\n",
    "m4dmpc2.plot_vs_charge(0, 42, 29, 'name', np.arange(15, 31))#geom\n",
    "\n",
    "m4d.plot_vs_diam(29, 0, 28, 'name', np.arange(0, 49))\n",
    "m4dmpc.plot_vs_diam(29, 0, 28, 'name', np.arange(0, 49))\n",
    "\n",
    "m4d2.plot_vs_diam(29, 5, 28, 'name', np.arange(0, 49))\n",
    "m4dmpc2.plot_vs_diam(29, 5, 28, 'name', np.arange(0, 49))\n"
   ]
  },
  {
   "cell_type": "code",
   "execution_count": null,
   "metadata": {
    "collapsed": true
   },
   "outputs": [],
   "source": [
    "m4d.plot_vs_charge(0, 0, 30, 'name', np.arange(26, 35))\n",
    "#m4d2.plot_vs_charge(1, 0, 30, 'name', np.arange(26, 35))\n",
    "m4dmpc.plot_vs_charge(0, 0, 30, 'neutral', np.arange(26, 35))\n",
    "m4d.plot_vs_charge(1, 1, 30, 'name', np.arange(26, 35))\n",
    "m4dmpc.plot_vs_charge(1, 1, 30, 'neutral', np.arange(26, 35))\n",
    "\n",
    "#m4d.plot_vs_diam(29, 0, 28, 'name', np.arange(0, 42))\n",
    "#m4d2.plot_vs_diam(29, 0, 28, 'name', np.arange(0, 49))\n",
    "#m4dmpc.plot_vs_diam(29, 0, 28, 'name', np.arange(0, 42))"
   ]
  },
  {
   "cell_type": "code",
   "execution_count": null,
   "metadata": {
    "collapsed": true
   },
   "outputs": [],
   "source": [
    "#m4d = mplot4d(\"grid-geom-IPA-force\")"
   ]
  },
  {
   "cell_type": "code",
   "execution_count": null,
   "metadata": {
    "collapsed": true
   },
   "outputs": [],
   "source": [
    "# ll=[0, 1, 2]\n",
    "ll=[0, 2, 20]\n",
    "ql=[28, 29, 31]\n",
    "m4d.set_grid(0, 49, 26, 35)\n",
    "m4d.plot(ll, ql)"
   ]
  },
  {
   "cell_type": "code",
   "execution_count": null,
   "metadata": {
    "collapsed": true
   },
   "outputs": [],
   "source": [
    "# ll=[0, 1, 2]\n",
    "ll=[0, 2, 19]\n",
    "ql=[28, 29, 31]\n",
    "m4d.set_grid(0, 50, 26, 35)\n",
    "# set xaxis\n",
    "m4d.plot(ll, ql, xaxticks=[1, *np.arange(20, 120, 20)], filename='figure4')"
   ]
  },
  {
   "cell_type": "code",
   "execution_count": null,
   "metadata": {
    "collapsed": true
   },
   "outputs": [],
   "source": [
    "m4d.dpivots[42]"
   ]
  },
  {
   "cell_type": "code",
   "execution_count": null,
   "metadata": {
    "collapsed": true
   },
   "outputs": [],
   "source": [
    "# ll=[0, 1, 2]\n",
    "ll=[25, 42, 49]\n",
    "ql=[28, 29, 31]\n",
    "m4d.set_grid(0, 50, 26, 35)\n",
    "# set xaxis\n",
    "m4d.plot(ll, ql, xaxticks=[1, *np.arange(20, 120, 20)], filename='figure5')"
   ]
  },
  {
   "cell_type": "code",
   "execution_count": null,
   "metadata": {
    "collapsed": true
   },
   "outputs": [],
   "source": [
    "# ll=[0, 1, 2]\n",
    "ll=[0, 2, 20]\n",
    "ql=[25, 26, 27]\n",
    "m4d.set_grid(0, 50, 25, 31)\n",
    "# set xaxis\n",
    "m4d.plot(ll, ql, xaxticks=[1, *np.arange(20, 120, 20)])#, filename='figure5')"
   ]
  },
  {
   "cell_type": "code",
   "execution_count": null,
   "metadata": {
    "collapsed": true
   },
   "outputs": [],
   "source": [
    "ll=[4, 14, 29]\n",
    "#ql=[28, 29, 31]\n",
    "ql=[0, 14, 31]\n",
    "m4d.qneg = 0\n",
    "m4d.plot(ll, ql)"
   ]
  },
  {
   "cell_type": "code",
   "execution_count": null,
   "metadata": {
    "collapsed": true
   },
   "outputs": [],
   "source": [
    "#m4d.close()"
   ]
  },
  {
   "cell_type": "code",
   "execution_count": null,
   "metadata": {
    "collapsed": true
   },
   "outputs": [],
   "source": [
    "m4d.dpivots"
   ]
  },
  {
   "cell_type": "code",
   "execution_count": null,
   "metadata": {
    "collapsed": true
   },
   "outputs": [],
   "source": [
    "m4dmpc.dpivots"
   ]
  },
  {
   "cell_type": "code",
   "execution_count": null,
   "metadata": {
    "collapsed": true
   },
   "outputs": [],
   "source": []
  },
  {
   "cell_type": "code",
   "execution_count": null,
   "metadata": {
    "collapsed": true
   },
   "outputs": [],
   "source": [
    "m4d2.dpivots"
   ]
  },
  {
   "cell_type": "code",
   "execution_count": null,
   "metadata": {
    "collapsed": true
   },
   "outputs": [],
   "source": [
    "m4dmpc2.dpivots"
   ]
  },
  {
   "cell_type": "code",
   "execution_count": null,
   "metadata": {
    "collapsed": true
   },
   "outputs": [],
   "source": [
    "ll=[0, 1, 3]\n",
    "ql=[28, 29, 31]\n",
    "m4dmpc2.set_grid(0, 50, 26, 35)\n",
    "# set xaxis\n",
    "m4dmpc2.plot(ll, ql, xaxticks=[1, *np.arange(20, 120, 20)])"
   ]
  },
  {
   "cell_type": "code",
   "execution_count": null,
   "metadata": {
    "collapsed": true
   },
   "outputs": [],
   "source": [
    "ll=[5, 25, 49]\n",
    "ql=[28, 29, 31]\n",
    "m4dmpc2.set_grid(0, 50, 26, 35)\n",
    "# set xaxis\n",
    "m4dmpc2.plot(ll, ql, xaxticks=[1, *np.arange(20, 120, 20)], filename='figurex')"
   ]
  },
  {
   "cell_type": "code",
   "execution_count": null,
   "metadata": {
    "collapsed": true
   },
   "outputs": [],
   "source": []
  },
  {
   "cell_type": "code",
   "execution_count": null,
   "metadata": {
    "collapsed": true
   },
   "outputs": [],
   "source": [
    "# ll=[0, 1, 2]\n",
    "# ll=[0, 2, 19]\n",
    "# ql=[28, 29, 31]\n",
    "# m4dmpc.set_grid(0, 50, 26, 35)\n",
    "\n",
    "ll=[0, 2, 20]\n",
    "ql=[28, 29, 31]\n",
    "m4dmpc.set_grid(0, 49, 26, 35)\n",
    "\n",
    "# set xaxis\n",
    "#m4dmpc.plot(ll, ql, xaxticks=[1, *np.arange(20, 120, 20)], filename='figure2')\n",
    "m4dmpc.plot(ll, ql, filename='figure2')"
   ]
  },
  {
   "cell_type": "code",
   "execution_count": null,
   "metadata": {
    "collapsed": true
   },
   "outputs": [],
   "source": [
    "# ll=[0, 1, 2]\n",
    "ll=[25, 42, 49]\n",
    "ql=[28, 29, 31]\n",
    "m4dmpc.set_grid(0, 50, 26, 35)\n",
    "# set xaxis\n",
    "m4dmpc.plot(ll, ql, xaxticks=[1, *np.arange(20, 120, 20)], filename='figure3')"
   ]
  },
  {
   "cell_type": "code",
   "execution_count": null,
   "metadata": {
    "collapsed": true
   },
   "outputs": [],
   "source": [
    "#m4d2.close()"
   ]
  },
  {
   "cell_type": "code",
   "execution_count": null,
   "metadata": {
    "collapsed": true
   },
   "outputs": [],
   "source": []
  },
  {
   "cell_type": "code",
   "execution_count": null,
   "metadata": {
    "collapsed": true
   },
   "outputs": [],
   "source": [
    "# ll=[0, 1, 2]\n",
    "ll=[0, 2, 19]\n",
    "ql=[28, 29, 31]\n",
    "m4dc.set_grid(0, 50, 26, 35)\n",
    "# set xaxis\n",
    "m4dc.plot(ll, ql, xaxticks=[1, *np.arange(20, 120, 20)], filename='figure1')\n"
   ]
  },
  {
   "cell_type": "code",
   "execution_count": null,
   "metadata": {
    "collapsed": true
   },
   "outputs": [],
   "source": [
    "m4d2.dpivots"
   ]
  },
  {
   "cell_type": "code",
   "execution_count": null,
   "metadata": {
    "collapsed": true
   },
   "outputs": [],
   "source": [
    "m4d2.qpivots"
   ]
  },
  {
   "cell_type": "code",
   "execution_count": null,
   "metadata": {
    "collapsed": true
   },
   "outputs": [],
   "source": [
    "m4d.close()\n",
    "m4d2.close()\n",
    "m4dmpc.close()\n",
    "m4dmpc2.close()\n",
    "m4dc.close()"
   ]
  },
  {
   "cell_type": "code",
   "execution_count": null,
   "metadata": {
    "collapsed": true
   },
   "outputs": [],
   "source": [
    "spg_ipampc = mplot4d(\"special-grid-IPAMPC\")\n",
    "spg_mpc = mplot4d(\"special-grid-MPC\")\n"
   ]
  },
  {
   "cell_type": "code",
   "execution_count": null,
   "metadata": {
    "collapsed": true
   },
   "outputs": [],
   "source": [
    "len(spg_ipampc.vpivots)"
   ]
  },
  {
   "cell_type": "code",
   "execution_count": null,
   "metadata": {
    "collapsed": true
   },
   "outputs": [],
   "source": [
    "len(spg_mpc.vpivots)"
   ]
  },
  {
   "cell_type": "code",
   "execution_count": null,
   "metadata": {
    "collapsed": true
   },
   "outputs": [],
   "source": [
    "len(spg_ipampc.qpivots)"
   ]
  },
  {
   "cell_type": "code",
   "execution_count": null,
   "metadata": {
    "collapsed": true
   },
   "outputs": [],
   "source": [
    "len(spg_mpc.qpivots)"
   ]
  },
  {
   "cell_type": "code",
   "execution_count": null,
   "metadata": {
    "collapsed": true
   },
   "outputs": [],
   "source": [
    "spg_mpc.dpivots"
   ]
  },
  {
   "cell_type": "code",
   "execution_count": null,
   "metadata": {
    "collapsed": true
   },
   "outputs": [],
   "source": [
    "spg_mpc.qpivots"
   ]
  },
  {
   "cell_type": "code",
   "execution_count": null,
   "metadata": {
    "collapsed": true
   },
   "outputs": [],
   "source": [
    "# ll=[0, 1, 2]\n",
    "ll=[0, 2, 4]\n",
    "ql=[41, 42, 43]\n",
    "spg_mpc.set_grid(0, 5, 40, 49)\n",
    "spg_mpc.plot(ll, ql, filename='fig7')"
   ]
  },
  {
   "cell_type": "code",
   "execution_count": null,
   "metadata": {
    "collapsed": true
   },
   "outputs": [],
   "source": [
    "# ll=[0, 1, 2]\n",
    "ll=[19, 29, 39]\n",
    "ql=[0, 15, 29]\n",
    "spg_mpc.set_grid(0, 5, 42, 49)\n",
    "#self.loglevels = np.array([0, 1, 20, 50, 100, 200, 500])\n",
    "#self.hatches=['/', *[None]*(len(self.loglevels)-1)]\n",
    "spg_mpc.loglevels = np.array([0, 1, 10, 50, 100, 500, 1500])\n",
    "spg_mpc.plot(ll, ql, filename='fig8')"
   ]
  },
  {
   "cell_type": "code",
   "execution_count": null,
   "metadata": {
    "collapsed": true
   },
   "outputs": [],
   "source": [
    "spg_ipampc.qpivots[30]"
   ]
  },
  {
   "cell_type": "code",
   "execution_count": null,
   "metadata": {
    "collapsed": true
   },
   "outputs": [],
   "source": [
    "len(test.dpivots)"
   ]
  },
  {
   "cell_type": "code",
   "execution_count": null,
   "metadata": {
    "collapsed": true
   },
   "outputs": [],
   "source": [
    "test = mplot4d(\"special-allcharges-linear-MPCIPA\")"
   ]
  },
  {
   "cell_type": "code",
   "execution_count": null,
   "metadata": {
    "collapsed": true
   },
   "outputs": [],
   "source": [
    "ll = 0#39#0\n",
    "qq = 93#93\n",
    "data = []\n",
    "for ds in test.gefactor.keys():\n",
    "    lp = test.gefactor.get(str(ds)).attrs.get('l')\n",
    "    qp = test.gefactor.get(str(ds)).attrs.get('q')\n",
    "    #print(lp, qp)\n",
    "    if(lp==ll and qp==qq):\n",
    "        print(lp, qp)\n",
    "        print(test.dpivots[lp], test.qpivots[qp])\n",
    "        data = (np.array(test.gefactor.get(str(ds))))"
   ]
  },
  {
   "cell_type": "code",
   "execution_count": null,
   "metadata": {
    "collapsed": true
   },
   "outputs": [],
   "source": [
    "X, Y = np.meshgrid(test.dpivots, test.qpivots)"
   ]
  },
  {
   "cell_type": "code",
   "execution_count": null,
   "metadata": {
    "collapsed": true
   },
   "outputs": [],
   "source": [
    "test.dpivots[ll]"
   ]
  },
  {
   "cell_type": "code",
   "execution_count": null,
   "metadata": {
    "collapsed": true
   },
   "outputs": [],
   "source": [
    "test.qpivots[qq]"
   ]
  },
  {
   "cell_type": "code",
   "execution_count": null,
   "metadata": {
    "collapsed": true
   },
   "outputs": [],
   "source": [
    "fig, ax = plt.subplots(figsize=(7, 7))\n",
    "#CM = ax.imshow(X, Y, data, cmap=cm.gist_heat_r, norm=mpl.colors.LogNorm(vmin=0.1, vmax=data.max()),\n",
    "#                  interpolation='gaussian')\n",
    "# CM = ax.imshow(data, cmap=cm.gist_heat_r, norm=mpl.colors.LogNorm(vmin=0.1, vmax=data.max()),\n",
    "#                interpolation='gaussian', origin='lower')\n",
    "#levels = [1, 2, 4, 8, 16, 32, 64, 128, 256, 512]\n",
    "\n",
    "\n",
    "\n",
    "# levelsf = [1e-2, 2e-2, 5e-2, 1e-1, 2e-1, 5e-1,*np.logspace(0, 9, num=500, base=2)]\n",
    "# #norm = mpl.colors.BoundaryNorm(boundaries=np.array(levels), ncolors=256)\n",
    "\n",
    "\n",
    "# hatches=['/','/','/', '/', *[None]*(len(levels)-1)]\n",
    "\n",
    "# tmp = np.copy(data)\n",
    "# tmp2 = np.copy(data)\n",
    "# #tmp[tmp<1e-4]=1e-4\n",
    "\n",
    "\n",
    "# # # scipy interp. cubic\n",
    "# # f = interp2d(X, Y, tmp, kind='linear')\n",
    "# # xnew = np.arange(1, 100, .1)\n",
    "# # ynew = np.arange(-296, 5, 1)\n",
    "# # data1 = f(xnew,ynew)\n",
    "# # Xn, Yn = np.meshgrid(xnew, ynew)\n",
    "\n",
    "# # #data1 = np.fabs(data1)\n",
    "# # CSF = ax.pcolormesh(Xn, Yn, data1, cmap=cm.gist_heat_r)#, norm=norm)\n",
    "\n",
    "# #norm = mpl.colors.LogNorm(vmin=data1.min(), vmax=data1.max())\n",
    "\n",
    "\n",
    "\n",
    "# #levelsf = np.logspace(-4, 4, num=9, base=10)\n",
    "# #CSF = ax.contourf(X, Y, tmp, cmap=cm.gist_heat_r, levels=levelsf,\n",
    "# #                 hatches=hatches, norm=norm)\n",
    "\n",
    "# norm = mpl.colors.LogNorm(vmin=1e-3, vmax=tmp.max())\n",
    "# CSF = ax.pcolormesh(X, Y, tmp, cmap=cm.coolwarm_r, norm=norm)\n",
    "\n",
    "# #CS = ax.contour(X, Y, tmp, levels=levelsf, colors='k', linewidths=1.5)\n",
    "# plt.ylim([-300, 5])\n",
    "# plt.yscale(\"symlog\")\n",
    "# #plt.ylim([-5, 5])\n",
    "\n",
    "# CB = plt.colorbar(CSF, extend='both')\n",
    "# #CB.add_lines(CS)\n",
    "# CB.ax.set_ylabel('Enhancement factor', rotation=270, fontsize=16, labelpad=20)\n",
    "# #CB.set_ticks(levelsf[2:])\n",
    "# ax.set_xlabel('Diameter of particle 1 (nm)', size=16)\n",
    "# ax.set_ylabel('Charge of particle 1 (e)', size=16)\n",
    "# ax.yaxis.set_ticks_position('left')\n",
    "# #ax.set_yticks(np.arange(-5, 6))\n",
    "# ax.set_xticks([1, *np.arange(20, 120, 20)])\n",
    "# for tick in ax.xaxis.get_major_ticks():\n",
    "#     tick.label.set_fontsize(14)\n",
    "# for tick in ax.yaxis.get_major_ticks():\n",
    "#     tick.label.set_fontsize(14)\n",
    "# CB.ax.tick_params(labelsize=14)\n",
    "\n",
    "# #CB.add_lines(CS)\n",
    "# #plt.clabel(CS, inline=1, fontsize=14, fmt='%3.2f')\n",
    "# plt.show()\n",
    "\n",
    "\n",
    "\n",
    "levelsf = [1e-2, 2e-2, 5e-2, 1e-1, 2e-1, 5e-1, 1, 2, 5, 10, 20, 50, 100, 200, 500]\n",
    "#levels = [1e-3, *np.logspace(0, 9, num=500, base=2)]\n",
    "levels = [1e-2, 2e-2, 5e-2, 1e-1, 2e-1, 5e-1,*np.logspace(0, 9, num=500, base=2)]\n",
    "#norm = mpl.colors.Normalize(vmin=levels[0], vmax=levels[-1])\n",
    "#norm = mpl.colors.LogNorm(vmin=1, vmax=data.max())\n",
    "norm = mpl.colors.BoundaryNorm(boundaries=np.array(levelsf), ncolors=256)\n",
    "#CM = ax.pcolormesh(X, Y, data, cmap=cm.gist_heat_r, norm=norm)\n",
    "\n",
    "#norm = mpl.colors.LogNorm(vmin=1, vmax=data.max())\n",
    "#CM = ax.pcolormesh(X, Y, data, cmap=cm.gist_heat_r, norm=norm)\n",
    "\n",
    "#CM = ax.contourf(X, Y, data, cmap=cm.magma_r, levels=levels, norm=norm)\n",
    "#CM = ax.contourf(X, Y, data, 50, cmap=cm.magma_r, norm=norm)\n",
    "\n",
    "# hatches=['/','/','/', '/', *[None]*(len(levels)-1)]\n",
    "hatches=[*[None]*(len(levelsf))]\n",
    "\n",
    "tmp = np.copy(data)\n",
    "tmp2 = np.copy(data)\n",
    "tmp[tmp<1e-4]=1e-4\n",
    "\n",
    "#norm = mpl.colors.LogNorm(vmin=1e-4, vmax=data.max())\n",
    "levelsf = np.logspace(-4, 4, num=9, base=10)\n",
    "\n",
    "norm = mpl.colors.BoundaryNorm(boundaries=np.array(levelsf), ncolors=256)\n",
    "\n",
    "norm = mpl.colors.LogNorm(vmin=1.0e-3, vmax=1.0e4)\n",
    "\n",
    "CSF = ax.imshow(tmp[:90,], norm=norm, interpolation='nearest', origin='lower', aspect=0.3, cmap=cm.coolwarm_r,\n",
    "                extent=[1, 100, 300, 1])#extent=[1, 100, -300,5])\n",
    "\n",
    "#plt.ylim([-300, 5])\n",
    "#ax.set_yscale(\"log\")\n",
    "plt.yscale(\"log\")\n",
    "\n",
    "#ax.contourf(X, Y, tmp, cmap=cm.coolwarm_r, levels=levelsf, vmin=1e-3, vmax=1e3,\n",
    "#                 hatches=hatches, norm=norm)\n",
    "\n",
    "\n",
    "#CS = ax.contour(X, Y, tmp, levels=levelsf, colors='k', linewidths=1.5)\n",
    "# plt.ylim([-300, 5])\n",
    "#ax.set_yscale(\"symlog\")\n",
    "# #plt.ylim([-5, 5])\n",
    "\n",
    "CB = plt.colorbar(CSF)\n",
    "#CB.add_lines(CS)\n",
    "CB.ax.set_ylabel('Enhancement factor', rotation=270, fontsize=16, labelpad=20)\n",
    "# #CB.set_ticks(levelsf[2:])\n",
    "ax.set_xlabel('Diameter of particle 1 (nm)', size=16)\n",
    "ax.set_ylabel('Charge of particle 1 (e)', size=16)\n",
    "ax.yaxis.set_ticks_position('left')\n",
    "# #ax.set_yticks(np.arange(-5, 6))\n",
    "ax.set_xticks([1, *np.arange(20, 120, 20)])\n",
    "for tick in ax.xaxis.get_major_ticks():\n",
    "    tick.label.set_fontsize(14)\n",
    "for tick in ax.yaxis.get_major_ticks():\n",
    "    tick.label.set_fontsize(14)\n",
    "CB.ax.tick_params(labelsize=14)\n",
    "#CB.add_lines(CS)\n",
    "#plt.clabel(CS, inline=1, fontsize=14, fmt='%3.2f')\n",
    "plt.show()\n",
    "\n",
    "\n",
    "\n",
    "\n",
    "# neg pos contourf symlog\n",
    "# levelsf = [1e-2, 2e-2, 5e-2, 1e-1, 2e-1, 5e-1, 1, 2, 5, 10, 20, 50, 100, 200, 500]\n",
    "# #levels = [1e-3, *np.logspace(0, 9, num=500, base=2)]\n",
    "# levels = [1e-2, 2e-2, 5e-2, 1e-1, 2e-1, 5e-1,*np.logspace(0, 9, num=500, base=2)]\n",
    "# #norm = mpl.colors.Normalize(vmin=levels[0], vmax=levels[-1])\n",
    "# #norm = mpl.colors.LogNorm(vmin=1, vmax=data.max())\n",
    "# norm = mpl.colors.BoundaryNorm(boundaries=np.array(levels), ncolors=256)\n",
    "# #CM = ax.pcolormesh(X, Y, data, cmap=cm.gist_heat_r, norm=norm)\n",
    "\n",
    "# #norm = mpl.colors.LogNorm(vmin=1, vmax=data.max())\n",
    "# #CM = ax.pcolormesh(X, Y, data, cmap=cm.gist_heat_r, norm=norm)\n",
    "\n",
    "# #CM = ax.contourf(X, Y, data, cmap=cm.magma_r, levels=levels, norm=norm)\n",
    "# #CM = ax.contourf(X, Y, data, 50, cmap=cm.magma_r, norm=norm)\n",
    "\n",
    "# # hatches=['/','/','/', '/', *[None]*(len(levels)-1)]\n",
    "# hatches=[*[None]*(len(levelsf))]\n",
    "\n",
    "# tmp = np.copy(data)\n",
    "# tmp2 = np.copy(data)\n",
    "# tmp[tmp<1e-4]=1e-4\n",
    "\n",
    "# norm = mpl.colors.LogNorm(vmin=1e-4, vmax=data.max())\n",
    "# levelsf = np.logspace(-4, 4, num=9, base=10)\n",
    "# CSF = ax.contourf(X, Y, tmp, cmap=cm.coolwarm_r, levels=levelsf, vmin=1e-3, vmax=1e3,\n",
    "#                  hatches=hatches, norm=norm)\n",
    "\n",
    "\n",
    "# CS = ax.contour(X, Y, tmp, levels=levelsf, colors='k', linewidths=1.5)\n",
    "# plt.ylim([-300, 5])\n",
    "# plt.yscale(\"symlog\")\n",
    "# #plt.ylim([-5, 5])\n",
    "\n",
    "# CB = plt.colorbar(CSF)\n",
    "# #CB.add_lines(CS)\n",
    "# CB.ax.set_ylabel('Enhancement factor', rotation=270, fontsize=16, labelpad=20)\n",
    "# #CB.set_ticks(levelsf[2:])\n",
    "# ax.set_xlabel('Diameter of particle 1 (nm)', size=16)\n",
    "# ax.set_ylabel('Charge of particle 1 (e)', size=16)\n",
    "# ax.yaxis.set_ticks_position('left')\n",
    "# #ax.set_yticks(np.arange(-5, 6))\n",
    "# ax.set_xticks([1, *np.arange(20, 120, 20)])\n",
    "# for tick in ax.xaxis.get_major_ticks():\n",
    "#     tick.label.set_fontsize(14)\n",
    "# for tick in ax.yaxis.get_major_ticks():\n",
    "#     tick.label.set_fontsize(14)\n",
    "# CB.ax.tick_params(labelsize=14)\n",
    "# CB.add_lines(CS)\n",
    "# #plt.clabel(CS, inline=1, fontsize=14, fmt='%3.2f')\n",
    "# plt.show()\n",
    "\n",
    "\n",
    "# CSF = ax.contourf(X, Y, tmp, cmap=cm.gist_heat_r, levels=levels, norm=norm, vmin=1e-3, vmax=tmp.max(),\n",
    "#                  hatches=hatches, extend=\"both\")\n",
    "\n",
    "# CS = ax.contour(X, Y, tmp, levels=levelsf, colors='k', linewidths=1)\n",
    "# plt.ylim([-300, 5])\n",
    "# plt.yscale(\"symlog\")\n",
    "# #plt.ylim([-5, 5])\n",
    "\n",
    "# CB = plt.colorbar(CSF)\n",
    "# CB.add_lines(CS)\n",
    "# CB.ax.set_ylabel('Enhancement factor', rotation=270, fontsize=16, labelpad=20)\n",
    "# CB.set_ticks(levelsf[2:])\n",
    "# ax.set_xlabel('Diameter of particle 1 (nm)', size=16)\n",
    "# ax.set_ylabel('Charge of particle 1 (e)', size=16)\n",
    "# ax.yaxis.set_ticks_position('left')\n",
    "# #ax.set_yticks(np.arange(-5, 6))\n",
    "# ax.set_xticks([1, *np.arange(20, 120, 20)])\n",
    "# for tick in ax.xaxis.get_major_ticks():\n",
    "#     tick.label.set_fontsize(14)\n",
    "# for tick in ax.yaxis.get_major_ticks():\n",
    "#     tick.label.set_fontsize(14)\n",
    "# CB.ax.tick_params(labelsize=14)\n",
    "# plt.clabel(CS, inline=1, fontsize=14, fmt='%1.1f')\n",
    "# plt.show()"
   ]
  },
  {
   "cell_type": "code",
   "execution_count": null,
   "metadata": {
    "collapsed": true
   },
   "outputs": [],
   "source": [
    "tmp[:90,].shape"
   ]
  },
  {
   "cell_type": "code",
   "execution_count": null,
   "metadata": {
    "collapsed": true
   },
   "outputs": [],
   "source": [
    "fig = plt.figure()\n",
    "plt.plot(test.qpivots[1:], np.diff(test.qpivots), 'o')\n",
    "plt.show()"
   ]
  },
  {
   "cell_type": "code",
   "execution_count": null,
   "metadata": {
    "collapsed": true
   },
   "outputs": [],
   "source": [
    "qpivots"
   ]
  },
  {
   "cell_type": "code",
   "execution_count": null,
   "metadata": {
    "collapsed": true
   },
   "outputs": [],
   "source": [
    " print(norm(levels))"
   ]
  },
  {
   "cell_type": "code",
   "execution_count": null,
   "metadata": {
    "collapsed": true
   },
   "outputs": [],
   "source": [
    "norm"
   ]
  },
  {
   "cell_type": "code",
   "execution_count": null,
   "metadata": {
    "collapsed": true
   },
   "outputs": [],
   "source": [
    "data.min()"
   ]
  },
  {
   "cell_type": "code",
   "execution_count": null,
   "metadata": {
    "collapsed": true
   },
   "outputs": [],
   "source": [
    "data.max()"
   ]
  },
  {
   "cell_type": "code",
   "execution_count": null,
   "metadata": {
    "collapsed": true
   },
   "outputs": [],
   "source": [
    "tmp = np.copy(data)\n",
    "\n",
    "tmp[tmp<1e-3]=1e-3"
   ]
  },
  {
   "cell_type": "code",
   "execution_count": null,
   "metadata": {
    "collapsed": true
   },
   "outputs": [],
   "source": [
    "tmp.min()"
   ]
  },
  {
   "cell_type": "code",
   "execution_count": null,
   "metadata": {
    "collapsed": true
   },
   "outputs": [],
   "source": [
    "fig, ax = plt.subplots(figsize=(, 7))\n",
    "\n",
    "# neg pos contourf symlog\n",
    "levelsf = [1e-2, 2e-2, 5e-2, 1e-1, 2e-1, 5e-1, 1, 2, 5, 10, 20, 50, 100, 200, 500]\n",
    "#levels = [1e-3, *np.logspace(0, 9, num=500, base=2)]\n",
    "levels = [1e-2, 2e-2, 5e-2, 1e-1, 2e-1, 5e-1,*np.logspace(0, 9, num=500, base=2)]\n",
    "#norm = mpl.colors.Normalize(vmin=levels[0], vmax=levels[-1])\n",
    "#norm = mpl.colors.LogNorm(vmin=1, vmax=data.max())\n",
    "norm = mpl.colors.BoundaryNorm(boundaries=np.array(levels), ncolors=256)\n",
    "#CM = ax.pcolormesh(X, Y, data, cmap=cm.gist_heat_r, norm=norm)\n",
    "\n",
    "#norm = mpl.colors.LogNorm(vmin=1, vmax=data.max())\n",
    "#CM = ax.pcolormesh(X, Y, data, cmap=cm.gist_heat_r, norm=norm)\n",
    "\n",
    "#CM = ax.contourf(X, Y, data, cmap=cm.magma_r, levels=levels, norm=norm)\n",
    "#CM = ax.contourf(X, Y, data, 50, cmap=cm.magma_r, norm=norm)\n",
    "\n",
    "# hatches=['/','/','/', '/', *[None]*(len(levels)-1)]\n",
    "hatches=[*[None]*(len(levelsf))]\n",
    "\n",
    "tmp = np.copy(data)\n",
    "tmp2 = np.copy(data)\n",
    "tmp[tmp<1e-4]=1e-4\n",
    "\n",
    "norm = mpl.colors.LogNorm(vmin=1e-4, vmax=data.max())\n",
    "levelsf = np.logspace(-4, 4, num=9, base=10)\n",
    "CSF = ax.contourf(X, Y, tmp, cmap=cm.coolwarm_r, levels=levelsf, vmin=1e-3, vmax=1e3,\n",
    "                 hatches=hatches, norm=norm)\n",
    "\n",
    "\n",
    "CS = ax.contour(X, Y, tmp, levels=levelsf, colors='k', linewidths=1.5)\n",
    "plt.ylim([-300, 5])\n",
    "plt.yscale(\"symlog\")\n",
    "#plt.ylim([-5, 5])\n",
    "\n",
    "CB = plt.colorbar(CSF)\n",
    "#CB.add_lines(CS)\n",
    "CB.ax.set_ylabel('Enhancement factor', rotation=270, fontsize=16, labelpad=20)\n",
    "#CB.set_ticks(levelsf[2:])\n",
    "ax.set_xlabel('Diameter of particle 1 (nm)', size=16)\n",
    "ax.set_ylabel('Charge of particle 1 (e)', size=16)\n",
    "ax.yaxis.set_ticks_position('left')\n",
    "#ax.set_yticks(np.arange(-5, 6))\n",
    "ax.set_xticks([1, *np.arange(20, 120, 20)])\n",
    "for tick in ax.xaxis.get_major_ticks():\n",
    "    tick.label.set_fontsize(14)\n",
    "for tick in ax.yaxis.get_major_ticks():\n",
    "    tick.label.set_fontsize(14)\n",
    "CB.ax.tick_params(labelsize=14)\n",
    "CB.add_lines(CS)\n",
    "plt.clabel(CS, inline=1, fontsize=14, fmt='%3.2f')\n",
    "plt.show()\n"
   ]
  },
  {
   "cell_type": "code",
   "execution_count": null,
   "metadata": {
    "collapsed": true
   },
   "outputs": [],
   "source": [
    "fig, ax = plt.subplots(figsize=(7, 7))\n",
    "#CM = ax.imshow(X, Y, data, cmap=cm.gist_heat_r, norm=mpl.colors.LogNorm(vmin=0.1, vmax=data.max()),\n",
    "#                  interpolation='gaussian')\n",
    "# CM = ax.imshow(data, cmap=cm.gist_heat_r, norm=mpl.colors.LogNorm(vmin=0.1, vmax=data.max()),\n",
    "#                interpolation='gaussian', origin='lower')\n",
    "#levels = [1, 2, 4, 8, 16, 32, 64, 128, 256, 512]\n",
    "\n",
    "\n",
    "\n",
    "# levelsf = [1e-2, 2e-2, 5e-2, 1e-1, 2e-1, 5e-1,*np.logspace(0, 9, num=500, base=2)]\n",
    "# #norm = mpl.colors.BoundaryNorm(boundaries=np.array(levels), ncolors=256)\n",
    "\n",
    "\n",
    "# hatches=['/','/','/', '/', *[None]*(len(levels)-1)]\n",
    "\n",
    "# tmp = np.copy(data)\n",
    "# tmp2 = np.copy(data)\n",
    "# #tmp[tmp<1e-4]=1e-4\n",
    "\n",
    "\n",
    "# # scipy interp. cubic\n",
    "# f = interp2d(X, Y, tmp, kind='linear')\n",
    "# xnew = np.arange(1, 100, .1)\n",
    "# ynew = np.arange(-296, 5, 1)\n",
    "# data1 = f(xnew,ynew)\n",
    "# Xn, Yn = np.meshgrid(xnew, ynew)\n",
    "\n",
    "# #data1 = np.fabs(data1)\n",
    "# CSF = ax.pcolormesh(Xn, Yn, data1, cmap=cm.gist_heat_r)#, norm=norm)\n",
    "\n",
    "#norm = mpl.colors.LogNorm(vmin=data1.min(), vmax=data1.max())\n",
    "\n",
    "\n",
    "\n",
    "#levelsf = np.logspace(-4, 4, num=9, base=10)\n",
    "#CSF = ax.contourf(X, Y, tmp, cmap=cm.gist_heat_r, levels=levelsf,\n",
    "#                 hatches=hatches, norm=norm)\n",
    "\n",
    "norm = mpl.colors.LogNorm(vmin=1e-3, vmax=tmp.max())\n",
    "CSF = ax.pcolormesh(X, Y, tmp, cmap=cm.coolwarm_r, norm=norm)\n",
    "\n",
    "#CS = ax.contour(X, Y, tmp, levels=levelsf, colors='k', linewidths=1.5)\n",
    "plt.ylim([-300, 5])\n",
    "plt.yscale(\"symlog\")\n",
    "#plt.ylim([-5, 5])\n",
    "\n",
    "CB = plt.colorbar(CSF, extend='both')\n",
    "#CB.add_lines(CS)\n",
    "CB.ax.set_ylabel('Enhancement factor', rotation=270, fontsize=16, labelpad=20)\n",
    "#CB.set_ticks(levelsf[2:])\n",
    "ax.set_xlabel('Diameter of particle 1 (nm)', size=16)\n",
    "ax.set_ylabel('Charge of particle 1 (e)', size=16)\n",
    "ax.yaxis.set_ticks_position('left')\n",
    "#ax.set_yticks(np.arange(-5, 6))\n",
    "ax.set_xticks([1, *np.arange(20, 120, 20)])\n",
    "for tick in ax.xaxis.get_major_ticks():\n",
    "    tick.label.set_fontsize(14)\n",
    "for tick in ax.yaxis.get_major_ticks():\n",
    "    tick.label.set_fontsize(14)\n",
    "CB.ax.tick_params(labelsize=14)\n",
    "\n",
    "#CB.add_lines(CS)\n",
    "#plt.clabel(CS, inline=1, fontsize=14, fmt='%3.2f')\n",
    "plt.show()\n",
    "\n",
    "\n",
    "\n",
    "\n"
   ]
  },
  {
   "cell_type": "code",
   "execution_count": null,
   "metadata": {
    "collapsed": true
   },
   "outputs": [],
   "source": [
    "len(levels)"
   ]
  },
  {
   "cell_type": "code",
   "execution_count": null,
   "metadata": {
    "collapsed": true
   },
   "outputs": [],
   "source": [
    "fig, ax = plt.subplots(figsize=(8, 7))\n",
    "\n",
    "levelsf = [1e-2, 2e-2, 5e-2, 1e-1, 2e-1, 5e-1, 1, 2, 5, 10, 20, 50, 100, 200, 500]\n",
    "#levels = [1e-3, *np.logspace(0, 9, num=500, base=2)]\n",
    "levels = [1e-1, *np.logspace(0, 9, num=500, base=2)]\n",
    "#levels = [*np.logspace(0, 9, num=500, base=2)]\n",
    "norm = mpl.colors.BoundaryNorm(boundaries=np.array(levels), ncolors=256)\n",
    "\n",
    "CSF = ax.contourf(X, Y, tmp, cmap=cm.gist_heat_r, levels=levels, norm=norm, vmin=1e-3, vmax=tmp.max(),\n",
    "                 hatches=hatches)\n",
    "\n",
    "#CS = ax.contour(X, Y, tmp, levels=levelsf, colors='k', linewidths=1)\n",
    "plt.ylim([-300, 5])\n",
    "plt.yscale(\"symlog\")\n",
    "#plt.ylim([-5, 5])\n",
    "\n",
    "CB = plt.colorbar(CSF)\n",
    "#CB.add_lines(CS)\n",
    "CB.ax.set_ylabel('Enhancement factor', rotation=270, fontsize=16, labelpad=20)\n",
    "CB.set_ticks(levelsf[2:])\n",
    "ax.set_xlabel('Diameter of particle 1 (nm)', size=16)\n",
    "ax.set_ylabel('Charge of particle 1 (e)', size=16)\n",
    "ax.yaxis.set_ticks_position('left')\n",
    "#ax.set_yticks(np.arange(-5, 6))\n",
    "ax.set_xticks([1, *np.arange(20, 120, 20)])\n",
    "for tick in ax.xaxis.get_major_ticks():\n",
    "    tick.label.set_fontsize(14)\n",
    "for tick in ax.yaxis.get_major_ticks():\n",
    "    tick.label.set_fontsize(14)\n",
    "CB.ax.tick_params(labelsize=14)\n",
    "#plt.clabel(CS, inline=1, fontsize=14, fmt='%1.1f')\n",
    "plt.show()"
   ]
  },
  {
   "cell_type": "code",
   "execution_count": null,
   "metadata": {
    "collapsed": true
   },
   "outputs": [],
   "source": [
    "fig, ax = plt.subplots(figsize=(8, 7))\n",
    "\n",
    "levelsf = [1e-2, 2e-2, 5e-2, 1e-1, 2e-1, 5e-1, 1, 2, 5, 10, 20, 50, 100, 200, 500]\n",
    "#levels = [1e-3, *np.logspace(0, 9, num=500, base=2)]\n",
    "levels = [1e-2, 2e-2, 5e-2, 1e-1, 2e-1, 5e-1,*np.logspace(0, 9, num=500, base=2)]\n",
    "#levels = [*np.logspace(0, 9, num=500, base=2)]\n",
    "#norm = mpl.colors.BoundaryNorm(boundaries=np.array(levels), ncolors=256)\n",
    "norm=mpl.colors.LogNorm(vmin=1.0e-3, vmax=1.0e3)\n",
    "\n",
    "#CSF = ax.contourf(X, Y, tmp, cmap=cm.coolwarm_r, levels=levels, norm=norm, vmin=1e-3, vmax=1e3,\n",
    "#                 hatches=hatches)\n",
    "#CSF = ax.contourf(X, Y, tmp, cmap=cm.coolwarm_r, norm=norm, vmin=1e-3, vmax=1e3,\n",
    "#                 hatches=hatches)\n",
    "\n",
    "CSF = ax.pcolormesh(X, Y, tmp, cmap=cm.coolwarm_r, norm=norm, vmin=1e-3, vmax=1e3, shading='gouraud',\n",
    "                    alpha=1.0)\n",
    "\n",
    "#CS = ax.contour(X, Y, tmp, levels=levelsf, colors='k', linewidths=1)\n",
    "plt.ylim([-300, 5])\n",
    "plt.yscale(\"symlog\")\n",
    "#plt.ylim([-5, 5])\n",
    "\n",
    "CB = plt.colorbar(CSF, extend='min')\n",
    "#CB.add_lines(CS)\n",
    "CB.ax.set_ylabel('Enhancement factor', rotation=270, fontsize=16, labelpad=20)\n",
    "#CB.set_ticks(levelsf[2:])\n",
    "ax.set_xlabel('Diameter of particle 1 (nm)', size=16)\n",
    "ax.set_ylabel('Charge of particle 1 (e)', size=16)\n",
    "ax.yaxis.set_ticks_position('left')\n",
    "#ax.set_yticks(np.arange(-5, 6))\n",
    "ax.set_xticks([1, *np.arange(20, 120, 20)])\n",
    "for tick in ax.xaxis.get_major_ticks():\n",
    "    tick.label.set_fontsize(14)\n",
    "for tick in ax.yaxis.get_major_ticks():\n",
    "    tick.label.set_fontsize(14)\n",
    "CB.ax.tick_params(labelsize=14)\n",
    "#plt.clabel(CS, inline=1, fontsize=14, fmt='%1.1f')\n",
    "plt.show()"
   ]
  },
  {
   "cell_type": "code",
   "execution_count": null,
   "metadata": {
    "collapsed": true
   },
   "outputs": [],
   "source": [
    "fig, ax = plt.subplots(figsize=(8, 7))\n",
    "\n",
    "levelsf = [1e-2, 2e-2, 5e-2, 1e-1, 2e-1, 5e-1, 1, 2, 5, 10, 20, 50, 100, 200, 500]\n",
    "levelsf2 = [1, 2, 5, 10, 20, 50, 100, 200, 500]\n",
    "#levels = [1e-3, *np.logspace(0, 9, num=500, base=2)]\n",
    "levels = [1e-2, 2e-2, 5e-2, 1e-1, 2e-1, 5e-1,*np.logspace(0, 9, num=500, base=2)]\n",
    "#levels = [*np.logspace(0, 9, num=500, base=2)]\n",
    "#norm = mpl.colors.BoundaryNorm(boundaries=np.array(levels), ncolors=256)\n",
    "norm=mpl.colors.LogNorm(vmin=1.0e-3, vmax=1.0e3)\n",
    "\n",
    "#CSF = ax.contourf(X, Y, tmp, cmap=cm.coolwarm_r, levels=levels, norm=norm, vmin=1e-3, vmax=1e3,\n",
    "#                 hatches=hatches)\n",
    "#CSF = ax.contourf(X, Y, tmp, cmap=cm.coolwarm_r, norm=norm, vmin=1e-3, vmax=1e3,\n",
    "#                 hatches=hatches)\n",
    "\n",
    "CSF = ax.pcolormesh(X, Y, tmp, cmap=cm.coolwarm_r, norm=norm, vmin=1e-3, vmax=1e3, shading='gouraud',\n",
    "                    alpha=1.0)\n",
    "\n",
    "#CS = ax.contour(X, Y, tmp, levels=levelsf2, colors='k', linewidths=1)\n",
    "CS = ax.contour(X, Y, tmp, levelsf, colors='k', linewidths=1)\n",
    "\n",
    "plt.ylim([-300, 5])\n",
    "plt.yscale(\"symlog\")\n",
    "#plt.ylim([-5, 5])\n",
    "\n",
    "CB = plt.colorbar(CSF, extend='min')\n",
    "CB.add_lines(CS)\n",
    "CB.ax.set_ylabel('Enhancement factor', rotation=270, fontsize=16, labelpad=20)\n",
    "#CB.set_ticks(levelsf[2:])\n",
    "ax.set_xlabel('Diameter of particle 1 (nm)', size=16)\n",
    "ax.set_ylabel('Charge of particle 1 (e)', size=16)\n",
    "ax.yaxis.set_ticks_position('left')\n",
    "#ax.set_yticks(np.arange(-5, 6))\n",
    "ax.set_xticks([1, *np.arange(20, 120, 20)])\n",
    "for tick in ax.xaxis.get_major_ticks():\n",
    "    tick.label.set_fontsize(14)\n",
    "for tick in ax.yaxis.get_major_ticks():\n",
    "    tick.label.set_fontsize(14)\n",
    "CB.ax.tick_params(labelsize=14)\n",
    "plt.clabel(CS, inline=1, fontsize=14, fmt='%1.1f')\n",
    "plt.show()"
   ]
  },
  {
   "cell_type": "code",
   "execution_count": null,
   "metadata": {
    "collapsed": true
   },
   "outputs": [],
   "source": [
    "fig, ax = plt.subplots(figsize=(8, 7))\n",
    "\n",
    "# neg pos contourf symlog\n",
    "levelsf = [1e-2, 2e-2, 5e-2, 1e-1, 2e-1, 5e-1, 1, 2, 5, 10, 20, 50, 100, 200, 500]\n",
    "#levels = [1e-3, *np.logspace(0, 9, num=500, base=2)]\n",
    "levels = [1e-2, 2e-2, 5e-2, 1e-1, 2e-1, 5e-1,*np.logspace(0, 9, num=500, base=2)]\n",
    "#norm = mpl.colors.Normalize(vmin=levels[0], vmax=levels[-1])\n",
    "#norm = mpl.colors.LogNorm(vmin=1, vmax=data.max())\n",
    "norm = mpl.colors.BoundaryNorm(boundaries=np.array(levels), ncolors=256)\n",
    "#CM = ax.pcolormesh(X, Y, data, cmap=cm.gist_heat_r, norm=norm)\n",
    "\n",
    "#norm = mpl.colors.LogNorm(vmin=1, vmax=data.max())\n",
    "#CM = ax.pcolormesh(X, Y, data, cmap=cm.gist_heat_r, norm=norm)\n",
    "\n",
    "#CM = ax.contourf(X, Y, data, cmap=cm.magma_r, levels=levels, norm=norm)\n",
    "#CM = ax.contourf(X, Y, data, 50, cmap=cm.magma_r, norm=norm)\n",
    "\n",
    "# hatches=['/','/','/', '/', *[None]*(len(levels)-1)]\n",
    "hatches=[*[None]*(len(levelsf))]\n",
    "\n",
    "tmp = np.copy(data)\n",
    "tmp2 = np.copy(data)\n",
    "tmp[tmp<1e-4]=1e-4\n",
    "\n",
    "norm = mpl.colors.LogNorm(vmin=1e-3, vmax=1e3)\n",
    "levelsfl = np.logspace(-4, 4, num=9, base=10)\n",
    "CSF = ax.contourf(X, Y, tmp, cmap=cm.coolwarm_r, levels=levelsfl, vmin=1e-3, vmax=1e3,\n",
    "                 hatches=hatches, norm=norm)\n",
    "\n",
    "\n",
    "CS = ax.contour(X, Y, tmp, levels=levelsfl[4:], colors='k', linewidths=1.5)\n",
    "CS2 = ax.contour(X, Y, tmp, levels=levelsfl[:4], colors='k', linewidths=1.5)\n",
    "\n",
    "plt.ylim([-300, 5])\n",
    "plt.yscale(\"symlog\")\n",
    "#plt.ylim([-5, 5])\n",
    "\n",
    "CB = plt.colorbar(CSF)\n",
    "#CB.add_lines(CS)\n",
    "CB.ax.set_ylabel('Enhancement factor', rotation=270, fontsize=16, labelpad=20)\n",
    "#CB.set_ticks(levelsf[2:])\n",
    "ax.set_xlabel('Diameter of particle 1 (nm)', size=16)\n",
    "ax.set_ylabel('Charge of particle 1 (e)', size=16)\n",
    "ax.yaxis.set_ticks_position('left')\n",
    "#ax.set_yticks(np.arange(-5, 6))\n",
    "ax.set_xticks([1, *np.arange(20, 120, 20)])\n",
    "ax.set_yticks([-200, -100, -50, -20, -10, -5, -2, -1, 0, 1, 2, 5])\n",
    "ax.get_yaxis().set_major_formatter(ScalarFormatter())\n",
    "for tick in ax.xaxis.get_major_ticks():\n",
    "    tick.label.set_fontsize(14)\n",
    "for tick in ax.yaxis.get_major_ticks():\n",
    "    tick.label.set_fontsize(14)\n",
    "CB.ax.tick_params(labelsize=14)\n",
    "CB.add_lines(CS)\n",
    "CB.add_lines(CS2)\n",
    "plt.clabel(CS, inline=1, fontsize=14, fmt='%3.2f')\n",
    "plt.show()"
   ]
  },
  {
   "cell_type": "code",
   "execution_count": null,
   "metadata": {
    "collapsed": true
   },
   "outputs": [],
   "source": [
    "fig, ax = plt.subplots(figsize=(8, 7))\n",
    "\n",
    "levelsf = [1e-2, 2e-2, 5e-2, 1e-1, 2e-1, 5e-1, 1, 2, 5, 10, 20, 50, 100, 200, 500]\n",
    "#levels = [1e-3, *np.logspace(0, 9, num=500, base=2)]\n",
    "levels = [1e-2, 2e-2, 5e-2, 1e-1, 2e-1, 5e-1,*np.logspace(0, 9, num=500, base=2)]\n",
    "#levels = [*np.logspace(0, 9, num=500, base=2)]\n",
    "#norm = mpl.colors.BoundaryNorm(boundaries=np.array(levels), ncolors=256)\n",
    "norm=mpl.colors.LogNorm(vmin=1.0e-3, vmax=1.0e3)\n",
    "\n",
    "#CSF = ax.contourf(X, Y, tmp, cmap=cm.coolwarm_r, levels=levels, norm=norm, vmin=1e-3, vmax=1e3,\n",
    "#                 hatches=hatches)\n",
    "#CSF = ax.contourf(X, Y, tmp, cmap=cm.coolwarm_r, norm=norm, vmin=1e-3, vmax=1e3,\n",
    "#                 hatches=hatches)\n",
    "\n",
    "CSF = ax.pcolormesh(X, Y, tmp, cmap=cm.coolwarm_r, norm=norm, vmin=1e-3, vmax=1e3, shading='gouraud',\n",
    "                    alpha=1.0)\n",
    "\n",
    "#CS = ax.contour(X, Y, tmp, levels=levelsf, colors='k', linewidths=1)\n",
    "plt.ylim([-300, 5])\n",
    "#plt.yscale(\"symlog\")\n",
    "#plt.ylim([-5, 5])\n",
    "\n",
    "CB = plt.colorbar(CSF, extend='min')\n",
    "#CB.add_lines(CS)\n",
    "CB.ax.set_ylabel('Enhancement factor', rotation=270, fontsize=16, labelpad=20)\n",
    "#CB.set_ticks(levelsf[2:])\n",
    "ax.set_xlabel('Diameter of particle 1 (nm)', size=16)\n",
    "ax.set_ylabel('Charge of particle 1 (e)', size=16)\n",
    "ax.yaxis.set_ticks_position('left')\n",
    "#ax.set_yticks(np.arange(-5, 6))\n",
    "ax.set_xticks([1, *np.arange(20, 120, 20)])\n",
    "for tick in ax.xaxis.get_major_ticks():\n",
    "    tick.label.set_fontsize(14)\n",
    "for tick in ax.yaxis.get_major_ticks():\n",
    "    tick.label.set_fontsize(14)\n",
    "CB.ax.tick_params(labelsize=14)\n",
    "#plt.clabel(CS, inline=1, fontsize=14, fmt='%1.1f')\n",
    "plt.show()"
   ]
  },
  {
   "cell_type": "code",
   "execution_count": null,
   "metadata": {
    "collapsed": true
   },
   "outputs": [],
   "source": []
  },
  {
   "cell_type": "code",
   "execution_count": null,
   "metadata": {
    "collapsed": true
   },
   "outputs": [],
   "source": [
    "import matplotlib.colors as colors\n",
    "\n",
    "class MidpointNormalize(colors.Normalize):\n",
    "    def __init__(self, vmin=None, vmax=None, midpoint=None, clip=False):\n",
    "        self.midpoint = midpoint\n",
    "        colors.Normalize.__init__(self, vmin, vmax, clip)\n",
    "\n",
    "    def __call__(self, value, clip=None):\n",
    "        x, y = [self.vmin, self.midpoint, self.vmax], [0, 0.5, 1]\n",
    "        return np.ma.masked_array(np.interp(value, x, y))"
   ]
  },
  {
   "cell_type": "code",
   "execution_count": null,
   "metadata": {
    "collapsed": true
   },
   "outputs": [],
   "source": [
    "fig, ax = plt.subplots(figsize=(8, 7))\n",
    "\n",
    "levelsf = np.array([1e-2, 2e-2, 5e-2, 1e-1, 2e-1, 5e-1, 1, 2, 5, 10, 20, 50, 100, 200, 500, 1000])\n",
    "levelsf2 = np.array([1e-2, 2e-2, 5e-2, 1e-1, 2e-1, 5e-1, 1, 2, 5, 10, 20, 50, 100, 200, 500, 750, 1000])\n",
    "\n",
    "#levelsf2 = np.logspace(np.log10(tmp.min()), np.log10(tmp.max()), num=256, base=10)\n",
    "levelsf2 = np.logspace(-2, 3, num=256, base=10)\n",
    "\n",
    "#levelsf2 = np.array([1e-3, *np.logspace(0, 9, num=500, base=2)])\n",
    "#levels = [1e-3, *np.logspace(0, 9, num=500, base=2)]\n",
    "#levels = np.array([1e-1, *np.logspace(0, 9, num=500, base=2)])\n",
    "#levels = [*np.logspace(0, 9, num=500, base=2)]\n",
    "norm = mpl.colors.BoundaryNorm(boundaries=np.array(levels), ncolors=256)\n",
    "vmin = levelsf2.min()\n",
    "vmax = levelsf2.max()\n",
    "\n",
    "CSF = ax.contourf(X, Y, tmp, cmap=cm.coolwarm_r, levels=levelsf2, norm=MidpointNormalize(clip=False,midpoint=.5, vmin=vmin, vmax=vmax), vmin=vmin, vmax=vmax,\n",
    "                 hatches=hatches)\n",
    "\n",
    "CS = ax.contour(X, Y, tmp, levels=levelsf, colors='k', linewidths=1)\n",
    "#CS2 = ax.contour(X, Y, tmp, levels=levelsf[:6], colors='k', linewidths=1)\n",
    "plt.ylim([-300, 5])\n",
    "plt.yscale(\"symlog\")\n",
    "#plt.ylim([-5, 5])\n",
    "\n",
    "CB = plt.colorbar(CSF, extend='both')\n",
    "CB.add_lines(CS)\n",
    "#CB.add_lines(CS2)\n",
    "CB.ax.set_ylabel('Enhancement factor', rotation=270, fontsize=16, labelpad=20)\n",
    "CB.set_ticks(levelsf)\n",
    "\n",
    "CB.ax.set_yticklabels([('{:.2f}'.format(x) if x < 1 else '{:.0f}'.format(x)) for x in levelsf], fontsize=14)\n",
    "\n",
    "ax.set_xlabel('Diameter of particle 1 (nm)', size=16)\n",
    "ax.set_ylabel('Charge of particle 1 (e)', size=16)\n",
    "ax.yaxis.set_ticks_position('left')\n",
    "#ax.set_yticks(np.arange(-5, 6))\n",
    "ax.set_xticks([1, *np.arange(20, 120, 20)])\n",
    "for tick in ax.xaxis.get_major_ticks():\n",
    "    tick.label.set_fontsize(14)\n",
    "for tick in ax.yaxis.get_major_ticks():\n",
    "    tick.label.set_fontsize(14)\n",
    "CB.ax.tick_params(labelsize=14)\n",
    "plt.clabel(CS, CS.levels[6:], inline=1, fontsize=14, fmt='%1.1f')\n",
    "plt.show()"
   ]
  },
  {
   "cell_type": "code",
   "execution_count": null,
   "metadata": {
    "collapsed": true
   },
   "outputs": [],
   "source": [
    "tmp.min()"
   ]
  },
  {
   "cell_type": "code",
   "execution_count": null,
   "metadata": {
    "collapsed": true
   },
   "outputs": [],
   "source": [
    "np.logspace(-3, 3, num=500, base=10)"
   ]
  },
  {
   "cell_type": "code",
   "execution_count": null,
   "metadata": {
    "collapsed": true
   },
   "outputs": [],
   "source": [
    "x=3.3035\n"
   ]
  },
  {
   "cell_type": "code",
   "execution_count": null,
   "metadata": {
    "collapsed": true
   },
   "outputs": [],
   "source": [
    "x"
   ]
  },
  {
   "cell_type": "code",
   "execution_count": null,
   "metadata": {
    "collapsed": true
   },
   "outputs": [],
   "source": [
    "'{:.3f}'.format(x)"
   ]
  },
  {
   "cell_type": "code",
   "execution_count": null,
   "metadata": {
    "collapsed": true
   },
   "outputs": [],
   "source": [
    "fig, ax = plt.subplots(figsize=(12, 7))\n",
    "\n",
    "levelsf = [1e-2, 2e-2, 5e-2, 1e-1, 2e-1, 5e-1, 1, 2, 5, 10, 20, 50, 100, 200, 500]\n",
    "levelsf2 = [1, 2, 5, 10, 20, 50, 100, 200, 500]\n",
    "#levels = [1e-3, *np.logspace(0, 9, num=500, base=2)]\n",
    "levels = [1e-2, 2e-2, 5e-2, 1e-1, 2e-1, 5e-1,*np.logspace(0, 9, num=500, base=2)]\n",
    "#levels = [*np.logspace(0, 9, num=500, base=2)]\n",
    "#norm = mpl.colors.BoundaryNorm(boundaries=np.array(levels), ncolors=256)\n",
    "norm=mpl.colors.LogNorm(vmin=1.0e-3, vmax=1.0e3)\n",
    "\n",
    "#CSF = ax.contourf(X, Y, tmp, cmap=cm.coolwarm_r, levels=levels, norm=norm, vmin=1e-3, vmax=1e3,\n",
    "#                 hatches=hatches)\n",
    "#CSF = ax.contourf(X, Y, tmp, cmap=cm.coolwarm_r, norm=norm, vmin=1e-3, vmax=1e3,\n",
    "#                 hatches=hatches)\n",
    "\n",
    "CSF = ax.imshow(tmp, cmap=cm.coolwarm_r, norm=norm, vmin=1e-3, vmax=1e3, extent=[1, 100, -300, 5], origin='lower',\n",
    "                aspect=0.3, interpolation='gaussian')\n",
    "\n",
    "#CS = ax.contour(X, Y, tmp, levels=levelsf2, colors='k', linewidths=1)\n",
    "CS = ax.contour(X, Y, tmp, levelsf2, colors='k', linewidths=1)\n",
    "\n",
    "#plt.ylim([1, 300])\n",
    "plt.yscale(\"log\")\n",
    "#plt.ylim([-5, 5])\n",
    "\n",
    "CB = plt.colorbar(CSF, extend='min')\n",
    "CB.add_lines(CS)\n",
    "CB.ax.set_ylabel('Enhancement factor', rotation=270, fontsize=16, labelpad=20)\n",
    "#CB.set_ticks(levelsf[2:])\n",
    "ax.set_xlabel('Diameter of particle 1 (nm)', size=16)\n",
    "ax.set_ylabel('Charge of particle 1 (e)', size=16)\n",
    "ax.yaxis.set_ticks_position('left')\n",
    "#ax.set_yticks(np.arange(-5, 6))\n",
    "ax.set_xticks([1, *np.arange(20, 120, 20)])\n",
    "for tick in ax.xaxis.get_major_ticks():\n",
    "    tick.label.set_fontsize(14)\n",
    "for tick in ax.yaxis.get_major_ticks():\n",
    "    tick.label.set_fontsize(14)\n",
    "CB.ax.tick_params(labelsize=14)\n",
    "plt.clabel(CS, inline=1, fontsize=14, fmt='%1.1f')\n",
    "plt.show()"
   ]
  },
  {
   "cell_type": "code",
   "execution_count": null,
   "metadata": {
    "collapsed": true
   },
   "outputs": [],
   "source": []
  },
  {
   "cell_type": "code",
   "execution_count": null,
   "metadata": {
    "collapsed": true
   },
   "outputs": [],
   "source": []
  },
  {
   "cell_type": "code",
   "execution_count": null,
   "metadata": {
    "collapsed": true
   },
   "outputs": [],
   "source": []
  },
  {
   "cell_type": "code",
   "execution_count": null,
   "metadata": {
    "collapsed": true
   },
   "outputs": [],
   "source": [
    "fig, ax = plt.subplots(figsize=(7, 7))\n",
    "#CM = ax.imshow(X, Y, data, cmap=cm.gist_heat_r, norm=mpl.colors.LogNorm(vmin=0.1, vmax=data.max()),\n",
    "#                  interpolation='gaussian')\n",
    "# CM = ax.imshow(data, cmap=cm.gist_heat_r, norm=mpl.colors.LogNorm(vmin=0.1, vmax=data.max()),\n",
    "#                interpolation='gaussian', origin='lower')\n",
    "#levels = [1, 2, 4, 8, 16, 32, 64, 128, 256, 512]\n",
    "\n",
    "\n",
    "\n",
    "levelsf = [1e-2, 2e-2, 5e-2, 1e-1, 2e-1, 5e-1,*np.logspace(0, 9, num=500, base=2)]\n",
    "norm = mpl.colors.BoundaryNorm(boundaries=np.array(levels), ncolors=256)\n",
    "\n",
    "\n",
    "hatches=['/','/','/', '/', *[None]*(len(levels)-1)]\n",
    "\n",
    "tmp = np.copy(data)\n",
    "tmp2 = np.copy(data)\n",
    "#tmp[tmp<1e-4]=1e-4\n",
    "\n",
    "\n",
    "# # scipy interp. cubic\n",
    "# f = interp2d(X, Y, tmp, kind='linear')\n",
    "# xnew = np.arange(1, 100, .1)\n",
    "# ynew = np.arange(-296, 5, 1)\n",
    "# data1 = f(xnew,ynew)\n",
    "# Xn, Yn = np.meshgrid(xnew, ynew)\n",
    "\n",
    "# #data1 = np.fabs(data1)\n",
    "# CSF = ax.pcolormesh(Xn, Yn, data1, cmap=cm.gist_heat_r)#, norm=norm)\n",
    "\n",
    "#norm = mpl.colors.LogNorm(vmin=data1.min(), vmax=data1.max())\n",
    "\n",
    "\n",
    "\n",
    "#levelsf = np.logspace(-4, 4, num=9, base=10)\n",
    "#CSF = ax.contourf(X, Y, tmp, cmap=cm.gist_heat_r, levels=levelsf,\n",
    "#                 hatches=hatches, norm=norm)\n",
    "\n",
    "# norm = mpl.colors.LogNorm(vmin=1e-3, vmax=tmp.max())\n",
    "CSF = ax.pcolormesh(X, Y, tmp, cmap=cm.coolwarm_r, norm=norm)\n",
    "\n",
    "#CS = ax.contour(X, Y, tmp, levels=levelsf, colors='k', linewidths=1.5)\n",
    "plt.ylim([-300, 5])\n",
    "plt.yscale(\"symlog\")\n",
    "#plt.ylim([-5, 5])\n",
    "\n",
    "CB = plt.colorbar(CSF, extend='both')\n",
    "#CB.add_lines(CS)\n",
    "CB.ax.set_ylabel('Enhancement factor', rotation=270, fontsize=16, labelpad=20)\n",
    "#CB.set_ticks(levelsf[2:])\n",
    "ax.set_xlabel('Diameter of particle 1 (nm)', size=16)\n",
    "ax.set_ylabel('Charge of particle 1 (e)', size=16)\n",
    "ax.yaxis.set_ticks_position('left')\n",
    "#ax.set_yticks(np.arange(-5, 6))\n",
    "ax.set_xticks([1, *np.arange(20, 120, 20)])\n",
    "for tick in ax.xaxis.get_major_ticks():\n",
    "    tick.label.set_fontsize(14)\n",
    "for tick in ax.yaxis.get_major_ticks():\n",
    "    tick.label.set_fontsize(14)\n",
    "CB.ax.tick_params(labelsize=14)\n",
    "\n",
    "#CB.add_lines(CS)\n",
    "#plt.clabel(CS, inline=1, fontsize=14, fmt='%3.2f')\n",
    "plt.show()\n",
    "\n",
    "\n",
    "\n",
    "\n",
    "\n"
   ]
  },
  {
   "cell_type": "code",
   "execution_count": null,
   "metadata": {
    "collapsed": true
   },
   "outputs": [],
   "source": []
  },
  {
   "cell_type": "code",
   "execution_count": null,
   "metadata": {
    "collapsed": true
   },
   "outputs": [],
   "source": [
    "fig, ax = plt.subplots(figsize=(8, 7))\n",
    "\n",
    "levelsf = np.array([1e-2, 2e-2, 5e-2, 1e-1, 2e-1, 5e-1, 1, 2, 5, 10, 20, 50, 100, 200, 500, 1000])\n",
    "levelsf2 = np.array([1e-2, 2e-2, 5e-2, 1e-1, 2e-1, 5e-1, 1, 2, 5, 10, 20, 50, 100, 200, 500, 750, 1000])\n",
    "\n",
    "#levelsf2 = np.logspace(np.log10(tmp.min()), np.log10(tmp.max()), num=256, base=10)\n",
    "levelsf2 = np.logspace(-4, 3, num=256, base=10)\n",
    "\n",
    "#levelsf2 = np.array([1e-3, *np.logspace(0, 9, num=500, base=2)])\n",
    "#levels = [1e-3, *np.logspace(0, 9, num=500, base=2)]\n",
    "#levels = np.array([1e-1, *np.logspace(0, 9, num=500, base=2)])\n",
    "#levels = [*np.logspace(0, 9, num=500, base=2)]\n",
    "norm = mpl.colors.BoundaryNorm(boundaries=np.array(levels), ncolors=256)\n",
    "vmin = levelsf2.min()\n",
    "vmax = levelsf2.max()\n",
    "\n",
    "CSF = ax.contourf(X, Y, tmp, cmap=cm.coolwarm_r, levels=levelsf2, norm=MidpointNormalize(clip=False,midpoint=.5, vmin=vmin, vmax=vmax), vmin=vmin, vmax=vmax,\n",
    "                 hatches=hatches)\n",
    "\n",
    "CS = ax.contour(X, Y, tmp, levels=levelsf, colors='k', linewidths=1)\n",
    "#CS2 = ax.contour(X, Y, tmp, levels=levelsf[:6], colors='k', linewidths=1)\n",
    "qmin = -15\n",
    "qmax = 5\n",
    "ax.set_yticks(np.arange(qmin, qmax+1))\n",
    "plt.ylim([qmin, qmax])\n",
    "#plt.yscale(\"symlog\")\n",
    "#plt.ylim([-5, 5])\n",
    "\n",
    "CB = plt.colorbar(CSF, extend='both')\n",
    "CB.add_lines(CS)\n",
    "#CB.add_lines(CS2)\n",
    "CB.ax.set_ylabel('Enhancement factor', rotation=270, fontsize=16, labelpad=20)\n",
    "CB.set_ticks(levelsf)\n",
    "\n",
    "CB.ax.set_yticklabels([('{:.2f}'.format(x) if x < 1 else '{:.0f}'.format(x)) for x in levelsf], fontsize=14)\n",
    "\n",
    "ax.set_xlabel('Diameter of particle 1 (nm)', size=16)\n",
    "ax.set_ylabel('Charge of particle 1 (e)', size=16)\n",
    "ax.yaxis.set_ticks_position('left')\n",
    "#ax.set_yticks(np.arange(-5, 6))\n",
    "ax.set_xticks([1, *np.arange(20, 120, 20)])\n",
    "for tick in ax.xaxis.get_major_ticks():\n",
    "    tick.label.set_fontsize(14)\n",
    "for tick in ax.yaxis.get_major_ticks():\n",
    "    tick.label.set_fontsize(14)\n",
    "CB.ax.tick_params(labelsize=14)\n",
    "plt.clabel(CS, CS.levels[6:], inline=True, fontsize=14, fmt='%1.1f')\n",
    "plt.show()"
   ]
  },
  {
   "cell_type": "code",
   "execution_count": null,
   "metadata": {
    "collapsed": true
   },
   "outputs": [],
   "source": []
  },
  {
   "cell_type": "code",
   "execution_count": null,
   "metadata": {
    "collapsed": true
   },
   "outputs": [],
   "source": [
    "\n",
    "class LogMidpointNormalize(colors.Normalize):\n",
    "    def __init__(self, vmin=None, vmax=None, midpoint=None, clip=False):\n",
    "        self.midpoint = midpoint\n",
    "        colors.Normalize.__init__(self, vmin, vmax, clip)\n",
    "\n",
    "    def __call__(self, value, clip=None):\n",
    "        if clip is None:\n",
    "            clip = self.clip\n",
    "\n",
    "        result, is_scalar = self.process_value(value)\n",
    "        result = np.ma.masked_less_equal(result, 0, copy=False)\n",
    "        \n",
    "        self.autoscale_None(result)\n",
    "\n",
    "        vmin, vmax = self.vmin, self.vmax\n",
    "        if vmin > vmax:\n",
    "            raise ValueError(\"minvalue must be less than or equal to maxvalue\")\n",
    "        elif vmin <= 0:\n",
    "            raise ValueError(\"values must all be positive\")\n",
    "        elif vmin == vmax:\n",
    "            result.fill(0)\n",
    "        else:\n",
    "            if clip:\n",
    "                mask = np.ma.getmask(result)\n",
    "                result = np.ma.array(np.clip(result.filled(vmax), vmin, vmax),\n",
    "                                     mask=mask)\n",
    "            # in-place equivalent of above can be much faster\n",
    "            resdat = result.data\n",
    "            mask = result.mask\n",
    "            if mask is np.ma.nomask:\n",
    "                mask = (resdat <= 0)\n",
    "            else:\n",
    "                mask |= resdat <= 0\n",
    "            np.copyto(resdat, 1, where=mask)\n",
    "            np.log(resdat, resdat)\n",
    "            resdat -= np.log(vmin)\n",
    "            resdat /= (np.log(vmax) - np.log(vmin))\n",
    "            result = np.ma.array(resdat, mask=mask, copy=False)\n",
    "            \n",
    "        #x, y = [self.vmin, self.midpoint, self.vmax], [0, 0.5, 1]\n",
    "        #return np.ma.masked_array(np.interp(value, x, y))\n",
    "        return result\n",
    "    \n",
    "    def autoscale_None(self, A):\n",
    "        \"\"\"autoscale only None-valued vmin or vmax.\"\"\"\n",
    "        if self.vmin is not None and self.vmax is not None:\n",
    "            return\n",
    "        A = np.ma.masked_less_equal(A, 0, copy=False)\n",
    "        if self.vmin is None and A.size:\n",
    "            self.vmin = A.min()\n",
    "        if self.vmax is None and A.size:\n",
    "            self.vmax = A.max()"
   ]
  },
  {
   "cell_type": "code",
   "execution_count": null,
   "metadata": {
    "collapsed": true
   },
   "outputs": [],
   "source": [
    "import matplotlib.ticker as ticker"
   ]
  },
  {
   "cell_type": "code",
   "execution_count": null,
   "metadata": {
    "collapsed": true
   },
   "outputs": [],
   "source": [
    "fig, ax = plt.subplots(figsize=(8, 7))\n",
    "\n",
    "levelsf = np.array([1e-2, 2e-2, 5e-2, 1e-1, 2e-1, 5e-1, 1, 2, 5, 10, 20, 50, 100, 200, 500, 1000])\n",
    "levelsf2 = np.array([1e-2, 2e-2, 5e-2, 1e-1, 2e-1, 5e-1, 1, 2, 5, 10, 20, 50, 100, 200, 500, 750, 1000])\n",
    "\n",
    "#levelsf2 = np.logspace(np.log10(tmp.min()), np.log10(tmp.max()), num=256, base=10)\n",
    "mini = -3\n",
    "levelsf2 = np.logspace(mini, 3, num=256, base=10)\n",
    "levelsf3 = np.logspace(mini, 3, num=-mini+1+3, base=10)\n",
    "\n",
    "levelsf4 = np.array([1e-3, 1e-2, 1e-1, 1, 10, 20, 50, 100, 200, 500, 1000])\n",
    "\n",
    "#levelsf2 = np.array([1e-3, *np.logspace(0, 9, num=500, base=2)])\n",
    "#levels = [1e-3, *np.logspace(0, 9, num=500, base=2)]\n",
    "#levels = np.array([1e-1, *np.logspace(0, 9, num=500, base=2)])\n",
    "#levels = [*np.logspace(0, 9, num=500, base=2)]\n",
    "norm = mpl.colors.BoundaryNorm(boundaries=np.array(levels), ncolors=256)\n",
    "vmin = levelsf2.min()\n",
    "vmax = levelsf2.max()\n",
    "\n",
    "trimmed = np.copy(data)\n",
    "trimmed[tmp<1e-3]=1e-3\n",
    "\n",
    "CSF = ax.contourf(X, Y, trimmed, cmap=cm.coolwarm_r, levels=levelsf2, norm=LogMidpointNormalize(clip=False,midpoint=.5, vmin=vmin, vmax=vmax), vmin=vmin, vmax=vmax,\n",
    "                 hatches=hatches)#, extend='min')\n",
    "\n",
    "#CSF.set_clim(vmin, vmax)\n",
    "#CSF.cmap.set_under('k')\n",
    "#CSF = ax.contourf(X, Y, trimmed, cmap=cm.coolwarm_r, levels=levelsf2, norm=LogNorm(vmin=vmin, vmax=vmax), vmin=vmin, vmax=vmax,\n",
    "#                 hatches=hatches)#, extend='min')\n",
    "\n",
    "\n",
    "CS = ax.contour(X, Y, trimmed, levels=levelsf4, colors='k', linewidths=1.5)\n",
    "#CS2 = ax.contour(X, Y, tmp, levels=levelsf[:6], colors='k', linewidths=1)\n",
    "#qmin = -15\n",
    "#qmax = 5\n",
    "ax.set_yticks(np.arange(qmin, qmax+1))\n",
    "#plt.ylim([qmin, qmax])\n",
    "plt.yscale(\"symlog\")\n",
    "#plt.ylim([-5, 5])\n",
    "\n",
    "def fmt(x, pos):\n",
    "    a, b = '{:.2e}'.format(x).split('e')\n",
    "    b = int(b)\n",
    "    return r'$10^{{{}}}$'.format(b)\n",
    "\n",
    "CB = plt.colorbar(CSF, extend='min', format=ticker.FuncFormatter(fmt))\n",
    "CB.add_lines(CS)\n",
    "#CB.add_lines(CS2)\n",
    "CB.ax.set_ylabel('Enhancement factor', rotation=270, fontsize=16, labelpad=20)\n",
    "CB.set_ticks(levelsf3)\n",
    "\n",
    "#CB.ax.set_yticklabels([('{:.3f}'.format(x) if x < 1 else '{:.0f}'.format(x)) for x in levelsf3], fontsize=14)\n",
    "\n",
    "ax.set_xlabel('Diameter of particle 1 (nm)', size=16)\n",
    "ax.set_ylabel('Charge of particle 1 (e)', size=16)\n",
    "ax.yaxis.set_ticks_position('left')\n",
    "ax.set_yticks([-200, -100, -50, -20, -10, -5, -2, -1, 0, 1, 2, 5])\n",
    "ax.get_yaxis().set_major_formatter(ScalarFormatter())\n",
    "#ax.set_yticks(np.arange(-5, 6))\n",
    "ax.set_xticks([1, *np.arange(20, 120, 20)])\n",
    "for tick in ax.xaxis.get_major_ticks():\n",
    "    tick.label.set_fontsize(14)\n",
    "for tick in ax.yaxis.get_major_ticks():\n",
    "    tick.label.set_fontsize(14)\n",
    "CB.ax.tick_params(labelsize=14)\n",
    "plt.clabel(CS, CS.levels[3:], inline=True, fontsize=14, fmt='%1.1f')\n",
    "plt.show()"
   ]
  },
  {
   "cell_type": "code",
   "execution_count": null,
   "metadata": {
    "collapsed": true
   },
   "outputs": [],
   "source": [
    "fig, ax = plt.subplots(figsize=(8, 7))\n",
    "\n",
    "levelsf = np.array([1e-2, 2e-2, 5e-2, 1e-1, 2e-1, 5e-1, 1, 2, 5, 10, 20, 50, 100, 200, 500, 1000])\n",
    "levelsf2 = np.array([1e-2, 2e-2, 5e-2, 1e-1, 2e-1, 5e-1, 1, 2, 5, 10, 20, 50, 100, 200, 500, 750, 1000])\n",
    "\n",
    "#levelsf2 = np.logspace(np.log10(tmp.min()), np.log10(tmp.max()), num=256, base=10)\n",
    "mini = -3\n",
    "levelsf2 = np.logspace(mini, 3, num=256, base=10)\n",
    "levelsf3 = np.logspace(mini, 3, num=-mini+1+3, base=10)\n",
    "\n",
    "levelsf4 = np.array([1e-3, 1e-2, 1e-1, 1, 10, 20, 50, 100, 200, 500, 1000])\n",
    "\n",
    "#levelsf2 = np.array([1e-3, *np.logspace(0, 9, num=500, base=2)])\n",
    "#levels = [1e-3, *np.logspace(0, 9, num=500, base=2)]\n",
    "#levels = np.array([1e-1, *np.logspace(0, 9, num=500, base=2)])\n",
    "#levels = [*np.logspace(0, 9, num=500, base=2)]\n",
    "norm = mpl.colors.BoundaryNorm(boundaries=np.array(levels), ncolors=256)\n",
    "vmin = levelsf2.min()\n",
    "vmax = levelsf2.max()\n",
    "\n",
    "trimmed = np.copy(data)\n",
    "trimmed[tmp<1e-3]=1e-3\n",
    "\n",
    "CSF = ax.contourf(X, Y, data, cmap=cm.coolwarm_r, levels=levelsf2, norm=LogMidpointNormalize(clip=False,midpoint=.5, vmin=vmin, vmax=vmax), vmin=vmin, vmax=vmax,\n",
    "                 hatches=hatches, extend='min')\n",
    "\n",
    "#CSF.set_clim(vmin, vmax)\n",
    "#CSF.cmap.set_under('k')\n",
    "#CSF = ax.contourf(X, Y, trimmed, cmap=cm.coolwarm_r, levels=levelsf2, norm=LogNorm(vmin=vmin, vmax=vmax), vmin=vmin, vmax=vmax,\n",
    "#                 hatches=hatches)#, extend='min')\n",
    "\n",
    "\n",
    "CS = ax.contour(X, Y, data, levels=levelsf4, colors='k', linewidths=1.5)\n",
    "#CS2 = ax.contour(X, Y, tmp, levels=levelsf[:6], colors='k', linewidths=1)\n",
    "#qmin = -15\n",
    "#qmax = 5\n",
    "ax.set_yticks(np.arange(qmin, qmax+1))\n",
    "#plt.ylim([qmin, qmax])\n",
    "plt.yscale(\"symlog\")\n",
    "#plt.ylim([-5, 5])\n",
    "\n",
    "def fmt(x, pos):\n",
    "    a, b = '{:.2e}'.format(x).split('e')\n",
    "    b = int(b)\n",
    "    return r'$10^{{{}}}$'.format(b)\n",
    "\n",
    "CB = plt.colorbar(CSF, extend='min', format=ticker.FuncFormatter(fmt))\n",
    "CB.add_lines(CS)\n",
    "#CB.add_lines(CS2)\n",
    "CB.ax.set_ylabel('Enhancement factor', rotation=270, fontsize=16, labelpad=20)\n",
    "CB.set_ticks(levelsf3)\n",
    "\n",
    "#CB.ax.set_yticklabels([('{:.3f}'.format(x) if x < 1 else '{:.0f}'.format(x)) for x in levelsf3], fontsize=14)\n",
    "\n",
    "ax.set_xlabel('Diameter of particle 1 (nm)', size=16)\n",
    "ax.set_ylabel('Charge of particle 1 (e)', size=16)\n",
    "ax.yaxis.set_ticks_position('left')\n",
    "ax.set_yticks([-200, -100, -50, -20, -10, -5, -2, -1, 0, 1, 2, 5])\n",
    "ax.get_yaxis().set_major_formatter(ScalarFormatter())\n",
    "#ax.set_yticks(np.arange(-5, 6))\n",
    "ax.set_xticks([1, *np.arange(20, 120, 20)])\n",
    "for tick in ax.xaxis.get_major_ticks():\n",
    "    tick.label.set_fontsize(14)\n",
    "for tick in ax.yaxis.get_major_ticks():\n",
    "    tick.label.set_fontsize(14)\n",
    "CB.ax.tick_params(labelsize=14)\n",
    "plt.clabel(CS, CS.levels[3:], inline=True, fontsize=14, fmt='%1.1f')\n",
    "plt.show()"
   ]
  },
  {
   "cell_type": "code",
   "execution_count": null,
   "metadata": {
    "collapsed": true
   },
   "outputs": [],
   "source": [
    "fig, ax = plt.subplots(figsize=(8, 7))\n",
    "\n",
    "levelsf = np.array([1e-2, 2e-2, 5e-2, 1e-1, 2e-1, 5e-1, 1, 2, 5, 10, 20, 50, 100, 200, 500, 1000])\n",
    "levelsf2 = np.array([1e-2, 2e-2, 5e-2, 1e-1, 2e-1, 5e-1, 1, 2, 5, 10, 20, 50, 100, 200, 500, 750, 1000])\n",
    "\n",
    "#levelsf2 = np.logspace(np.log10(tmp.min()), np.log10(tmp.max()), num=256, base=10)\n",
    "mini = 0\n",
    "levelsf2 = np.logspace(mini, 3, num=256, base=10)\n",
    "levelsf3 = np.logspace(mini, 3, num=-mini+1+3, base=10)\n",
    "\n",
    "levelsf4 = np.array([0.5, 1, 10, 20, 50, 100, 200, 500, 1000])\n",
    "\n",
    "#levelsf2 = np.array([1e-3, *np.logspace(0, 9, num=500, base=2)])\n",
    "#levels = [1e-3, *np.logspace(0, 9, num=500, base=2)]\n",
    "#levels = np.array([1e-1, *np.logspace(0, 9, num=500, base=2)])\n",
    "#levels = [*np.logspace(0, 9, num=500, base=2)]\n",
    "norm = mpl.colors.BoundaryNorm(boundaries=np.array(levels), ncolors=256)\n",
    "vmin = levelsf2.min()\n",
    "vmax = levelsf2.max()\n",
    "\n",
    "CSF = ax.contourf(X, Y, data, cmap=cm.gist_heat_r, levels=levelsf2, norm=LogMidpointNormalize(clip=False,midpoint=.5, vmin=vmin, vmax=vmax), vmin=vmin, vmax=vmax,\n",
    "                 hatches=hatches, extend='both')\n",
    "\n",
    "CS = ax.contour(X, Y, tmp, levels=levelsf4, colors='k', linewidths=1.5)\n",
    "#CS2 = ax.contour(X, Y, tmp, levels=levelsf[:6], colors='k', linewidths=1)\n",
    "#qmin = -15\n",
    "#qmax = 5\n",
    "ax.set_yticks(np.arange(qmin, qmax+1))\n",
    "#plt.ylim([qmin, qmax])\n",
    "plt.yscale(\"symlog\")\n",
    "#plt.ylim([-5, 5])\n",
    "\n",
    "CB = plt.colorbar(CSF, extend='both')\n",
    "CB.add_lines(CS)\n",
    "#CB.add_lines(CS2)\n",
    "CB.ax.set_ylabel('Enhancement factor', rotation=270, fontsize=16, labelpad=20)\n",
    "CB.set_ticks(levelsf3)\n",
    "\n",
    "CB.ax.set_yticklabels([('{:.3f}'.format(x) if x < 1 else '{:.0f}'.format(x)) for x in levelsf3], fontsize=14)\n",
    "\n",
    "ax.set_xlabel('Diameter of particle 1 (nm)', size=16)\n",
    "ax.set_ylabel('Charge of particle 1 (e)', size=16)\n",
    "ax.yaxis.set_ticks_position('left')\n",
    "ax.set_yticks([-200, -100, -50, -20, -10, -5, -2, -1, 0, 1, 2, 5])\n",
    "ax.get_yaxis().set_major_formatter(ScalarFormatter())\n",
    "#ax.set_yticks(np.arange(-5, 6))\n",
    "ax.set_xticks([1, *np.arange(20, 120, 20)])\n",
    "for tick in ax.xaxis.get_major_ticks():\n",
    "    tick.label.set_fontsize(14)\n",
    "for tick in ax.yaxis.get_major_ticks():\n",
    "    tick.label.set_fontsize(14)\n",
    "CB.ax.tick_params(labelsize=14)\n",
    "plt.clabel(CS, CS.levels, inline=True, fontsize=14, fmt='%1.1f')\n",
    "plt.show()"
   ]
  },
  {
   "cell_type": "code",
   "execution_count": null,
   "metadata": {
    "collapsed": true
   },
   "outputs": [],
   "source": []
  },
  {
   "cell_type": "code",
   "execution_count": null,
   "metadata": {
    "collapsed": true
   },
   "outputs": [],
   "source": []
  },
  {
   "cell_type": "code",
   "execution_count": null,
   "metadata": {
    "collapsed": true
   },
   "outputs": [],
   "source": [
    "fig, ax = plt.subplots(figsize=(8, 7))\n",
    "\n",
    "# neg pos contourf symlog\n",
    "levelsf = [1e-2, 2e-2, 5e-2, 1e-1, 2e-1, 5e-1, 1, 2, 5, 10, 20, 50, 100, 200, 500]\n",
    "#levels = [1e-3, *np.logspace(0, 9, num=500, base=2)]\n",
    "levels = [1e-2, 2e-2, 5e-2, 1e-1, 2e-1, 5e-1,*np.logspace(0, 9, num=500, base=2)]\n",
    "#norm = mpl.colors.Normalize(vmin=levels[0], vmax=levels[-1])\n",
    "#norm = mpl.colors.LogNorm(vmin=1, vmax=data.max())\n",
    "norm = mpl.colors.BoundaryNorm(boundaries=np.array(levels), ncolors=256)\n",
    "#CM = ax.pcolormesh(X, Y, data, cmap=cm.gist_heat_r, norm=norm)\n",
    "\n",
    "#norm = mpl.colors.LogNorm(vmin=1, vmax=data.max())\n",
    "#CM = ax.pcolormesh(X, Y, data, cmap=cm.gist_heat_r, norm=norm)\n",
    "\n",
    "#CM = ax.contourf(X, Y, data, cmap=cm.magma_r, levels=levels, norm=norm)\n",
    "#CM = ax.contourf(X, Y, data, 50, cmap=cm.magma_r, norm=norm)\n",
    "\n",
    "# hatches=['/','/','/', '/', *[None]*(len(levels)-1)]\n",
    "hatches=[*[None]*(len(levelsf))]\n",
    "\n",
    "tmp = np.copy(data)\n",
    "tmp2 = np.copy(data)\n",
    "tmp[tmp<1e-4]=1e-4\n",
    "\n",
    "norm = mpl.colors.LogNorm(vmin=1e-3, vmax=1e3)\n",
    "levelsfl = np.logspace(-4, 4, num=9, base=10)\n",
    "CSF = ax.contourf(X, Y, tmp, cmap=cm.coolwarm_r, levels=levelsfl, vmin=1e-3, vmax=1e3,\n",
    "                 hatches=hatches, norm=norm)\n",
    "\n",
    "\n",
    "CS = ax.contour(X, Y, tmp, levels=levelsfl[4:], colors='k', linewidths=1.5)\n",
    "CS2 = ax.contour(X, Y, tmp, levels=levelsfl[:4], colors='k', linewidths=1.5)\n",
    "\n",
    "qmin = -15\n",
    "qmax = 5\n",
    "ax.set_yticks(np.arange(qmin, qmax+1))\n",
    "plt.ylim([qmin, qmax])\n",
    "#plt.ylim([-5, 5])\n",
    "\n",
    "CB = plt.colorbar(CSF)\n",
    "#CB.add_lines(CS)\n",
    "CB.ax.set_ylabel('Enhancement factor', rotation=270, fontsize=16, labelpad=20)\n",
    "#CB.set_ticks(levelsf[2:])\n",
    "ax.set_xlabel('Diameter of particle 1 (nm)', size=16)\n",
    "ax.set_ylabel('Charge of particle 1 (e)', size=16)\n",
    "ax.yaxis.set_ticks_position('left')\n",
    "#ax.set_yticks(np.arange(-5, 6))\n",
    "ax.set_xticks([1, *np.arange(20, 120, 20)])\n",
    "for tick in ax.xaxis.get_major_ticks():\n",
    "    tick.label.set_fontsize(14)\n",
    "for tick in ax.yaxis.get_major_ticks():\n",
    "    tick.label.set_fontsize(14)\n",
    "CB.ax.tick_params(labelsize=14)\n",
    "CB.add_lines(CS)\n",
    "CB.add_lines(CS2)\n",
    "plt.clabel(CS, inline=1, fontsize=14, fmt='%3.2f')\n",
    "plt.show()"
   ]
  },
  {
   "cell_type": "code",
   "execution_count": null,
   "metadata": {
    "collapsed": true
   },
   "outputs": [],
   "source": [
    "import scipy.ndimage"
   ]
  },
  {
   "cell_type": "code",
   "execution_count": null,
   "metadata": {
    "collapsed": true
   },
   "outputs": [],
   "source": [
    "fig, ax = plt.subplots(figsize=(8, 7))\n",
    "\n",
    "# neg pos contourf symlog\n",
    "levelsf = [1e-2, 2e-2, 5e-2, 1e-1, 2e-1, 5e-1, 1, 2, 5, 10, 20, 50, 100, 200, 500]\n",
    "#levels = [1e-3, *np.logspace(0, 9, num=500, base=2)]\n",
    "levels = [1e-2, 2e-2, 5e-2, 1e-1, 2e-1, 5e-1,*np.logspace(0, 9, num=500, base=2)]\n",
    "#norm = mpl.colors.Normalize(vmin=levels[0], vmax=levels[-1])\n",
    "#norm = mpl.colors.LogNorm(vmin=1, vmax=data.max())\n",
    "norm = mpl.colors.BoundaryNorm(boundaries=np.array(levels), ncolors=256)\n",
    "#CM = ax.pcolormesh(X, Y, data, cmap=cm.gist_heat_r, norm=norm)\n",
    "\n",
    "#norm = mpl.colors.LogNorm(vmin=1, vmax=data.max())\n",
    "#CM = ax.pcolormesh(X, Y, data, cmap=cm.gist_heat_r, norm=norm)\n",
    "\n",
    "#CM = ax.contourf(X, Y, data, cmap=cm.magma_r, levels=levels, norm=norm)\n",
    "#CM = ax.contourf(X, Y, data, 50, cmap=cm.magma_r, norm=norm)\n",
    "\n",
    "# hatches=['/','/','/', '/', *[None]*(len(levels)-1)]\n",
    "hatches=[*[None]*(len(levelsf))]\n",
    "\n",
    "tmp = np.copy(data)\n",
    "tmp2 = np.copy(data)\n",
    "tmp[tmp<1e-4]=1e-4\n",
    "\n",
    "norm = mpl.colors.LogNorm(vmin=1e-3, vmax=1e3)\n",
    "levelsfl = np.logspace(-4, 4, num=9, base=10)\n",
    "CSF = ax.contourf(X, Y, tmp, cmap=cm.coolwarm_r, levels=levelsfl, vmin=1e-3, vmax=1e3,\n",
    "                 hatches=hatches, norm=norm)\n",
    "\n",
    "\n",
    "CS = ax.contour(scipy.ndimage.zoom(tmp, 10), levels=levelsfl[4:], colors='k', linewidths=1.5)\n",
    "CS2 = ax.contour(X, Y, tmp, levels=levelsfl[:4], colors='k', linewidths=1.5)\n",
    "\n",
    "qmin = -15\n",
    "qmax = 5\n",
    "ax.set_yticks(np.arange(qmin, qmax+1))\n",
    "plt.ylim([qmin, qmax])\n",
    "plt.xlim([1, 100])\n",
    "\n",
    "CB = plt.colorbar(CSF)\n",
    "#CB.add_lines(CS)\n",
    "CB.ax.set_ylabel('Enhancement factor', rotation=270, fontsize=16, labelpad=20)\n",
    "#CB.set_ticks(levelsf[2:])\n",
    "ax.set_xlabel('Diameter of particle 1 (nm)', size=16)\n",
    "ax.set_ylabel('Charge of particle 1 (e)', size=16)\n",
    "ax.yaxis.set_ticks_position('left')\n",
    "#ax.set_yticks(np.arange(-5, 6))\n",
    "ax.set_xticks([1, *np.arange(20, 120, 20)])\n",
    "for tick in ax.xaxis.get_major_ticks():\n",
    "    tick.label.set_fontsize(14)\n",
    "for tick in ax.yaxis.get_major_ticks():\n",
    "    tick.label.set_fontsize(14)\n",
    "CB.ax.tick_params(labelsize=14)\n",
    "CB.add_lines(CS)\n",
    "CB.add_lines(CS2)\n",
    "plt.clabel(CS, inline=1, fontsize=14, fmt='%3.2f')\n",
    "plt.show()"
   ]
  },
  {
   "cell_type": "code",
   "execution_count": null,
   "metadata": {
    "collapsed": true
   },
   "outputs": [],
   "source": [
    "from scipy.interpolate import griddata"
   ]
  },
  {
   "cell_type": "code",
   "execution_count": null,
   "metadata": {
    "collapsed": true
   },
   "outputs": [],
   "source": [
    "grid_x, grid_y = np.meshgrid(np.linspace(1, 100, 1000, endpoint=True), np.linspace(-296, 5, 1000, endpoint=True))"
   ]
  },
  {
   "cell_type": "code",
   "execution_count": null,
   "metadata": {
    "collapsed": true
   },
   "outputs": [],
   "source": [
    "grid_z0 = griddata((X.flatten(), Y.flatten()), data.flatten(), (grid_x, grid_y), method='linear')"
   ]
  },
  {
   "cell_type": "code",
   "execution_count": null,
   "metadata": {
    "collapsed": true
   },
   "outputs": [],
   "source": [
    "fig = plt.figure(figsize=(9,9))\n",
    "plt.imshow(grid_z0, origin='lower', cmap=cm.gist_heat)\n",
    "plt.show()"
   ]
  },
  {
   "cell_type": "code",
   "execution_count": null,
   "metadata": {
    "collapsed": true
   },
   "outputs": [],
   "source": [
    "fig, ax = plt.subplots(figsize=(8, 7))\n",
    "\n",
    "# neg pos contourf symlog\n",
    "levelsf = [1e-2, 2e-2, 5e-2, 1e-1, 2e-1, 5e-1, 1, 2, 5, 10, 20, 50, 100, 200, 500]\n",
    "#levels = [1e-3, *np.logspace(0, 9, num=500, base=2)]\n",
    "levels = [1e-2, 2e-2, 5e-2, 1e-1, 2e-1, 5e-1,*np.logspace(0, 9, num=500, base=2)]\n",
    "#norm = mpl.colors.Normalize(vmin=levels[0], vmax=levels[-1])\n",
    "#norm = mpl.colors.LogNorm(vmin=1, vmax=data.max())\n",
    "norm = mpl.colors.BoundaryNorm(boundaries=np.array(levels), ncolors=256)\n",
    "#CM = ax.pcolormesh(grid_x, grid_Y, data, cmap=cm.gist_heat_r, norm=norm)\n",
    "\n",
    "#norm = mpl.colors.LogNorm(vmin=1, vmax=data.max())\n",
    "#CM = ax.pcolormesh(grid_x, grid_Y, data, cmap=cm.gist_heat_r, norm=norm)\n",
    "\n",
    "#CM = ax.contourf(grid_x, grid_Y, data, cmap=cm.magma_r, levels=levels, norm=norm)\n",
    "#CM = ax.contourf(grid_x, grid_Y, data, 50, cmap=cm.magma_r, norm=norm)\n",
    "\n",
    "# hatches=['/','/','/', '/', *[None]*(len(levels)-1)]\n",
    "hatches=[*[None]*(len(levelsf))]\n",
    "\n",
    "norm = mpl.colors.LogNorm(vmin=1e-3, vmax=1e3)\n",
    "levelsfl = np.logspace(-4, 4, num=9, base=10)\n",
    "CSF = ax.contourf(grid_x, grid_y, grid_z0, cmap=cm.coolwarm_r, levels=levelsfl, vmin=1e-3, vmax=1e3,\n",
    "                 hatches=hatches, norm=norm)\n",
    "\n",
    "\n",
    "CS = ax.contour(grid_x, grid_y, grid_z0, levels=levelsfl[4:], colors='k', linewidths=1.5)\n",
    "CS2 = ax.contour(grid_x, grid_y, grid_z0, levels=levelsfl[:4], colors='k', linewidths=1.5)\n",
    "\n",
    "qmin = -15\n",
    "qmax = 5\n",
    "ax.set_yticks(np.arange(qmin, qmax+1))\n",
    "plt.ylim([qmin, qmax])\n",
    "#plt.ylim([-5, 5])\n",
    "\n",
    "CB = plt.colorbar(CSF)\n",
    "#CB.add_lines(CS)\n",
    "CB.ax.set_ylabel('Enhancement factor', rotation=270, fontsize=16, labelpad=20)\n",
    "#CB.set_ticks(levelsf[2:])\n",
    "ax.set_xlabel('Diameter of particle 1 (nm)', size=16)\n",
    "ax.set_ylabel('Charge of particle 1 (e)', size=16)\n",
    "ax.yaxis.set_ticks_position('left')\n",
    "#ax.set_yticks(np.arange(-5, 6))\n",
    "ax.set_xticks([1, *np.arange(20, 120, 20)])\n",
    "for tick in ax.xaxis.get_major_ticks():\n",
    "    tick.label.set_fontsize(14)\n",
    "for tick in ax.yaxis.get_major_ticks():\n",
    "    tick.label.set_fontsize(14)\n",
    "CB.ax.tick_params(labelsize=14)\n",
    "CB.add_lines(CS)\n",
    "CB.add_lines(CS2)\n",
    "plt.clabel(CS, inline=1, fontsize=14, fmt='%3.2f')\n",
    "plt.show()"
   ]
  },
  {
   "cell_type": "code",
   "execution_count": null,
   "metadata": {
    "collapsed": true
   },
   "outputs": [],
   "source": [
    "fig, ax = plt.subplots(figsize=(8, 7))\n",
    "\n",
    "levelsf = np.array([1e-2, 2e-2, 5e-2, 1e-1, 2e-1, 5e-1, 1, 2, 5, 10, 20, 50, 100, 200, 500, 1000])\n",
    "levelsf2 = np.array([1e-2, 2e-2, 5e-2, 1e-1, 2e-1, 5e-1, 1, 2, 5, 10, 20, 50, 100, 200, 500, 750, 1000])\n",
    "\n",
    "#levelsf2 = np.logspace(np.log10(tmp.min()), np.log10(tmp.max()), num=256, base=10)\n",
    "levelsf2 = np.logspace(-4, 3, num=256, base=10)\n",
    "\n",
    "#levelsf2 = np.array([1e-3, *np.logspace(0, 9, num=500, base=2)])\n",
    "#levels = [1e-3, *np.logspace(0, 9, num=500, base=2)]\n",
    "#levels = np.array([1e-1, *np.logspace(0, 9, num=500, base=2)])\n",
    "#levels = [*np.logspace(0, 9, num=500, base=2)]\n",
    "norm = mpl.colors.BoundaryNorm(boundaries=np.array(levels), ncolors=256)\n",
    "vmin = levelsf2.min()\n",
    "vmax = levelsf2.max()\n",
    "\n",
    "CSF = ax.contourf(grid_x, grid_y, grid_z0, cmap=cm.coolwarm_r, levels=levelsf2, norm=MidpointNormalize(clip=False,midpoint=.5, vmin=vmin, vmax=vmax), vmin=vmin, vmax=vmax,\n",
    "                 hatches=hatches)\n",
    "\n",
    "CS = ax.contour(grid_x, grid_y, grid_z0, levels=levelsf, colors='k', linewidths=1)\n",
    "#CS2 = ax.contour(X, Y, tmp, levels=levelsf[:6], colors='k', linewidths=1)\n",
    "qmin = -15\n",
    "qmax = 5\n",
    "ax.set_yticks(np.arange(qmin, qmax+1))\n",
    "plt.ylim([qmin, qmax])\n",
    "#plt.yscale(\"symlog\")\n",
    "#plt.ylim([-5, 5])\n",
    "\n",
    "CB = plt.colorbar(CSF, extend='both')\n",
    "CB.add_lines(CS)\n",
    "#CB.add_lines(CS2)\n",
    "CB.ax.set_ylabel('Enhancement factor', rotation=270, fontsize=16, labelpad=20)\n",
    "CB.set_ticks(levelsf)\n",
    "\n",
    "CB.ax.set_yticklabels([('{:.2f}'.format(x) if x < 1 else '{:.0f}'.format(x)) for x in levelsf], fontsize=14)\n",
    "\n",
    "ax.set_xlabel('Diameter of particle 1 (nm)', size=16)\n",
    "ax.set_ylabel('Charge of particle 1 (e)', size=16)\n",
    "ax.yaxis.set_ticks_position('left')\n",
    "#ax.set_yticks(np.arange(-5, 6))\n",
    "ax.set_xticks([1, *np.arange(20, 120, 20)])\n",
    "for tick in ax.xaxis.get_major_ticks():\n",
    "    tick.label.set_fontsize(14)\n",
    "for tick in ax.yaxis.get_major_ticks():\n",
    "    tick.label.set_fontsize(14)\n",
    "CB.ax.tick_params(labelsize=14)\n",
    "plt.clabel(CS, CS.levels[6:], inline=True, fontsize=14, fmt='%1.1f')\n",
    "plt.show()"
   ]
  },
  {
   "cell_type": "code",
   "execution_count": null,
   "metadata": {
    "collapsed": true
   },
   "outputs": [],
   "source": [
    "grid_x.shape"
   ]
  },
  {
   "cell_type": "code",
   "execution_count": null,
   "metadata": {
    "collapsed": true
   },
   "outputs": [],
   "source": [
    "grid_y.shape"
   ]
  },
  {
   "cell_type": "code",
   "execution_count": null,
   "metadata": {
    "collapsed": true
   },
   "outputs": [],
   "source": [
    "points = np.random.rand(1000, 2)"
   ]
  },
  {
   "cell_type": "code",
   "execution_count": null,
   "metadata": {
    "collapsed": true
   },
   "outputs": [],
   "source": [
    "np.array([test.dpivots, test.qpivots]).T"
   ]
  },
  {
   "cell_type": "code",
   "execution_count": null,
   "metadata": {
    "collapsed": true
   },
   "outputs": [],
   "source": [
    "points.shape"
   ]
  },
  {
   "cell_type": "code",
   "execution_count": null,
   "metadata": {
    "collapsed": true
   },
   "outputs": [],
   "source": [
    "points[10]"
   ]
  },
  {
   "cell_type": "code",
   "execution_count": null,
   "metadata": {
    "collapsed": true
   },
   "outputs": [],
   "source": [
    "X.shape"
   ]
  },
  {
   "cell_type": "code",
   "execution_count": null,
   "metadata": {
    "collapsed": true
   },
   "outputs": [],
   "source": [
    "len(X.flatten())"
   ]
  },
  {
   "cell_type": "code",
   "execution_count": null,
   "metadata": {
    "collapsed": true
   },
   "outputs": [],
   "source": [
    "len(Y.flatten())"
   ]
  },
  {
   "cell_type": "code",
   "execution_count": null,
   "metadata": {
    "collapsed": true
   },
   "outputs": [],
   "source": [
    "len(data.flatten())"
   ]
  },
  {
   "cell_type": "code",
   "execution_count": null,
   "metadata": {
    "collapsed": true
   },
   "outputs": [],
   "source": [
    "Y.shape"
   ]
  },
  {
   "cell_type": "code",
   "execution_count": null,
   "metadata": {
    "collapsed": true
   },
   "outputs": [],
   "source": [
    "data.shape"
   ]
  },
  {
   "cell_type": "code",
   "execution_count": null,
   "metadata": {
    "collapsed": true
   },
   "outputs": [],
   "source": [
    "grid_z0.T.shape"
   ]
  },
  {
   "cell_type": "code",
   "execution_count": null,
   "metadata": {
    "collapsed": true
   },
   "outputs": [],
   "source": [
    "fig = plt.figure()\n",
    "plt.imshow(grid_z0, origin='lower')\n",
    "plt.show()"
   ]
  },
  {
   "cell_type": "code",
   "execution_count": null,
   "metadata": {
    "collapsed": true
   },
   "outputs": [],
   "source": [
    "len(test.dpivots)"
   ]
  },
  {
   "cell_type": "code",
   "execution_count": null,
   "metadata": {
    "collapsed": true
   },
   "outputs": [],
   "source": [
    "data[:40,:].shape"
   ]
  },
  {
   "cell_type": "code",
   "execution_count": null,
   "metadata": {
    "collapsed": true
   },
   "outputs": [],
   "source": [
    "np.array([Y, X]).T.shape"
   ]
  },
  {
   "cell_type": "code",
   "execution_count": null,
   "metadata": {
    "collapsed": true
   },
   "outputs": [],
   "source": [
    "np.array([test.qpivots, test.dpivots])"
   ]
  },
  {
   "cell_type": "code",
   "execution_count": null,
   "metadata": {
    "collapsed": true
   },
   "outputs": [],
   "source": [
    "test.dpivots.shape"
   ]
  },
  {
   "cell_type": "code",
   "execution_count": null,
   "metadata": {
    "collapsed": true
   },
   "outputs": [],
   "source": [
    "np.random.rand(1000, 2).shape"
   ]
  },
  {
   "cell_type": "code",
   "execution_count": null,
   "metadata": {
    "collapsed": true
   },
   "outputs": [],
   "source": [
    "grid_z1 = griddata(points, values, (grid_x, grid_y), method='linear')\n",
    "grid_z2 = griddata(points, values, (grid_x, grid_y), method='cubic')"
   ]
  },
  {
   "cell_type": "code",
   "execution_count": null,
   "metadata": {
    "collapsed": true
   },
   "outputs": [],
   "source": [
    "from scipy.interpolate import Rbf"
   ]
  },
  {
   "cell_type": "code",
   "execution_count": null,
   "metadata": {
    "collapsed": true
   },
   "outputs": [],
   "source": [
    "rbf = Rbf(X, Y, data, epsilon=2)"
   ]
  },
  {
   "cell_type": "code",
   "execution_count": null,
   "metadata": {
    "collapsed": true
   },
   "outputs": [],
   "source": [
    "ZI = rbf(grid_y, grid_x)"
   ]
  },
  {
   "cell_type": "code",
   "execution_count": null,
   "metadata": {
    "collapsed": true
   },
   "outputs": [],
   "source": [
    "plt.subplot(1, 1, 1)\n",
    "plt.pcolor(grid_x, grid_y, ZI, cmap=cm.jet)\n",
    "plt.show()"
   ]
  },
  {
   "cell_type": "code",
   "execution_count": null,
   "metadata": {
    "collapsed": true
   },
   "outputs": [],
   "source": []
  },
  {
   "cell_type": "code",
   "execution_count": null,
   "metadata": {
    "collapsed": true
   },
   "outputs": [],
   "source": []
  },
  {
   "cell_type": "code",
   "execution_count": null,
   "metadata": {
    "collapsed": true
   },
   "outputs": [],
   "source": []
  },
  {
   "cell_type": "code",
   "execution_count": null,
   "metadata": {
    "collapsed": true
   },
   "outputs": [],
   "source": [
    "class plot4d(object):\n",
    "    def __init__(self, h5gridprefix = None, idb=0, idt=10, iqn = 26, iqp = 35):\n",
    "        '''\n",
    "        '''\n",
    "        self.defpath = r'/home/ben/git/ndust/data/'\n",
    "\n",
    "        self.h5gridprefix = h5gridprefix\n",
    "        self.h5gridprefix = self.defpath + self.h5gridprefix\n",
    "\n",
    "        # Read grid file\n",
    "        self.gridfname = self.h5gridprefix + '.h5'\n",
    "        self.gridfile =  h5py.File(self.gridfname, 'r')\n",
    "\n",
    "        ## group volumes\n",
    "        self.gvols = self.gridfile.get(\"Volume_sections\")\n",
    "        self.vifaces = np.array(self.gvols.get(\"Interfaces\"))\n",
    "\n",
    "        ## interfaces in diameters nm\n",
    "        self.vifaces_diam = np.power(6.0*self.vifaces/np.pi, 1.0/3.0)*1E9\n",
    "\n",
    "        ## WARNING diameter pivots in nanometres\n",
    "        self.vpivots = np.array(self.gvols.get(\"Volumes\"))\n",
    "\n",
    "        ## pivots in diameters\n",
    "        self.dpivots = np.array(self.gvols.get(\"Diameters\"))*1E9\n",
    "\n",
    "        ## group charges\n",
    "        self.gchgs = self.gridfile.get(\"Charge_sections\")\n",
    "\n",
    "        self.qpivots = np.array(self.gchgs.get(\"Charges\"))\n",
    "        #self.qifaces = np.append()\n",
    "        #np.array(self.gchgs.get(\"qifaces\"))\n",
    "\n",
    "        self.idb = []\n",
    "        self.idt = []\n",
    "        self.iqn = []\n",
    "        self.iqp = []\n",
    "        self.set_grid(idb, idt, iqn, iqp)\n",
    "\n",
    "        self.gcoagulation = self.gridfile.get(\"Coagulation_rate\")\n",
    "        self.gefactor = self.gridfile.get(\"Enhancement_factor\")\n",
    "        self.loglevels = np.array([0, 1, 20, 50, 100, 200, 500])\n",
    "        self.hatches=['/', *[None]*(len(self.loglevels)-1)]\n",
    "        self.hsize = []\n",
    "        self.vsize = []\n",
    "\n",
    "    def set_grid(self, idb, idt, iqn, iqp):\n",
    "        self.idb = idb# index for minimum diameter\n",
    "        self.idt = idt# index for maximum diameter\n",
    "        self.iqn = iqn# index for negative charges\n",
    "        self.iqp = iqp# index for positive charges\n",
    "        # make grid\n",
    "        self.X, self.Y = np.meshgrid(self.dpivots[idb:idt], self.qpivots[iqn:iqp])\n",
    "        self.extents_linear = [0, len(self.dpivots[idb:idt]), 0, len(self.qpivots[iqn:iqp])]\n",
    "\n",
    "    def get(self, name):\n",
    "        efactor = np.array(self.gefactor.get(name))\n",
    "        # get one dataset for testing    \n",
    "        result = np.array(self.gcoagulation.get(name))\n",
    "        res_gt_0 = result > 0\n",
    "        log10res = np.zeros_like(result)\n",
    "        log10res[res_gt_0] = np.log10(result[res_gt_0])\n",
    "        return result, log10res, efactor\n",
    "\n",
    "    def close(self):\n",
    "        self.gridfile.close()\n",
    "\n",
    "    def plot_fcontours(self, ax, data, levelsf=None, cmap=cm.plasma):\n",
    "        \"\"\"\n",
    "        \"\"\"\n",
    "        if levelsf is None:\n",
    "            levelsf = np.arange(1, 18, 2)\n",
    "\n",
    "        norm = mpl.colors.Normalize(vmin=levelsf[0], vmax=levelsf[-1])\n",
    "        \n",
    "        # restrict data to grid\n",
    "        datagrid = data[self.iqn:self.iqp, self.idb:self.idt]\n",
    "#     self.axis(axislabel)\n",
    "#     self.minorticks(fig)\n",
    "\n",
    "\n",
    "#     CSF = ax.pcolormesh(X, Y, data, cmap=cmap)#,\n",
    "#                       #extent=self.extents_linear)\n",
    "\n",
    "#         CSF = ax.contourf(self.X[25:], self.Y[25:], data[25:], levelsf, cmap=cmap, origin='lower', norm=norm,\n",
    "#                       extent=self.extents_linear)\n",
    "#         CS = ax.contour(self.X[25:], self.Y[25:], data[25:], levels=levelsf, origin='lower',\n",
    "#                     colors='k', linewidths=1.5)\n",
    "        CSF = ax.contourf(self.X, self.Y, datagrid, levelsf, cmap=cmap,\n",
    "                          origin='lower', norm=norm, extent=self.extents_linear,\n",
    "                          hatches=self.hatches, extend='max')\n",
    "        CS = ax.contour(self.X, self.Y, datagrid, levels=levelsf, origin='lower',\n",
    "                        colors='k', linewidths=1.5)\n",
    "        return CSF, CS\n",
    "    def plot(self, llist, qlist, levelsf=np.logspace(0, 3, 20), xaxticks=None,\n",
    "             yaxticks=None, filename='name', hsize=None, vsize=None):\n",
    "        data = []\n",
    "        \n",
    "        for ll in llist:\n",
    "            for ql in qlist:\n",
    "                # iterate in datasets of gefactor\n",
    "                for ds in self.gefactor.keys():\n",
    "                    lp = self.gefactor.get(str(ds)).attrs.get('l')\n",
    "                    qp = self.gefactor.get(str(ds)).attrs.get('q')\n",
    "                    if(ll==lp and ql==qp):\n",
    "                        #print(ll, ql)\n",
    "                        data.append(np.array(self.gefactor.get(str(ds))))\n",
    "                        #print(np.array(m4d.gefactor.get(str(ds))).shape)\n",
    "#         data.append(self.get(rl)[2])\n",
    "        if not hsize:\n",
    "            self.hsize = len(qlist)*4.5\n",
    "        else:\n",
    "            self.hsize = hsize\n",
    "        if not vsize:\n",
    "            self.vsize = len(llist)*3.5\n",
    "        else:\n",
    "            self.vsize = vsize\n",
    "        #hsize = len(qlist)*4.5/3.5\n",
    "        fig, axes = plt.subplots(nrows=len(qlist), ncols=len(llist), figsize=(self.hsize, self.vsize))\n",
    "#     plt.setp(axes.flat, xticks=[], yticks=[])\n",
    "\n",
    "        for ax in axes.flat:\n",
    "            # Hide all ticks and labels\n",
    "            ax.xaxis.set_visible(False)\n",
    "            ax.yaxis.set_visible(False)\n",
    "\n",
    "#         # Set up ticks only on one side for the \"edge\" subplots...\n",
    "#         if ax.is_first_col():\n",
    "#             ax.yaxis.set_ticks_position('left')\n",
    "#         if ax.is_last_col():\n",
    "#             ax.yaxis.set_ticks_position('left')\n",
    "#         if ax.is_first_row():\n",
    "#             ax.xaxis.set_ticks_position('bottom')\n",
    "#         if ax.is_last_row():\n",
    "#             ax.xaxis.set_ticks_position('bottom')\n",
    "            \n",
    "        i=0\n",
    "        for col, l in zip(axes.T, llist):\n",
    "            for ax, q in zip(col, qlist):        \n",
    "                CSF, CS = self.plot_fcontours(ax, data[i], levelsf=self.loglevels, cmap=cm.gist_heat_r)\n",
    "                i = i+1\n",
    "\n",
    "    # for ax, r in zip(axes[0], r1):    \n",
    "    #     for ax, q in zip(axes[:, -1], q1):\n",
    "    #         plot_fcontours(ax, m4d.X, m4d.Y, ef28, levelsf=np.logspace(0, 3, 20))\n",
    "    # Label rows and columns\n",
    "\n",
    "#     for ax, l in zip(axes[0], llist):\n",
    "#         ax.set_title(str(self.dpivots[l]), size=14)\n",
    "#         ax.yaxis.set_visible(True)\n",
    "\n",
    "#     for ax, q in zip(axes[:, -1], qlist):\n",
    "#         ax.set_ylabel(str(self.qpivots[q]), size=14)\n",
    "#         ax.yaxis.set_label_position(\"right\")\n",
    "#         ax.get_yaxis().set_ticks([])\n",
    "#         ax.yaxis.set_visible(True)\n",
    "\n",
    "\n",
    "#     for ax, q in zip(axes[:, 0], qlist):\n",
    "#         ax.set_ylabel('Charge of particle 1', size=14)\n",
    "#         #ax.yaxis.set_label_position(\"left\")\n",
    "#         ax.yaxis.set_ticks_position('left')\n",
    "#         ax.yaxis.set_visible(True)\n",
    "        \n",
    "#     for ax, l in zip(axes[len(llist)-1], llist):\n",
    "#         ax.xaxis.set_ticks_position('bottom')\n",
    "#         ax.set_xlabel('Diameter of particle 1', size=14)\n",
    "#         ax.xaxis.set_visible(True)\n",
    "        axes[len(col)-1, 0].xaxis.set_visible(True)\n",
    "        axes[len(col)-1, 0].set_xlabel('Diameter of particle 1 (nm)', size=16)\n",
    "        axes[len(col)-1, 0].yaxis.set_visible(True)\n",
    "        axes[len(col)-1, 0].set_ylabel('Charge of particle 1 (e)', size=16)\n",
    "        axes[len(col)-1, 0].yaxis.set_ticks_position('left')\n",
    "        for ax in axes.flat:\n",
    "            ax.xaxis.set_visible(True)\n",
    "            ax.yaxis.set_visible(True)\n",
    "            ax.xaxis.set_ticks_position('bottom')\n",
    "            ax.yaxis.set_ticks_position('left')\n",
    "            for tick in ax.xaxis.get_major_ticks():\n",
    "                tick.label.set_fontsize(14)\n",
    "            ax.set_yticks(self.Y[:, 0])\n",
    "            if xaxticks:\n",
    "                ax.set_xticks(xaxticks)\n",
    "            if yaxticks:\n",
    "                ax.set_yticks(yaxticks)\n",
    "            for tick in ax.xaxis.get_major_ticks():\n",
    "                tick.label.set_fontsize(14)\n",
    "            for tick in ax.yaxis.get_major_ticks():\n",
    "                tick.label.set_fontsize(14)\n",
    "            #ax.get_xaxis().set_tick_params(direction='out', width=5)\n",
    "            #ax.get_yaxis().set_tick_params(direction='out', width=1)\n",
    "                \n",
    "        for ax, l in zip(axes[0], llist):\n",
    "            ax.set_title('{:.1f}'.format((self.dpivots[l])), size=16)\n",
    "            ax.yaxis.set_visible(True)\n",
    "\n",
    "        for ax, q in zip(axes[:, -1], qlist):\n",
    "            ax.set_ylabel('{:+.0f}'.format((self.qpivots[q])), size=16, rotation=270, labelpad=20)\n",
    "            ax.yaxis.set_label_position(\"right\")\n",
    "            ax.xaxis.set_visible(True)\n",
    "            for tick in ax.xaxis.get_major_ticks():\n",
    "                tick.label.set_fontsize(14)\n",
    "        \n",
    "# #     Turn on the proper x or y axes ticks.\n",
    "#     for i, j in zip(range(numvars), itertools.cycle((-1, 0))):\n",
    "#         axes[j,i].xaxis.set_visible(True)\n",
    "#         axes[i,j].yaxis.set_visible(True)\n",
    "\n",
    "#     print(axes)\n",
    "#     [axes[len(llist)-1, j].xaxis.set_visible(True) for j in llist]\n",
    "# fig.colorbar(im, ax=axes.ravel().tolist())\n",
    "        plt.gcf().text(0.3, 0.92,\"Diameter of particle 2 (nm)\", ha=\"left\", fontsize=20)\n",
    "        plt.gcf().text(0.72, 0.64,\"Charge of particle 2 (e)\", ha=\"left\", fontsize=20, rotation=-90)\n",
    "        CB = fig.colorbar(CSF, ax=axes.ravel().tolist(), pad=0.12)\n",
    "        #    CB.ax.set_ylabel(axislabel[2], fontsize=self.xc.label_fontsize1)\n",
    "        #     CB.ax.tick_params(labelsize=self.xc.tick_fontsize)\n",
    "        CB.add_lines(CS)\n",
    "        CB.ax.set_ylabel('Enhancement factor', rotation=270, fontsize=20, labelpad=20)\n",
    "        CB.ax.tick_params(labelsize=14)\n",
    "\n",
    "        #     plt.suptitle(\"Radii of particle 2\")\n",
    "        plt.savefig(filename+'.eps')\n",
    "        plt.show()\n",
    "        #\n",
    "    def plot_vs_charge(self, d1_index=0, d2_index=0, q2_index=0, filename='name', q1_indices=None, leg=True):\n",
    "        data = []\n",
    "        \n",
    "        if np.size(q1_indices)==0:\n",
    "            q1_indices = np.arange(len(self.qpivots))\n",
    "\n",
    "        # iterate in datasets of gefactor\n",
    "        for ds in self.gefactor.keys():\n",
    "            lp = self.gefactor.get(str(ds)).attrs.get('l')\n",
    "            qp = self.gefactor.get(str(ds)).attrs.get('q')\n",
    "            if(d2_index==lp and q2_index==qp):\n",
    "                #print(np.shape(np.array(self.gefactor.get(str(ds)))[q1_indices,d1_index]))\n",
    "                data= np.array(self.gefactor.get(str(ds)))[q1_indices,d1_index]\n",
    "                #print(np.array(m4d.gefactor.get(str(ds))).shape)\n",
    "        fig, ax = plt.subplots(1, 1, figsize=(7, 5.85))\n",
    "        ax.bar(self.qpivots[q1_indices], data)\n",
    "        #     plt.suptitle(\"Radii of particle 2\")\n",
    "        #plt.savefig(filename+'.eps')\n",
    "        if leg:\n",
    "            text = r\"$d_1=$\"+str(self.dpivots[d1_index])+ \" nm\\n\"+ r\"$d_2=$\"+str(self.dpivots[d2_index])+ \" nm\\n\"+r\"$q_2=$\"+str(int(self.qpivots[q2_index]))\n",
    "            ax.text(0.5, 0.5, text, horizontalalignment='right', verticalalignment='top',\n",
    "                 multialignment='left', fontsize=20, transform=ax.transAxes)\n",
    "            #plt.tight_layout()\n",
    "        #lt.yscale('symlog')\n",
    "        for tick in ax.xaxis.get_major_ticks():\n",
    "            tick.label.set_fontsize(20)\n",
    "        for tick in ax.yaxis.get_major_ticks():\n",
    "            tick.label.set_fontsize(20)\n",
    "        ax.set_xlabel('Charge of particle 1 (e)', size=20)\n",
    "        ax.set_ylabel('Enhancement factor', size=20)\n",
    "#         print(self.qpivots[q1_indices])\n",
    "        plt.savefig(filename+'.eps', bbox_inches='tight')\n",
    "        plt.show()\n",
    "        return self.qpivots[q1_indices], data\n",
    "        #\n",
    "    def plot_vs_diam(self, q1_index=0, d2_index=0, q2_index=0, filename='name', d1_indices=None):\n",
    "        data = []\n",
    "        \n",
    "        if np.size(d1_indices)==0:\n",
    "            d1_indices = np.arange(len(self.dpivots))\n",
    "\n",
    "        # iterate in datasets of gefactor\n",
    "        for ds in self.gefactor.keys():\n",
    "            lp = self.gefactor.get(str(ds)).attrs.get('l')\n",
    "            qp = self.gefactor.get(str(ds)).attrs.get('q')\n",
    "            if(d2_index==lp and q2_index==qp):\n",
    "                #print(np.shape(np.array(self.gefactor.get(str(ds)))[q1_index, d1_indices]))\n",
    "                data= np.array(self.gefactor.get(str(ds)))[q1_index, d1_indices]\n",
    "                #print(np.array(m4d.gefactor.get(str(ds))).shape)\n",
    "        fig, ax = plt.subplots(1, 1, figsize=(7, 5.85))\n",
    "        #ax.plot(self.dpivots[d1_indices], data, lw=3)\n",
    "        ax.bar(self.dpivots[d1_indices], data)\n",
    "        #     plt.suptitle(\"Radii of particle 2\")\n",
    "        #plt.savefig(filename+'.eps')\n",
    "        text = r\"$q_1=$\"+str(self.qpivots[q1_index])+ \" nm\\n\"+ r\"$d_2=$\"+str(self.dpivots[d2_index])+ \" nm\\n\"+r\"$q_2=$\"+str(int(self.qpivots[q2_index]))\n",
    "        ax.text(0.5, 0.5, text, horizontalalignment='right', verticalalignment='top',\n",
    "                 multialignment='left', fontsize=20, transform=ax.transAxes)\n",
    "        #lt.yscale('symlog')\n",
    "        for tick in ax.xaxis.get_major_ticks():\n",
    "            tick.label.set_fontsize(20)\n",
    "        for tick in ax.yaxis.get_major_ticks():\n",
    "            tick.label.set_fontsize(20)\n",
    "        ax.set_xlabel('Diameter of particle 1 (nm)', size=20)\n",
    "        ax.set_ylabel('Enhancement factor', size=20)\n",
    "#         print(self.qpivots[q1_indices])\n",
    "        plt.savefig(filename+'.eps')\n",
    "        plt.show()\n",
    "        return self.dpivots[d1_indices], data"
   ]
  },
  {
   "cell_type": "code",
   "execution_count": null,
   "metadata": {
    "collapsed": true
   },
   "outputs": [],
   "source": [
    "np.logspace(0, 9, num=10, base=2)"
   ]
  },
  {
   "cell_type": "code",
   "execution_count": null,
   "metadata": {
    "collapsed": true
   },
   "outputs": [],
   "source": [
    "from scipy.interpolate import interp2d"
   ]
  },
  {
   "cell_type": "code",
   "execution_count": null,
   "metadata": {
    "collapsed": true
   },
   "outputs": [],
   "source": []
  }
 ],
 "metadata": {
  "kernelspec": {
   "display_name": "Python 3",
   "language": "python",
   "name": "python3"
  },
  "language_info": {
   "codemirror_mode": {
    "name": "ipython",
    "version": 3
   },
   "file_extension": ".py",
   "mimetype": "text/x-python",
   "name": "python",
   "nbconvert_exporter": "python",
   "pygments_lexer": "ipython3",
   "version": "3.6.2"
  }
 },
 "nbformat": 4,
 "nbformat_minor": 2
}
